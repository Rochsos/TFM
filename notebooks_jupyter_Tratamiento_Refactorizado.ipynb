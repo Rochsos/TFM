{
 "cells": [
  {
   "cell_type": "markdown",
   "id": "d74dcb10-90a6-4d4d-b5c7-ac340772f283",
   "metadata": {},
   "source": [
    "# Librerías"
   ]
  },
  {
   "cell_type": "code",
   "execution_count": 1,
   "id": "06a07576-0c9e-46c5-9de0-abf9ed7bf484",
   "metadata": {},
   "outputs": [],
   "source": [
    "import json\n",
    "import pandas as pd\n",
    "import gcsfs\n",
    "import lzma\n",
    "import os\n",
    "import csv"
   ]
  },
  {
   "cell_type": "markdown",
   "id": "d315356f-ee4d-483a-937c-06669d546ba9",
   "metadata": {},
   "source": [
    "# Creación de la Base de Datos"
   ]
  },
  {
   "cell_type": "markdown",
   "id": "99286da7-a87d-437c-8fc4-3d7de7a275e6",
   "metadata": {},
   "source": [
    "Para esta versión del tratamiento de los datos se ha conseguido unificar los procesos que permiten la extracción de la información para un determinado tipo de influencer y de sector de forma que ahora **se ha generalizado el proceso** con la finalidad de recabar la totalidad del conjunto de datos."
   ]
  },
  {
   "cell_type": "markdown",
   "id": "b30f918a-0f3c-4c88-857a-4b2f339699b2",
   "metadata": {},
   "source": [
    "### Selección de campos"
   ]
  },
  {
   "cell_type": "markdown",
   "id": "ea98324f-8fe6-4e4a-a555-1a259222ab19",
   "metadata": {},
   "source": [
    "El datalake que se desea estructurar va estar compuesto por **dos características importantes: sector y tipo de influencer**. "
   ]
  },
  {
   "cell_type": "markdown",
   "id": "fc7c2913-1969-4cf7-a6c9-f7c8402ac8c2",
   "metadata": {},
   "source": [
    "Por un lado existe el sector de la belleza y coméstica frente al del mundo del fitness y la nutrición. Independientemente esto, la recopilación de la información puede seguir generalizada en los siguientes campos: "
   ]
  },
  {
   "cell_type": "code",
   "execution_count": 2,
   "id": "9ba9e50d-40d5-4c7b-9309-fbf31bebcb1b",
   "metadata": {},
   "outputs": [],
   "source": [
    "def create_field_dict(node, owner):\n",
    "    fields = {}\n",
    "    fields['_id'] = node['id']\n",
    "    fields['username'] = owner['username']\n",
    "    fields['typename'] = node['__typename']\n",
    "    fields['is_video'] = node['is_video']\n",
    "    fields['followers']= owner['edge_followed_by']['count']\n",
    "    fields['following'] = owner['edge_follow']['count']\n",
    "    fields['verified'] = owner['is_verified']\n",
    "    fields['count_comments'] = node['edge_media_to_comment']['count']\n",
    "    fields['count_likes'] = node['edge_media_preview_like']['count']\n",
    "    fields['caption_text'] = None\n",
    "    fields['has_audio'] = node.get('has_audio')\n",
    "    fields['comments_disabled'] = node['comments_disabled']\n",
    "    fields['product_type'] = node.get('product_type')\n",
    "    fields['gating_info'] = node['gating_info']\n",
    "    fields['taken_at_timestamp'] = node['taken_at_timestamp']\n",
    "    fields['edge_liked_by'] = node.get('edge_liked_by', {}).get('count')\n",
    "    fields['coauthor_producers'] = node.get('coauthor_producers')\n",
    "    fields['is_professional_account'] = owner['is_professional_account']\n",
    "    fields['category_name'] = owner['category_name']\n",
    "    fields['biography'] = owner['biography']\n",
    "    fields['tagged_user_full_name'] = None\n",
    "    fields['tagged_is_verified'] = None\n",
    "    fields['location'] = None \n",
    "    fields['edge_media_to_sponsor_user'] = {'edges': []}\n",
    "\n",
    "\n",
    "    return fields"
   ]
  },
  {
   "cell_type": "markdown",
   "id": "d004692b-08dd-4c43-a71b-c47507a0409f",
   "metadata": {},
   "source": [
    "### Definición de campos"
   ]
  },
  {
   "cell_type": "markdown",
   "id": "7ca39807-8a70-4af2-bc15-784e6fcd422c",
   "metadata": {},
   "source": [
    "- **_id**: identificador único para cada entrada en el dataset\n",
    "\n",
    "- **username**: nombre de usuario del influencer en Instagram\n",
    "\n",
    "- **typename**: tipo de contenido publicado por el influencer (foto, vídeo o multipublicación)\n",
    "\n",
    "- **is_video**: booleano que indica si la publicación es un video\n",
    "\n",
    "- **followers**: cantidad de seguidores que tiene el influencer\n",
    "\n",
    "- **following**: cantidad de cuentas que sigue el influencer\n",
    "\n",
    "- **verified**: booleano que indica si la cuenta del influencer está verificada por Instagram\n",
    "\n",
    "- **count_comments**: cantidad de comentarios en la publicación del influencer\n",
    "\n",
    "- **count_likes**: cantidad de me gustas en la publicación del influencer\n",
    "\n",
    "- **caption_text**: texto del pie de foto de la publicación\n",
    "\n",
    "- **tagged_user_full_name**: nombre completo del usuario etiquetado en la publicación\n",
    "\n",
    "- **tagged_is_verified**: valor que indica si el usuario etiquetado está verificado\n",
    "\n",
    "- **has_audio**: valor que indica si la publicación tiene audio\n",
    "\n",
    "- **edge_media_to_sponsor_user**: detalles del usuario patrocinado asociado con la publicación, si los hay\n",
    "\n",
    "- **comments_disabled**: booleano que indica si los comentarios están deshabilitados para la publicación\n",
    "\n",
    "- **location**: ubicación geográfica asociada con la publicación\n",
    "\n",
    "- **product_type**: tipo de producto promovido en la publicación, si lo hay\n",
    "\n",
    "- **gating_info**: información sobre la publicación, pero esta columna tiene todos sus valores nulos\n",
    "\n",
    "- **taken_at_timestamp**: marca de tiempo cuando se tomó la foto o el video\n",
    "\n",
    "- **edge_liked_by**: número de me gustas que recibió la publicación\n",
    "\n",
    "- **coauthor_producers**: información sobre los coautores o productores de la publicación\n",
    "\n",
    "- **is_professional_account**: booleano que indica si la cuenta es una cuenta profesional\n",
    "\n",
    "- **category_name**: categoría de la cuenta o la publicación\n",
    "\n",
    "- **biography**: biografía del influencer\n",
    "\n"
   ]
  },
  {
   "cell_type": "markdown",
   "id": "60d8e162-8ad4-416a-93bd-0348487bcde5",
   "metadata": {},
   "source": [
    "### Validación"
   ]
  },
  {
   "cell_type": "markdown",
   "id": "d1e6f45a-1336-4ef1-93aa-0e23171e8db9",
   "metadata": {},
   "source": [
    "Existen algunas claves del diccionario en las que sus valores asociados pueden venir vacíos o no, es por esto que se repasarán aquellos que en primera instancia fueron grabados con valores **None** para ver si pueden ser rellenados"
   ]
  },
  {
   "cell_type": "code",
   "execution_count": 3,
   "id": "e7cff5b2-9486-48ba-a185-15d987f9a939",
   "metadata": {},
   "outputs": [],
   "source": [
    "def verify_field_values(fields, node):\n",
    "    try: \n",
    "        if node['edge_media_to_tagged_user']['edges']:\n",
    "            fields['tagged_user_full_name'] = node['edge_media_to_tagged_user']['edges'][0]['node']['user']['full_name']\n",
    "            fields['tagged_is_verified'] = node['edge_media_to_tagged_user']['edges'][0]['node']['user']['is_verified']\n",
    "\n",
    "        if node['edge_media_to_caption']['edges']:\n",
    "            fields['caption_text'] = node['edge_media_to_caption']['edges'][0]['node']['text']\n",
    "\n",
    "        if node['location']:\n",
    "            fields['location'] = node['location']['name']\n",
    "     \n",
    "        if node['edge_media_to_sponsor_user']['edges']:\n",
    "                fields['edge_media_to_sponsor_user'] = node['edge_media_to_sponsor_user']['edges'][0]['node']['sponsor']['username']\n",
    "    except:\n",
    "        pass\n",
    "    finally: \n",
    "        return fields"
   ]
  },
  {
   "cell_type": "markdown",
   "id": "c3f1479f-f7e8-4014-8b9e-2609fb4320bc",
   "metadata": {},
   "source": [
    "### Generación de dataframe"
   ]
  },
  {
   "cell_type": "markdown",
   "id": "cbc4a8e4-6fb8-430f-b0ce-50e663d9f431",
   "metadata": {},
   "source": [
    "Tras haber hecho la primera comprobación de que se ha podido extraer todos los datos que son requeridos para el futuro EDA, el siguiente paso se focaliza **en generar un dataset a partir de la ristra de campos** mencionada en el apartado anterior."
   ]
  },
  {
   "cell_type": "code",
   "execution_count": 4,
   "id": "caaa1f87-eb59-4eb2-9a0d-8a89d8931553",
   "metadata": {},
   "outputs": [],
   "source": [
    "def create_post_df(fields, sector_type, influencer_type):\n",
    "    fields['sector'] =  sector_type\n",
    "    fields['influencer_type'] = influencer_type\n",
    "    \n",
    "    df = None\n",
    "    try:\n",
    "        df = pd.DataFrame(fields, index=[0])\n",
    "    except:\n",
    "        pass\n",
    "    finally:\n",
    "        return df"
   ]
  },
  {
   "cell_type": "markdown",
   "id": "e51d7870-4272-4667-8047-f1de0e17a4b6",
   "metadata": {},
   "source": [
    "El código anterior muestra en primer lugar la adciön de 2 nuevas columnas que permitirán identificar cada post del usuario según el **sector** al que pertenece y como qué **tipo de influencer** es reconocido según los seguidores que posee:\n",
    "\n",
    "- **Nano-influencer**: [1000, 10000] seguidores\n",
    "- **Micro-influencer**: (10000, 100000] seguidores\n",
    "- **Macro-influencer**: 100000, 1000000] seguidores\n",
    "- **Mega-influencer**: > 1000000 seguidores"
   ]
  },
  {
   "cell_type": "markdown",
   "id": "cbf7a47f-972c-4b76-b97f-8c164034c2df",
   "metadata": {},
   "source": [
    "### Creación de un dataset a partir de una publicación"
   ]
  },
  {
   "cell_type": "markdown",
   "id": "051bc50b-5c64-4e6e-babe-a427a40bcbe3",
   "metadata": {},
   "source": [
    "Para finalizar este apartado falta un último paso que se basa en la unificación de los distintos procesos descritos anteriormente para obtener un **conjunto de datos que represente a una publicación de Instagram** de un determinado usuario"
   ]
  },
  {
   "cell_type": "code",
   "execution_count": 5,
   "id": "3aadd679-6ed0-4ee5-a818-5b70b4c15619",
   "metadata": {},
   "outputs": [],
   "source": [
    "def generate_dataframe_from_post(post_file, sector_type, influencer_type, fs):    \n",
    "    # Descargamos y leemos el archivo JSON.xz\n",
    "    with fs.open(post_file, 'rb') as file:\n",
    "        json_data = lzma.decompress(file.read())\n",
    "\n",
    "    # Decodificamos el JSON\n",
    "    data = json.loads(json_data)\n",
    "\n",
    "    # Extraemos los campos deseados\n",
    "    node = data['node']\n",
    "    owner = node['owner']\n",
    "\n",
    "    fields = create_field_dict(node, owner)\n",
    "    # Verificamos si la lista edges tiene al menos un elemento\n",
    "    fields = verify_field_values(fields, node)\n",
    "        \n",
    "    return create_post_df(fields, sector_type, influencer_type)"
   ]
  },
  {
   "cell_type": "code",
   "execution_count": 6,
   "id": "51854af9-21cc-4caf-9fb7-94a9e5bc416d",
   "metadata": {},
   "outputs": [],
   "source": [
    "# Creamos una instancia del sistema de archivos de GCS\n",
    "fs = gcsfs.GCSFileSystem(project='tfminfluencers')\n",
    "# Definimos las tuplas que serán necesarias para la recopilación de los datos\n",
    "influencer_types = ('NANO', 'MICRO', 'MACRO', 'MEGA')\n",
    "sectors = ('BEAUTY', 'FITNESS')\n",
    "\n",
    "# Obtenemos la lista de objetos en el bucket \"unir_bucket_tfm\" dentro de la carpeta \"MACRO\"\n",
    "folder_path = 'unir_bucket_tfm/notebooks/jupyter/BEAUTY/MACRO/*/*.json.xz'\n",
    "file_paths = fs.glob(folder_path)"
   ]
  },
  {
   "cell_type": "code",
   "execution_count": 7,
   "id": "8eaa951e-3e28-4faa-a71c-c7bf7ec4ca44",
   "metadata": {},
   "outputs": [],
   "source": [
    "df = generate_dataframe_from_post(file_paths[0], 'BEAUTY', 'MACRO', fs)"
   ]
  },
  {
   "cell_type": "code",
   "execution_count": 8,
   "id": "bd3e331e-22e2-4934-ae4a-b5a835bca96e",
   "metadata": {},
   "outputs": [
    {
     "data": {
      "text/html": [
       "<div>\n",
       "<style scoped>\n",
       "    .dataframe tbody tr th:only-of-type {\n",
       "        vertical-align: middle;\n",
       "    }\n",
       "\n",
       "    .dataframe tbody tr th {\n",
       "        vertical-align: top;\n",
       "    }\n",
       "\n",
       "    .dataframe thead th {\n",
       "        text-align: right;\n",
       "    }\n",
       "</style>\n",
       "<table border=\"1\" class=\"dataframe\">\n",
       "  <thead>\n",
       "    <tr style=\"text-align: right;\">\n",
       "      <th></th>\n",
       "      <th>_id</th>\n",
       "      <th>username</th>\n",
       "      <th>typename</th>\n",
       "      <th>is_video</th>\n",
       "      <th>followers</th>\n",
       "      <th>following</th>\n",
       "      <th>verified</th>\n",
       "      <th>count_comments</th>\n",
       "      <th>count_likes</th>\n",
       "      <th>caption_text</th>\n",
       "      <th>...</th>\n",
       "      <th>coauthor_producers</th>\n",
       "      <th>is_professional_account</th>\n",
       "      <th>category_name</th>\n",
       "      <th>biography</th>\n",
       "      <th>tagged_user_full_name</th>\n",
       "      <th>tagged_is_verified</th>\n",
       "      <th>location</th>\n",
       "      <th>edge_media_to_sponsor_user</th>\n",
       "      <th>sector</th>\n",
       "      <th>influencer_type</th>\n",
       "    </tr>\n",
       "  </thead>\n",
       "  <tbody>\n",
       "    <tr>\n",
       "      <th>0</th>\n",
       "      <td>2698249809409637462</td>\n",
       "      <td>aishawari</td>\n",
       "      <td>GraphVideo</td>\n",
       "      <td>True</td>\n",
       "      <td>244628</td>\n",
       "      <td>369</td>\n",
       "      <td>False</td>\n",
       "      <td>71</td>\n",
       "      <td>1997</td>\n",
       "      <td>TATUAJES💉\\n\\nHoy quería compartir con vosotras...</td>\n",
       "      <td>...</td>\n",
       "      <td>None</td>\n",
       "      <td>True</td>\n",
       "      <td>Digital creator</td>\n",
       "      <td>👩🏼‍💻Tutoriales de maquillaje y recomendaciones...</td>\n",
       "      <td>None</td>\n",
       "      <td>None</td>\n",
       "      <td>None</td>\n",
       "      <td>NaN</td>\n",
       "      <td>BEAUTY</td>\n",
       "      <td>MACRO</td>\n",
       "    </tr>\n",
       "  </tbody>\n",
       "</table>\n",
       "<p>1 rows × 26 columns</p>\n",
       "</div>"
      ],
      "text/plain": [
       "                   _id   username    typename  is_video  followers  following  \\\n",
       "0  2698249809409637462  aishawari  GraphVideo      True     244628        369   \n",
       "\n",
       "   verified  count_comments  count_likes  \\\n",
       "0     False              71         1997   \n",
       "\n",
       "                                        caption_text  ...  coauthor_producers  \\\n",
       "0  TATUAJES💉\\n\\nHoy quería compartir con vosotras...  ...                None   \n",
       "\n",
       "   is_professional_account    category_name  \\\n",
       "0                     True  Digital creator   \n",
       "\n",
       "                                           biography  tagged_user_full_name  \\\n",
       "0  👩🏼‍💻Tutoriales de maquillaje y recomendaciones...                   None   \n",
       "\n",
       "  tagged_is_verified location  edge_media_to_sponsor_user  sector  \\\n",
       "0               None     None                         NaN  BEAUTY   \n",
       "\n",
       "  influencer_type  \n",
       "0           MACRO  \n",
       "\n",
       "[1 rows x 26 columns]"
      ]
     },
     "execution_count": 8,
     "metadata": {},
     "output_type": "execute_result"
    }
   ],
   "source": [
    "df.head()"
   ]
  },
  {
   "cell_type": "markdown",
   "id": "0de8e83b-1ac7-4c5d-8ed6-f35705c4d6d5",
   "metadata": {},
   "source": [
    "## Dataset con todos los influencers de un tipo"
   ]
  },
  {
   "cell_type": "markdown",
   "id": "2d6cb16b-0b21-422d-abed-3b4d6d239169",
   "metadata": {},
   "source": [
    "Una vez estudiado el proceso con el que poder recopilar un dataframe que tenga en columnas todas aquellas medidas que se desea obtener los ficheros JSON, queda repetir este mismo proceso para todos los ficheros localizados en una misma carpeta y produciendo una tabla para todas las publicaciones existentes en ese directorio."
   ]
  },
  {
   "cell_type": "code",
   "execution_count": 9,
   "id": "2f366c48-d952-42ba-9b22-2d0b022674cb",
   "metadata": {},
   "outputs": [],
   "source": [
    "def create_df_combined(file_paths, sector_type, influencer_type, fs):\n",
    "    dataframes_list = []\n",
    "    for post_file in file_paths:\n",
    "        dataframes_list.append(generate_dataframe_from_post(post_file, sector_type, influencer_type, fs))\n",
    "    # Concatenamos todos los DataFrames en uno solo\n",
    "    return pd.concat(dataframes_list, ignore_index=True)"
   ]
  },
  {
   "cell_type": "code",
   "execution_count": 10,
   "id": "cf5560fb-9ee3-4fe1-8b33-570ce3882185",
   "metadata": {},
   "outputs": [],
   "source": [
    "df = create_df_combined(file_paths, 'BEAUTY', 'MACRO', fs)"
   ]
  },
  {
   "cell_type": "code",
   "execution_count": 11,
   "id": "e79d23e4-cc29-4f9b-bfaf-e1c472e9a2ad",
   "metadata": {},
   "outputs": [
    {
     "data": {
      "text/html": [
       "<div>\n",
       "<style scoped>\n",
       "    .dataframe tbody tr th:only-of-type {\n",
       "        vertical-align: middle;\n",
       "    }\n",
       "\n",
       "    .dataframe tbody tr th {\n",
       "        vertical-align: top;\n",
       "    }\n",
       "\n",
       "    .dataframe thead th {\n",
       "        text-align: right;\n",
       "    }\n",
       "</style>\n",
       "<table border=\"1\" class=\"dataframe\">\n",
       "  <thead>\n",
       "    <tr style=\"text-align: right;\">\n",
       "      <th></th>\n",
       "      <th>_id</th>\n",
       "      <th>username</th>\n",
       "      <th>typename</th>\n",
       "      <th>is_video</th>\n",
       "      <th>followers</th>\n",
       "      <th>following</th>\n",
       "      <th>verified</th>\n",
       "      <th>count_comments</th>\n",
       "      <th>count_likes</th>\n",
       "      <th>caption_text</th>\n",
       "      <th>...</th>\n",
       "      <th>coauthor_producers</th>\n",
       "      <th>is_professional_account</th>\n",
       "      <th>category_name</th>\n",
       "      <th>biography</th>\n",
       "      <th>tagged_user_full_name</th>\n",
       "      <th>tagged_is_verified</th>\n",
       "      <th>location</th>\n",
       "      <th>edge_media_to_sponsor_user</th>\n",
       "      <th>sector</th>\n",
       "      <th>influencer_type</th>\n",
       "    </tr>\n",
       "  </thead>\n",
       "  <tbody>\n",
       "    <tr>\n",
       "      <th>0</th>\n",
       "      <td>2698249809409637462</td>\n",
       "      <td>aishawari</td>\n",
       "      <td>GraphVideo</td>\n",
       "      <td>True</td>\n",
       "      <td>244628</td>\n",
       "      <td>369</td>\n",
       "      <td>False</td>\n",
       "      <td>71</td>\n",
       "      <td>1997</td>\n",
       "      <td>TATUAJES💉\\n\\nHoy quería compartir con vosotras...</td>\n",
       "      <td>...</td>\n",
       "      <td>None</td>\n",
       "      <td>True</td>\n",
       "      <td>Digital creator</td>\n",
       "      <td>👩🏼‍💻Tutoriales de maquillaje y recomendaciones...</td>\n",
       "      <td>None</td>\n",
       "      <td>None</td>\n",
       "      <td>None</td>\n",
       "      <td>NaN</td>\n",
       "      <td>BEAUTY</td>\n",
       "      <td>MACRO</td>\n",
       "    </tr>\n",
       "    <tr>\n",
       "      <th>1</th>\n",
       "      <td>2700893032737260603</td>\n",
       "      <td>aishawari</td>\n",
       "      <td>GraphSidecar</td>\n",
       "      <td>False</td>\n",
       "      <td>244628</td>\n",
       "      <td>369</td>\n",
       "      <td>False</td>\n",
       "      <td>69</td>\n",
       "      <td>2994</td>\n",
       "      <td>MAKEUP NO MAKEUP💜\\n\\nMis maquillajes favoritos...</td>\n",
       "      <td>...</td>\n",
       "      <td>None</td>\n",
       "      <td>True</td>\n",
       "      <td>Digital creator</td>\n",
       "      <td>👩🏼‍💻Tutoriales de maquillaje y recomendaciones...</td>\n",
       "      <td>None</td>\n",
       "      <td>None</td>\n",
       "      <td>None</td>\n",
       "      <td>NaN</td>\n",
       "      <td>BEAUTY</td>\n",
       "      <td>MACRO</td>\n",
       "    </tr>\n",
       "    <tr>\n",
       "      <th>2</th>\n",
       "      <td>2704728296303832291</td>\n",
       "      <td>aishawari</td>\n",
       "      <td>GraphSidecar</td>\n",
       "      <td>False</td>\n",
       "      <td>244628</td>\n",
       "      <td>369</td>\n",
       "      <td>False</td>\n",
       "      <td>86</td>\n",
       "      <td>3441</td>\n",
       "      <td>NECESITAS esta blazer y además es de temporada...</td>\n",
       "      <td>...</td>\n",
       "      <td>None</td>\n",
       "      <td>True</td>\n",
       "      <td>Digital creator</td>\n",
       "      <td>👩🏼‍💻Tutoriales de maquillaje y recomendaciones...</td>\n",
       "      <td>ZARA Official</td>\n",
       "      <td>True</td>\n",
       "      <td>Alicante, Spain</td>\n",
       "      <td>NaN</td>\n",
       "      <td>BEAUTY</td>\n",
       "      <td>MACRO</td>\n",
       "    </tr>\n",
       "    <tr>\n",
       "      <th>3</th>\n",
       "      <td>2708213354956317672</td>\n",
       "      <td>aishawari</td>\n",
       "      <td>GraphVideo</td>\n",
       "      <td>True</td>\n",
       "      <td>244628</td>\n",
       "      <td>369</td>\n",
       "      <td>False</td>\n",
       "      <td>83</td>\n",
       "      <td>3780</td>\n",
       "      <td>HAZ ESTO para conseguir una melenita de infart...</td>\n",
       "      <td>...</td>\n",
       "      <td>None</td>\n",
       "      <td>True</td>\n",
       "      <td>Digital creator</td>\n",
       "      <td>👩🏼‍💻Tutoriales de maquillaje y recomendaciones...</td>\n",
       "      <td>ghdspain</td>\n",
       "      <td>True</td>\n",
       "      <td>None</td>\n",
       "      <td>NaN</td>\n",
       "      <td>BEAUTY</td>\n",
       "      <td>MACRO</td>\n",
       "    </tr>\n",
       "    <tr>\n",
       "      <th>4</th>\n",
       "      <td>2709868503046925365</td>\n",
       "      <td>aishawari</td>\n",
       "      <td>GraphSidecar</td>\n",
       "      <td>False</td>\n",
       "      <td>244628</td>\n",
       "      <td>369</td>\n",
       "      <td>False</td>\n",
       "      <td>86</td>\n",
       "      <td>1952</td>\n",
       "      <td>CANAS: el proceso continúa\\n\\nSois muchas las ...</td>\n",
       "      <td>...</td>\n",
       "      <td>None</td>\n",
       "      <td>True</td>\n",
       "      <td>Digital creator</td>\n",
       "      <td>👩🏼‍💻Tutoriales de maquillaje y recomendaciones...</td>\n",
       "      <td>None</td>\n",
       "      <td>None</td>\n",
       "      <td>None</td>\n",
       "      <td>NaN</td>\n",
       "      <td>BEAUTY</td>\n",
       "      <td>MACRO</td>\n",
       "    </tr>\n",
       "    <tr>\n",
       "      <th>...</th>\n",
       "      <td>...</td>\n",
       "      <td>...</td>\n",
       "      <td>...</td>\n",
       "      <td>...</td>\n",
       "      <td>...</td>\n",
       "      <td>...</td>\n",
       "      <td>...</td>\n",
       "      <td>...</td>\n",
       "      <td>...</td>\n",
       "      <td>...</td>\n",
       "      <td>...</td>\n",
       "      <td>...</td>\n",
       "      <td>...</td>\n",
       "      <td>...</td>\n",
       "      <td>...</td>\n",
       "      <td>...</td>\n",
       "      <td>...</td>\n",
       "      <td>...</td>\n",
       "      <td>...</td>\n",
       "      <td>...</td>\n",
       "      <td>...</td>\n",
       "    </tr>\n",
       "    <tr>\n",
       "      <th>1649</th>\n",
       "      <td>3074303318055572015</td>\n",
       "      <td>veronica__roman</td>\n",
       "      <td>GraphVideo</td>\n",
       "      <td>True</td>\n",
       "      <td>136616</td>\n",
       "      <td>312</td>\n",
       "      <td>False</td>\n",
       "      <td>3</td>\n",
       "      <td>207</td>\n",
       "      <td>5 tips para elevar tu skincare routine con @id...</td>\n",
       "      <td>...</td>\n",
       "      <td>None</td>\n",
       "      <td>True</td>\n",
       "      <td>Beauty, cosmetic &amp; personal care</td>\n",
       "      <td>Content Creator \\n📍Based in Madrid \\nTiktok (+...</td>\n",
       "      <td>IDC Institute</td>\n",
       "      <td>False</td>\n",
       "      <td>Madrid, Spain</td>\n",
       "      <td>NaN</td>\n",
       "      <td>BEAUTY</td>\n",
       "      <td>MACRO</td>\n",
       "    </tr>\n",
       "    <tr>\n",
       "      <th>1650</th>\n",
       "      <td>3079508177665019578</td>\n",
       "      <td>veronica__roman</td>\n",
       "      <td>GraphVideo</td>\n",
       "      <td>True</td>\n",
       "      <td>136616</td>\n",
       "      <td>312</td>\n",
       "      <td>False</td>\n",
       "      <td>4</td>\n",
       "      <td>980</td>\n",
       "      <td>Cute Easy Hairstyle \\n\\n#hair #hairstyle #hair...</td>\n",
       "      <td>...</td>\n",
       "      <td>None</td>\n",
       "      <td>True</td>\n",
       "      <td>Beauty, cosmetic &amp; personal care</td>\n",
       "      <td>Content Creator \\n📍Based in Madrid \\nTiktok (+...</td>\n",
       "      <td>Verónica Román</td>\n",
       "      <td>False</td>\n",
       "      <td>Madrid, Spain</td>\n",
       "      <td>NaN</td>\n",
       "      <td>BEAUTY</td>\n",
       "      <td>MACRO</td>\n",
       "    </tr>\n",
       "    <tr>\n",
       "      <th>1651</th>\n",
       "      <td>3082412845105705618</td>\n",
       "      <td>veronica__roman</td>\n",
       "      <td>GraphSidecar</td>\n",
       "      <td>False</td>\n",
       "      <td>136616</td>\n",
       "      <td>312</td>\n",
       "      <td>False</td>\n",
       "      <td>6</td>\n",
       "      <td>-1</td>\n",
       "      <td>Black soul 🖤</td>\n",
       "      <td>...</td>\n",
       "      <td>None</td>\n",
       "      <td>True</td>\n",
       "      <td>Beauty, cosmetic &amp; personal care</td>\n",
       "      <td>Content Creator \\n📍Based in Madrid \\nTiktok (+...</td>\n",
       "      <td>MiiN Cosmetics</td>\n",
       "      <td>True</td>\n",
       "      <td>Madrid, Spain</td>\n",
       "      <td>NaN</td>\n",
       "      <td>BEAUTY</td>\n",
       "      <td>MACRO</td>\n",
       "    </tr>\n",
       "    <tr>\n",
       "      <th>1652</th>\n",
       "      <td>3084442978192809781</td>\n",
       "      <td>veronica__roman</td>\n",
       "      <td>GraphVideo</td>\n",
       "      <td>True</td>\n",
       "      <td>136616</td>\n",
       "      <td>312</td>\n",
       "      <td>False</td>\n",
       "      <td>3</td>\n",
       "      <td>-1</td>\n",
       "      <td>My 7 steps Korean skincare to prepare my skin ...</td>\n",
       "      <td>...</td>\n",
       "      <td>None</td>\n",
       "      <td>True</td>\n",
       "      <td>Beauty, cosmetic &amp; personal care</td>\n",
       "      <td>Content Creator \\n📍Based in Madrid \\nTiktok (+...</td>\n",
       "      <td>MiiN Cosmetics</td>\n",
       "      <td>True</td>\n",
       "      <td>Madrid, Spain</td>\n",
       "      <td>NaN</td>\n",
       "      <td>BEAUTY</td>\n",
       "      <td>MACRO</td>\n",
       "    </tr>\n",
       "    <tr>\n",
       "      <th>1653</th>\n",
       "      <td>3085413122377433735</td>\n",
       "      <td>veronica__roman</td>\n",
       "      <td>GraphVideo</td>\n",
       "      <td>True</td>\n",
       "      <td>136616</td>\n",
       "      <td>312</td>\n",
       "      <td>False</td>\n",
       "      <td>5</td>\n",
       "      <td>-1</td>\n",
       "      <td>🫶🏼</td>\n",
       "      <td>...</td>\n",
       "      <td>None</td>\n",
       "      <td>True</td>\n",
       "      <td>Beauty, cosmetic &amp; personal care</td>\n",
       "      <td>Content Creator \\n📍Based in Madrid \\nTiktok (+...</td>\n",
       "      <td>None</td>\n",
       "      <td>None</td>\n",
       "      <td>Aveiro, Portugal</td>\n",
       "      <td>NaN</td>\n",
       "      <td>BEAUTY</td>\n",
       "      <td>MACRO</td>\n",
       "    </tr>\n",
       "  </tbody>\n",
       "</table>\n",
       "<p>1654 rows × 26 columns</p>\n",
       "</div>"
      ],
      "text/plain": [
       "                      _id         username      typename  is_video  followers  \\\n",
       "0     2698249809409637462        aishawari    GraphVideo      True     244628   \n",
       "1     2700893032737260603        aishawari  GraphSidecar     False     244628   \n",
       "2     2704728296303832291        aishawari  GraphSidecar     False     244628   \n",
       "3     2708213354956317672        aishawari    GraphVideo      True     244628   \n",
       "4     2709868503046925365        aishawari  GraphSidecar     False     244628   \n",
       "...                   ...              ...           ...       ...        ...   \n",
       "1649  3074303318055572015  veronica__roman    GraphVideo      True     136616   \n",
       "1650  3079508177665019578  veronica__roman    GraphVideo      True     136616   \n",
       "1651  3082412845105705618  veronica__roman  GraphSidecar     False     136616   \n",
       "1652  3084442978192809781  veronica__roman    GraphVideo      True     136616   \n",
       "1653  3085413122377433735  veronica__roman    GraphVideo      True     136616   \n",
       "\n",
       "      following  verified  count_comments  count_likes  \\\n",
       "0           369     False              71         1997   \n",
       "1           369     False              69         2994   \n",
       "2           369     False              86         3441   \n",
       "3           369     False              83         3780   \n",
       "4           369     False              86         1952   \n",
       "...         ...       ...             ...          ...   \n",
       "1649        312     False               3          207   \n",
       "1650        312     False               4          980   \n",
       "1651        312     False               6           -1   \n",
       "1652        312     False               3           -1   \n",
       "1653        312     False               5           -1   \n",
       "\n",
       "                                           caption_text  ...  \\\n",
       "0     TATUAJES💉\\n\\nHoy quería compartir con vosotras...  ...   \n",
       "1     MAKEUP NO MAKEUP💜\\n\\nMis maquillajes favoritos...  ...   \n",
       "2     NECESITAS esta blazer y además es de temporada...  ...   \n",
       "3     HAZ ESTO para conseguir una melenita de infart...  ...   \n",
       "4     CANAS: el proceso continúa\\n\\nSois muchas las ...  ...   \n",
       "...                                                 ...  ...   \n",
       "1649  5 tips para elevar tu skincare routine con @id...  ...   \n",
       "1650  Cute Easy Hairstyle \\n\\n#hair #hairstyle #hair...  ...   \n",
       "1651                                       Black soul 🖤  ...   \n",
       "1652  My 7 steps Korean skincare to prepare my skin ...  ...   \n",
       "1653                                                 🫶🏼  ...   \n",
       "\n",
       "     coauthor_producers  is_professional_account  \\\n",
       "0                  None                     True   \n",
       "1                  None                     True   \n",
       "2                  None                     True   \n",
       "3                  None                     True   \n",
       "4                  None                     True   \n",
       "...                 ...                      ...   \n",
       "1649               None                     True   \n",
       "1650               None                     True   \n",
       "1651               None                     True   \n",
       "1652               None                     True   \n",
       "1653               None                     True   \n",
       "\n",
       "                         category_name  \\\n",
       "0                      Digital creator   \n",
       "1                      Digital creator   \n",
       "2                      Digital creator   \n",
       "3                      Digital creator   \n",
       "4                      Digital creator   \n",
       "...                                ...   \n",
       "1649  Beauty, cosmetic & personal care   \n",
       "1650  Beauty, cosmetic & personal care   \n",
       "1651  Beauty, cosmetic & personal care   \n",
       "1652  Beauty, cosmetic & personal care   \n",
       "1653  Beauty, cosmetic & personal care   \n",
       "\n",
       "                                              biography  \\\n",
       "0     👩🏼‍💻Tutoriales de maquillaje y recomendaciones...   \n",
       "1     👩🏼‍💻Tutoriales de maquillaje y recomendaciones...   \n",
       "2     👩🏼‍💻Tutoriales de maquillaje y recomendaciones...   \n",
       "3     👩🏼‍💻Tutoriales de maquillaje y recomendaciones...   \n",
       "4     👩🏼‍💻Tutoriales de maquillaje y recomendaciones...   \n",
       "...                                                 ...   \n",
       "1649  Content Creator \\n📍Based in Madrid \\nTiktok (+...   \n",
       "1650  Content Creator \\n📍Based in Madrid \\nTiktok (+...   \n",
       "1651  Content Creator \\n📍Based in Madrid \\nTiktok (+...   \n",
       "1652  Content Creator \\n📍Based in Madrid \\nTiktok (+...   \n",
       "1653  Content Creator \\n📍Based in Madrid \\nTiktok (+...   \n",
       "\n",
       "      tagged_user_full_name tagged_is_verified          location  \\\n",
       "0                      None               None              None   \n",
       "1                      None               None              None   \n",
       "2             ZARA Official               True   Alicante, Spain   \n",
       "3                  ghdspain               True              None   \n",
       "4                      None               None              None   \n",
       "...                     ...                ...               ...   \n",
       "1649          IDC Institute              False     Madrid, Spain   \n",
       "1650         Verónica Román              False     Madrid, Spain   \n",
       "1651         MiiN Cosmetics               True     Madrid, Spain   \n",
       "1652         MiiN Cosmetics               True     Madrid, Spain   \n",
       "1653                   None               None  Aveiro, Portugal   \n",
       "\n",
       "      edge_media_to_sponsor_user  sector influencer_type  \n",
       "0                            NaN  BEAUTY           MACRO  \n",
       "1                            NaN  BEAUTY           MACRO  \n",
       "2                            NaN  BEAUTY           MACRO  \n",
       "3                            NaN  BEAUTY           MACRO  \n",
       "4                            NaN  BEAUTY           MACRO  \n",
       "...                          ...     ...             ...  \n",
       "1649                         NaN  BEAUTY           MACRO  \n",
       "1650                         NaN  BEAUTY           MACRO  \n",
       "1651                         NaN  BEAUTY           MACRO  \n",
       "1652                         NaN  BEAUTY           MACRO  \n",
       "1653                         NaN  BEAUTY           MACRO  \n",
       "\n",
       "[1654 rows x 26 columns]"
      ]
     },
     "execution_count": 11,
     "metadata": {},
     "output_type": "execute_result"
    }
   ],
   "source": [
    "df"
   ]
  },
  {
   "cell_type": "markdown",
   "id": "7ee0e689-3610-4c58-86cc-8d095297fa72",
   "metadata": {},
   "source": [
    "### Combinación de todos los conjuntos de datos para cualquier sector"
   ]
  },
  {
   "cell_type": "code",
   "execution_count": 12,
   "id": "024dde0c-468f-4835-b474-55ee254fd728",
   "metadata": {},
   "outputs": [],
   "source": [
    "def obtains_completed_dataframe():\n",
    "    fs = gcsfs.GCSFileSystem(project='tfminfluencers')\n",
    "    # Definimos las tuplas que serán necesarias para la recopilación de los datos\n",
    "    INFLUENCER_TYPES = ('NANO', 'MICRO', 'MACRO', 'MEGA')\n",
    "    SECTORS = ('BEAUTY', 'FITNESS')\n",
    "\n",
    "    FOLDER_PATH = 'unir_bucket_tfm/notebooks/jupyter/' \n",
    "    SUFFIX_PATH = '/*/*.json.xz'\n",
    "\n",
    "    completed_dataframe = None\n",
    "    df_list = []\n",
    "    for sector in SECTORS:\n",
    "        for influencer_type in INFLUENCER_TYPES:\n",
    "            folder_path = FOLDER_PATH + str(sector) + '/'+ str(influencer_type) + SUFFIX_PATH\n",
    "            print(folder_path)\n",
    "            file_paths = fs.glob(folder_path)\n",
    "            if len(file_paths) > 0:\n",
    "                df_list.append(create_df_combined(file_paths, sector, influencer_type, fs))\n",
    "    completed_dataframe = pd.concat(df_list, ignore_index=True)   \n",
    "    \n",
    "    return completed_dataframe"
   ]
  },
  {
   "cell_type": "code",
   "execution_count": 13,
   "id": "8a2549f2-a81b-4d2e-aea7-a7cf220a2758",
   "metadata": {},
   "outputs": [
    {
     "name": "stdout",
     "output_type": "stream",
     "text": [
      "unir_bucket_tfm/notebooks/jupyter/BEAUTY/NANO/*/*.json.xz\n",
      "unir_bucket_tfm/notebooks/jupyter/BEAUTY/MICRO/*/*.json.xz\n",
      "unir_bucket_tfm/notebooks/jupyter/BEAUTY/MACRO/*/*.json.xz\n",
      "unir_bucket_tfm/notebooks/jupyter/BEAUTY/MEGA/*/*.json.xz\n",
      "unir_bucket_tfm/notebooks/jupyter/FITNESS/NANO/*/*.json.xz\n",
      "unir_bucket_tfm/notebooks/jupyter/FITNESS/MICRO/*/*.json.xz\n",
      "unir_bucket_tfm/notebooks/jupyter/FITNESS/MACRO/*/*.json.xz\n",
      "unir_bucket_tfm/notebooks/jupyter/FITNESS/MEGA/*/*.json.xz\n"
     ]
    }
   ],
   "source": [
    "completed_combined_df = obtains_completed_dataframe()"
   ]
  },
  {
   "cell_type": "code",
   "execution_count": 14,
   "id": "717e6462-cf6b-461d-80de-8db28780af97",
   "metadata": {},
   "outputs": [
    {
     "data": {
      "text/html": [
       "<div>\n",
       "<style scoped>\n",
       "    .dataframe tbody tr th:only-of-type {\n",
       "        vertical-align: middle;\n",
       "    }\n",
       "\n",
       "    .dataframe tbody tr th {\n",
       "        vertical-align: top;\n",
       "    }\n",
       "\n",
       "    .dataframe thead th {\n",
       "        text-align: right;\n",
       "    }\n",
       "</style>\n",
       "<table border=\"1\" class=\"dataframe\">\n",
       "  <thead>\n",
       "    <tr style=\"text-align: right;\">\n",
       "      <th></th>\n",
       "      <th>_id</th>\n",
       "      <th>username</th>\n",
       "      <th>typename</th>\n",
       "      <th>is_video</th>\n",
       "      <th>followers</th>\n",
       "      <th>following</th>\n",
       "      <th>verified</th>\n",
       "      <th>count_comments</th>\n",
       "      <th>count_likes</th>\n",
       "      <th>caption_text</th>\n",
       "      <th>...</th>\n",
       "      <th>coauthor_producers</th>\n",
       "      <th>is_professional_account</th>\n",
       "      <th>category_name</th>\n",
       "      <th>biography</th>\n",
       "      <th>tagged_user_full_name</th>\n",
       "      <th>tagged_is_verified</th>\n",
       "      <th>location</th>\n",
       "      <th>edge_media_to_sponsor_user</th>\n",
       "      <th>sector</th>\n",
       "      <th>influencer_type</th>\n",
       "    </tr>\n",
       "  </thead>\n",
       "  <tbody>\n",
       "    <tr>\n",
       "      <th>0</th>\n",
       "      <td>1461031291230411282</td>\n",
       "      <td>bazardemarisse</td>\n",
       "      <td>GraphImage</td>\n",
       "      <td>False</td>\n",
       "      <td>1879</td>\n",
       "      <td>1696</td>\n",
       "      <td>False</td>\n",
       "      <td>1</td>\n",
       "      <td>43</td>\n",
       "      <td>Son pendrives aunque no lo parezcan y con ello...</td>\n",
       "      <td>...</td>\n",
       "      <td>None</td>\n",
       "      <td>True</td>\n",
       "      <td>Personal blog</td>\n",
       "      <td>💄 Beauty 👗 Fashion and 👯‍♀️ Lifestyle blogger\\...</td>\n",
       "      <td>Just Cavalli</td>\n",
       "      <td>True</td>\n",
       "      <td>None</td>\n",
       "      <td>NaN</td>\n",
       "      <td>BEAUTY</td>\n",
       "      <td>NANO</td>\n",
       "    </tr>\n",
       "    <tr>\n",
       "      <th>1</th>\n",
       "      <td>1461057228236014541</td>\n",
       "      <td>bazardemarisse</td>\n",
       "      <td>GraphImage</td>\n",
       "      <td>False</td>\n",
       "      <td>1879</td>\n",
       "      <td>1696</td>\n",
       "      <td>False</td>\n",
       "      <td>2</td>\n",
       "      <td>49</td>\n",
       "      <td>Hoy hemos conocido un estudio muy interesante ...</td>\n",
       "      <td>...</td>\n",
       "      <td>None</td>\n",
       "      <td>True</td>\n",
       "      <td>Personal blog</td>\n",
       "      <td>💄 Beauty 👗 Fashion and 👯‍♀️ Lifestyle blogger\\...</td>\n",
       "      <td>Cayetana Guillén-Cuervo</td>\n",
       "      <td>True</td>\n",
       "      <td>None</td>\n",
       "      <td>NaN</td>\n",
       "      <td>BEAUTY</td>\n",
       "      <td>NANO</td>\n",
       "    </tr>\n",
       "    <tr>\n",
       "      <th>2</th>\n",
       "      <td>1461626070960120583</td>\n",
       "      <td>bazardemarisse</td>\n",
       "      <td>GraphImage</td>\n",
       "      <td>False</td>\n",
       "      <td>1879</td>\n",
       "      <td>1696</td>\n",
       "      <td>False</td>\n",
       "      <td>1</td>\n",
       "      <td>61</td>\n",
       "      <td>Celebrando los 25 años de @uriagespain en siti...</td>\n",
       "      <td>...</td>\n",
       "      <td>None</td>\n",
       "      <td>True</td>\n",
       "      <td>Personal blog</td>\n",
       "      <td>💄 Beauty 👗 Fashion and 👯‍♀️ Lifestyle blogger\\...</td>\n",
       "      <td>Salon des Fleurs</td>\n",
       "      <td>False</td>\n",
       "      <td>Salon des Fleurs</td>\n",
       "      <td>NaN</td>\n",
       "      <td>BEAUTY</td>\n",
       "      <td>NANO</td>\n",
       "    </tr>\n",
       "    <tr>\n",
       "      <th>3</th>\n",
       "      <td>1462547320532230958</td>\n",
       "      <td>bazardemarisse</td>\n",
       "      <td>GraphImage</td>\n",
       "      <td>False</td>\n",
       "      <td>1879</td>\n",
       "      <td>1696</td>\n",
       "      <td>False</td>\n",
       "      <td>6</td>\n",
       "      <td>68</td>\n",
       "      <td>Una gama muy amplia y un colorido impresionant...</td>\n",
       "      <td>...</td>\n",
       "      <td>None</td>\n",
       "      <td>True</td>\n",
       "      <td>Personal blog</td>\n",
       "      <td>💄 Beauty 👗 Fashion and 👯‍♀️ Lifestyle blogger\\...</td>\n",
       "      <td>Perfumerías Primor</td>\n",
       "      <td>True</td>\n",
       "      <td>None</td>\n",
       "      <td>NaN</td>\n",
       "      <td>BEAUTY</td>\n",
       "      <td>NANO</td>\n",
       "    </tr>\n",
       "    <tr>\n",
       "      <th>4</th>\n",
       "      <td>1463898105857794613</td>\n",
       "      <td>bazardemarisse</td>\n",
       "      <td>GraphImage</td>\n",
       "      <td>False</td>\n",
       "      <td>1879</td>\n",
       "      <td>1696</td>\n",
       "      <td>False</td>\n",
       "      <td>10</td>\n",
       "      <td>76</td>\n",
       "      <td>Las mejores pizzas de Madrid están al lado del...</td>\n",
       "      <td>...</td>\n",
       "      <td>None</td>\n",
       "      <td>True</td>\n",
       "      <td>Personal blog</td>\n",
       "      <td>💄 Beauty 👗 Fashion and 👯‍♀️ Lifestyle blogger\\...</td>\n",
       "      <td>essie</td>\n",
       "      <td>True</td>\n",
       "      <td>Kilómetros de Pizza</td>\n",
       "      <td>NaN</td>\n",
       "      <td>BEAUTY</td>\n",
       "      <td>NANO</td>\n",
       "    </tr>\n",
       "    <tr>\n",
       "      <th>...</th>\n",
       "      <td>...</td>\n",
       "      <td>...</td>\n",
       "      <td>...</td>\n",
       "      <td>...</td>\n",
       "      <td>...</td>\n",
       "      <td>...</td>\n",
       "      <td>...</td>\n",
       "      <td>...</td>\n",
       "      <td>...</td>\n",
       "      <td>...</td>\n",
       "      <td>...</td>\n",
       "      <td>...</td>\n",
       "      <td>...</td>\n",
       "      <td>...</td>\n",
       "      <td>...</td>\n",
       "      <td>...</td>\n",
       "      <td>...</td>\n",
       "      <td>...</td>\n",
       "      <td>...</td>\n",
       "      <td>...</td>\n",
       "      <td>...</td>\n",
       "    </tr>\n",
       "    <tr>\n",
       "      <th>13279</th>\n",
       "      <td>3111938987433797684</td>\n",
       "      <td>vikikacosta</td>\n",
       "      <td>GraphVideo</td>\n",
       "      <td>True</td>\n",
       "      <td>1062361</td>\n",
       "      <td>983</td>\n",
       "      <td>True</td>\n",
       "      <td>59</td>\n",
       "      <td>14286</td>\n",
       "      <td>🦀✅VACACIONES???🙌🏼🎉 Haz este entrenamiento SIN ...</td>\n",
       "      <td>...</td>\n",
       "      <td>None</td>\n",
       "      <td>True</td>\n",
       "      <td>Entrepreneur</td>\n",
       "      <td>🌟Ponte metas, no límites. \\n@entrenavirtual.es...</td>\n",
       "      <td>None</td>\n",
       "      <td>None</td>\n",
       "      <td>None</td>\n",
       "      <td>NaN</td>\n",
       "      <td>FITNESS</td>\n",
       "      <td>MEGA</td>\n",
       "    </tr>\n",
       "    <tr>\n",
       "      <th>13280</th>\n",
       "      <td>3112105038420076511</td>\n",
       "      <td>vikikacosta</td>\n",
       "      <td>GraphVideo</td>\n",
       "      <td>True</td>\n",
       "      <td>1062361</td>\n",
       "      <td>983</td>\n",
       "      <td>True</td>\n",
       "      <td>131</td>\n",
       "      <td>10653</td>\n",
       "      <td>Irene &amp; Manu 27/05/23 📍Mallorca\\nEl vestido de...</td>\n",
       "      <td>...</td>\n",
       "      <td>None</td>\n",
       "      <td>True</td>\n",
       "      <td>Entrepreneur</td>\n",
       "      <td>🌟Ponte metas, no límites. \\n@entrenavirtual.es...</td>\n",
       "      <td>PERÒ</td>\n",
       "      <td>False</td>\n",
       "      <td>None</td>\n",
       "      <td>NaN</td>\n",
       "      <td>FITNESS</td>\n",
       "      <td>MEGA</td>\n",
       "    </tr>\n",
       "    <tr>\n",
       "      <th>13281</th>\n",
       "      <td>3112645464515939340</td>\n",
       "      <td>vikikacosta</td>\n",
       "      <td>GraphSidecar</td>\n",
       "      <td>False</td>\n",
       "      <td>1062361</td>\n",
       "      <td>983</td>\n",
       "      <td>True</td>\n",
       "      <td>58</td>\n",
       "      <td>11523</td>\n",
       "      <td>Ayer fue mágico, no lo digo por decir. Irene y...</td>\n",
       "      <td>...</td>\n",
       "      <td>None</td>\n",
       "      <td>True</td>\n",
       "      <td>Entrepreneur</td>\n",
       "      <td>🌟Ponte metas, no límites. \\n@entrenavirtual.es...</td>\n",
       "      <td>Javier Menendez I Entrena Virtual #undiamasund...</td>\n",
       "      <td>True</td>\n",
       "      <td>Mallorca, Islas Baleares, España</td>\n",
       "      <td>NaN</td>\n",
       "      <td>FITNESS</td>\n",
       "      <td>MEGA</td>\n",
       "    </tr>\n",
       "    <tr>\n",
       "      <th>13282</th>\n",
       "      <td>3113674384220704610</td>\n",
       "      <td>vikikacosta</td>\n",
       "      <td>GraphVideo</td>\n",
       "      <td>True</td>\n",
       "      <td>1062361</td>\n",
       "      <td>983</td>\n",
       "      <td>True</td>\n",
       "      <td>46</td>\n",
       "      <td>9608</td>\n",
       "      <td>7️⃣👌🏼</td>\n",
       "      <td>...</td>\n",
       "      <td>None</td>\n",
       "      <td>True</td>\n",
       "      <td>Entrepreneur</td>\n",
       "      <td>🌟Ponte metas, no límites. \\n@entrenavirtual.es...</td>\n",
       "      <td>None</td>\n",
       "      <td>None</td>\n",
       "      <td>Mallorca, Islas Baleares, España</td>\n",
       "      <td>NaN</td>\n",
       "      <td>FITNESS</td>\n",
       "      <td>MEGA</td>\n",
       "    </tr>\n",
       "    <tr>\n",
       "      <th>13283</th>\n",
       "      <td>3114211179140095816</td>\n",
       "      <td>vikikacosta</td>\n",
       "      <td>GraphVideo</td>\n",
       "      <td>True</td>\n",
       "      <td>1062361</td>\n",
       "      <td>983</td>\n",
       "      <td>True</td>\n",
       "      <td>32</td>\n",
       "      <td>5838</td>\n",
       "      <td>🚀GLÚTEOS ON FIRE SIN MATERIAL🔥 A TRABAJAR LA F...</td>\n",
       "      <td>...</td>\n",
       "      <td>None</td>\n",
       "      <td>True</td>\n",
       "      <td>Entrepreneur</td>\n",
       "      <td>🌟Ponte metas, no límites. \\n@entrenavirtual.es...</td>\n",
       "      <td>None</td>\n",
       "      <td>None</td>\n",
       "      <td>None</td>\n",
       "      <td>NaN</td>\n",
       "      <td>FITNESS</td>\n",
       "      <td>MEGA</td>\n",
       "    </tr>\n",
       "  </tbody>\n",
       "</table>\n",
       "<p>13284 rows × 26 columns</p>\n",
       "</div>"
      ],
      "text/plain": [
       "                       _id        username      typename  is_video  followers  \\\n",
       "0      1461031291230411282  bazardemarisse    GraphImage     False       1879   \n",
       "1      1461057228236014541  bazardemarisse    GraphImage     False       1879   \n",
       "2      1461626070960120583  bazardemarisse    GraphImage     False       1879   \n",
       "3      1462547320532230958  bazardemarisse    GraphImage     False       1879   \n",
       "4      1463898105857794613  bazardemarisse    GraphImage     False       1879   \n",
       "...                    ...             ...           ...       ...        ...   \n",
       "13279  3111938987433797684     vikikacosta    GraphVideo      True    1062361   \n",
       "13280  3112105038420076511     vikikacosta    GraphVideo      True    1062361   \n",
       "13281  3112645464515939340     vikikacosta  GraphSidecar     False    1062361   \n",
       "13282  3113674384220704610     vikikacosta    GraphVideo      True    1062361   \n",
       "13283  3114211179140095816     vikikacosta    GraphVideo      True    1062361   \n",
       "\n",
       "       following  verified  count_comments  count_likes  \\\n",
       "0           1696     False               1           43   \n",
       "1           1696     False               2           49   \n",
       "2           1696     False               1           61   \n",
       "3           1696     False               6           68   \n",
       "4           1696     False              10           76   \n",
       "...          ...       ...             ...          ...   \n",
       "13279        983      True              59        14286   \n",
       "13280        983      True             131        10653   \n",
       "13281        983      True              58        11523   \n",
       "13282        983      True              46         9608   \n",
       "13283        983      True              32         5838   \n",
       "\n",
       "                                            caption_text  ...  \\\n",
       "0      Son pendrives aunque no lo parezcan y con ello...  ...   \n",
       "1      Hoy hemos conocido un estudio muy interesante ...  ...   \n",
       "2      Celebrando los 25 años de @uriagespain en siti...  ...   \n",
       "3      Una gama muy amplia y un colorido impresionant...  ...   \n",
       "4      Las mejores pizzas de Madrid están al lado del...  ...   \n",
       "...                                                  ...  ...   \n",
       "13279  🦀✅VACACIONES???🙌🏼🎉 Haz este entrenamiento SIN ...  ...   \n",
       "13280  Irene & Manu 27/05/23 📍Mallorca\\nEl vestido de...  ...   \n",
       "13281  Ayer fue mágico, no lo digo por decir. Irene y...  ...   \n",
       "13282                                              7️⃣👌🏼  ...   \n",
       "13283  🚀GLÚTEOS ON FIRE SIN MATERIAL🔥 A TRABAJAR LA F...  ...   \n",
       "\n",
       "      coauthor_producers  is_professional_account  category_name  \\\n",
       "0                   None                     True  Personal blog   \n",
       "1                   None                     True  Personal blog   \n",
       "2                   None                     True  Personal blog   \n",
       "3                   None                     True  Personal blog   \n",
       "4                   None                     True  Personal blog   \n",
       "...                  ...                      ...            ...   \n",
       "13279               None                     True   Entrepreneur   \n",
       "13280               None                     True   Entrepreneur   \n",
       "13281               None                     True   Entrepreneur   \n",
       "13282               None                     True   Entrepreneur   \n",
       "13283               None                     True   Entrepreneur   \n",
       "\n",
       "                                               biography  \\\n",
       "0      💄 Beauty 👗 Fashion and 👯‍♀️ Lifestyle blogger\\...   \n",
       "1      💄 Beauty 👗 Fashion and 👯‍♀️ Lifestyle blogger\\...   \n",
       "2      💄 Beauty 👗 Fashion and 👯‍♀️ Lifestyle blogger\\...   \n",
       "3      💄 Beauty 👗 Fashion and 👯‍♀️ Lifestyle blogger\\...   \n",
       "4      💄 Beauty 👗 Fashion and 👯‍♀️ Lifestyle blogger\\...   \n",
       "...                                                  ...   \n",
       "13279  🌟Ponte metas, no límites. \\n@entrenavirtual.es...   \n",
       "13280  🌟Ponte metas, no límites. \\n@entrenavirtual.es...   \n",
       "13281  🌟Ponte metas, no límites. \\n@entrenavirtual.es...   \n",
       "13282  🌟Ponte metas, no límites. \\n@entrenavirtual.es...   \n",
       "13283  🌟Ponte metas, no límites. \\n@entrenavirtual.es...   \n",
       "\n",
       "                                   tagged_user_full_name tagged_is_verified  \\\n",
       "0                                           Just Cavalli               True   \n",
       "1                               Cayetana Guillén-Cuervo               True   \n",
       "2                                       Salon des Fleurs              False   \n",
       "3                                    Perfumerías Primor               True   \n",
       "4                                                  essie               True   \n",
       "...                                                  ...                ...   \n",
       "13279                                               None               None   \n",
       "13280                                              PERÒ              False   \n",
       "13281  Javier Menendez I Entrena Virtual #undiamasund...               True   \n",
       "13282                                               None               None   \n",
       "13283                                               None               None   \n",
       "\n",
       "                               location  edge_media_to_sponsor_user   sector  \\\n",
       "0                                  None                         NaN   BEAUTY   \n",
       "1                                  None                         NaN   BEAUTY   \n",
       "2                      Salon des Fleurs                         NaN   BEAUTY   \n",
       "3                                  None                         NaN   BEAUTY   \n",
       "4                   Kilómetros de Pizza                         NaN   BEAUTY   \n",
       "...                                 ...                         ...      ...   \n",
       "13279                              None                         NaN  FITNESS   \n",
       "13280                              None                         NaN  FITNESS   \n",
       "13281  Mallorca, Islas Baleares, España                         NaN  FITNESS   \n",
       "13282  Mallorca, Islas Baleares, España                         NaN  FITNESS   \n",
       "13283                              None                         NaN  FITNESS   \n",
       "\n",
       "      influencer_type  \n",
       "0                NANO  \n",
       "1                NANO  \n",
       "2                NANO  \n",
       "3                NANO  \n",
       "4                NANO  \n",
       "...               ...  \n",
       "13279            MEGA  \n",
       "13280            MEGA  \n",
       "13281            MEGA  \n",
       "13282            MEGA  \n",
       "13283            MEGA  \n",
       "\n",
       "[13284 rows x 26 columns]"
      ]
     },
     "execution_count": 14,
     "metadata": {},
     "output_type": "execute_result"
    }
   ],
   "source": [
    "completed_combined_df"
   ]
  },
  {
   "cell_type": "markdown",
   "id": "94d1cde5-6900-4124-a531-0056969389c6",
   "metadata": {},
   "source": [
    "## Limpieza de datos"
   ]
  },
  {
   "cell_type": "code",
   "execution_count": 17,
   "id": "cb259d2f-13b6-4615-aaf3-471efb213e35",
   "metadata": {},
   "outputs": [],
   "source": [
    " #!pip install geopy\n",
    " #!pip install unidecode\n",
    " #!pip install geonamescache"
   ]
  },
  {
   "cell_type": "code",
   "execution_count": 18,
   "id": "2734a16e-9311-4bb9-8ebf-a48a4b3f5831",
   "metadata": {},
   "outputs": [],
   "source": [
    "import pandas as pd\n",
    "import numpy as np\n",
    "import io\n",
    "from unidecode import unidecode\n",
    "import geopy.geocoders\n",
    "from geonamescache import GeonamesCache\n",
    "import re"
   ]
  },
  {
   "cell_type": "markdown",
   "id": "65b2104a-584e-40e7-b5e5-4077ab661c8b",
   "metadata": {},
   "source": [
    "### Análisis del dataset (EDA)"
   ]
  },
  {
   "cell_type": "markdown",
   "id": "9f579d5a-5781-4edf-b29c-71d04da2170f",
   "metadata": {},
   "source": [
    "#### Dimensiones"
   ]
  },
  {
   "cell_type": "code",
   "execution_count": 19,
   "id": "5f4b305d-6910-4648-9764-dc2b7e62d419",
   "metadata": {},
   "outputs": [
    {
     "name": "stdout",
     "output_type": "stream",
     "text": [
      "Hay 13284 instancias y 26 variables en la base de datos.\n"
     ]
    }
   ],
   "source": [
    "# Se obtiene el total de filas y columnas\n",
    "print(\"Hay {} instancias y {} variables en la base de datos.\".format(completed_combined_df.shape[0], completed_combined_df.shape[1]))"
   ]
  },
  {
   "cell_type": "markdown",
   "id": "9db56ce2-5339-45b8-89d6-20ac417e55bf",
   "metadata": {},
   "source": [
    "#### Tipos de variables"
   ]
  },
  {
   "cell_type": "markdown",
   "id": "d1463cfe-2b5a-47e3-a0d1-4e0d3939e407",
   "metadata": {},
   "source": [
    "- **_id**: identificador único para cada entrada en el dataset\n",
    "\n",
    "- **username**: nombre de usuario del influencer en Instagram\n",
    "\n",
    "- **typename**: tipo de contenido publicado por el influencer (foto, vídeo o multipublicación)\n",
    "\n",
    "- **is_video**: booleano que indica si la publicación es un video\n",
    "\n",
    "- **followers**: cantidad de seguidores que tiene el influencer\n",
    "\n",
    "- **following**: cantidad de cuentas que sigue el influencer\n",
    "\n",
    "- **verified**: booleano que indica si la cuenta del influencer está verificada por Instagram\n",
    "\n",
    "- **count_comments**: cantidad de comentarios en la publicación del influencer\n",
    "\n",
    "- **count_likes**: cantidad de me gustas en la publicación del influencer\n",
    "\n",
    "- **caption_text**: texto del pie de foto de la publicación\n",
    "\n",
    "- **tagged_user_full_name**: nombre completo del usuario etiquetado en la publicación\n",
    "\n",
    "- **tagged_is_verified**: valor que indica si el usuario etiquetado está verificado\n",
    "\n",
    "- **has_audio**: valor que indica si la publicación tiene audio\n",
    "\n",
    "- **edge_media_to_sponsor_user**: detalles del usuario patrocinado asociado con la publicación, si los hay\n",
    "\n",
    "- **comments_disabled**: booleano que indica si los comentarios están deshabilitados para la publicación\n",
    "\n",
    "- **location**: ubicación geográfica asociada con la publicación\n",
    "\n",
    "- **product_type**: tipo de producto promovido en la publicación, si lo hay\n",
    "\n",
    "- **gating_info**: información sobre la publicación, pero esta columna tiene todos sus valores nulos\n",
    "\n",
    "- **taken_at_timestamp**: marca de tiempo cuando se tomó la foto o el video\n",
    "\n",
    "- **edge_liked_by**: número de me gustas que recibió la publicación\n",
    "\n",
    "- **coauthor_producers**: información sobre los coautores o productores de la publicación\n",
    "\n",
    "- **is_professional_account**: booleano que indica si la cuenta es una cuenta profesional\n",
    "\n",
    "- **category_name**: categoría de la cuenta o la publicación\n",
    "\n",
    "- **biography**: biografía del influencer\n",
    "\n",
    "- **influencer_type**: tipo de influencer, puede estar basado en su número de seguidores o su nicho\n",
    "\n",
    "- **sector**: sector o industria en la que el influencer está más activo"
   ]
  },
  {
   "cell_type": "markdown",
   "id": "d5902ddf-3440-46a8-b1f8-dec13a5edd63",
   "metadata": {},
   "source": [
    "El listado de variables presentado es igual que en la definición de las variables, salvo porque durante el proceso de extracción de los datos a partir del DataLake se añadieron dos nuevas columnas que son **influencer_type y sector**"
   ]
  },
  {
   "cell_type": "code",
   "execution_count": 20,
   "id": "e3b9b324-b487-464c-8184-064d3a50c481",
   "metadata": {},
   "outputs": [
    {
     "name": "stdout",
     "output_type": "stream",
     "text": [
      "<class 'pandas.core.frame.DataFrame'>\n",
      "RangeIndex: 13284 entries, 0 to 13283\n",
      "Data columns (total 26 columns):\n",
      " #   Column                      Non-Null Count  Dtype \n",
      "---  ------                      --------------  ----- \n",
      " 0   _id                         13284 non-null  object\n",
      " 1   username                    13284 non-null  object\n",
      " 2   typename                    13284 non-null  object\n",
      " 3   is_video                    13284 non-null  bool  \n",
      " 4   followers                   13284 non-null  int64 \n",
      " 5   following                   13284 non-null  int64 \n",
      " 6   verified                    13284 non-null  bool  \n",
      " 7   count_comments              13284 non-null  int64 \n",
      " 8   count_likes                 13284 non-null  int64 \n",
      " 9   caption_text                13226 non-null  object\n",
      " 10  has_audio                   6071 non-null   object\n",
      " 11  comments_disabled           13284 non-null  bool  \n",
      " 12  product_type                6071 non-null   object\n",
      " 13  gating_info                 0 non-null      object\n",
      " 14  taken_at_timestamp          13284 non-null  int64 \n",
      " 15  edge_liked_by               0 non-null      object\n",
      " 16  coauthor_producers          0 non-null      object\n",
      " 17  is_professional_account     13284 non-null  bool  \n",
      " 18  category_name               12775 non-null  object\n",
      " 19  biography                   13284 non-null  object\n",
      " 20  tagged_user_full_name       6419 non-null   object\n",
      " 21  tagged_is_verified          6419 non-null   object\n",
      " 22  location                    3604 non-null   object\n",
      " 23  edge_media_to_sponsor_user  191 non-null    object\n",
      " 24  sector                      13284 non-null  object\n",
      " 25  influencer_type             13284 non-null  object\n",
      "dtypes: bool(4), int64(5), object(17)\n",
      "memory usage: 2.3+ MB\n"
     ]
    }
   ],
   "source": [
    "completed_combined_df.info()"
   ]
  },
  {
   "cell_type": "markdown",
   "id": "7eda1dd3-7d1b-4ea7-b400-ba8218ce4850",
   "metadata": {},
   "source": [
    "Como pandas ha clasificado muchas de las variables como \"object\" vamos a ver qué tipo de información contienen para poder asignarles un tipo mejor si procede."
   ]
  },
  {
   "cell_type": "code",
   "execution_count": 21,
   "id": "372bcdc2-d60d-4bfd-a948-cb61f8a5e22c",
   "metadata": {},
   "outputs": [
    {
     "data": {
      "text/plain": [
       "diegoo.davila           198\n",
       "pau_eche                185\n",
       "santiliebanatraining    184\n",
       "mariapicazodn           174\n",
       "konayasakimori          173\n",
       "                       ... \n",
       "vikikacosta              65\n",
       "susana_bicho             54\n",
       "clarasbeautyshelf        38\n",
       "violeta                  10\n",
       "fitconmaria               4\n",
       "Name: username, Length: 96, dtype: int64"
      ]
     },
     "execution_count": 21,
     "metadata": {},
     "output_type": "execute_result"
    }
   ],
   "source": [
    "completed_combined_df.username.value_counts()"
   ]
  },
  {
   "cell_type": "code",
   "execution_count": 22,
   "id": "b044dd1f-a6ee-4adf-a793-5faee8acaf40",
   "metadata": {},
   "outputs": [
    {
     "data": {
      "text/plain": [
       "GraphVideo      6071\n",
       "GraphSidecar    4066\n",
       "GraphImage      3147\n",
       "Name: typename, dtype: int64"
      ]
     },
     "execution_count": 22,
     "metadata": {},
     "output_type": "execute_result"
    }
   ],
   "source": [
    "completed_combined_df.typename.value_counts()"
   ]
  },
  {
   "cell_type": "markdown",
   "id": "65166205-3d02-4785-aa11-95b5e51cfa2c",
   "metadata": {},
   "source": [
    "La variable **'typename' es catégorica**. Luego le cambiaremos el tipo de forma acorde."
   ]
  },
  {
   "cell_type": "code",
   "execution_count": 23,
   "id": "3524b2a8-e313-40f9-b792-b016e4aa39a6",
   "metadata": {},
   "outputs": [
    {
     "data": {
      "text/plain": [
       "#Motivation #followme #goals #workout #fitnessaddict #beastmode #biceps #muscles #healthyfood #shoulder #iffbpro #goodmorning #relaxedvsflexed #bodybuildingmotivation #gainz #menphysique #physique #physics #oldschool #instasize  #shredder #goodmorning                                                                                                                                                                                                                                                                                                                                                                                                                                                                                                                                                                                                                                                                                                                                     54\n",
       "#aesthetic #Motivation #followme #goals #workout #fitnessaddict #beastmode #biceps #muscles #healthyfood #shoulder #iffbpro #goodmorning #relaxedvsflexed #bodybuildingmotivation #gainz #menphysique #physique #physics #oldschool #instasize  #shredder #belegend                                                                                                                                                                                                                                                                                                                                                                                                                                                                                                                                                                                                                                                                                                                             18\n",
       "#motivation #gym #saludable                                                                                                                                                                                                                                                                                                                                                                                                                                                                                                                                                                                                                                                                                                                                                                                                                                                                                                                                                                     18\n",
       "🖤                                                                                                                                                                                                                                                                                                                                                                                                                                                                                                                                                                                                                                                                                                                                                                                                                                                                                                                                                                                               11\n",
       "#running #gymmotivation #girl                                                                                                                                                                                                                                                                                                                                                                                                                                                                                                                                                                                                                                                                                                                                                                                                                                                                                                                                                                    9\n",
       "                                                                                                                                                                                                                                                                                                                                                                                                                                                                                                                                                                                                                                                                                                                                                                                                                                                                                                                                                                                                ..\n",
       "“La Polignac” aún tiene mucho que decir, y ya está disponible el segundo #livinlahistoriabeauty con ella de protagonista. ¿Te pasas?                                                                                                                                                                                                                                                                                                                                                                                                                                                                                                                                                                                                                                                                                                                                                                                                                                                             1\n",
       "😁                                                                                                                                                                                                                                                                                                                                                                                                                                                                                                                                                                                                                                                                                                                                                                                                                                                                                                                                                                                                1\n",
       "🤍 Orange Cleansing Shorbet 🤍 \\n\\nDe @aromatica.life \\n\\nEste bálsamo desmaquillante es muy conocido por aquí, por su aroma, su textura, su eficacia…\\n\\nHe probado muchos bálsamos y aceites desmaquillantes, pero para mí este lo tiene todo: \\n\\n🤍Sensorialmente es maravilloso: tiene un suave aroma a naranja con un toque floral sutil, y una textura cremosa con la que es muy agradable embalsamarse y masajearse el rostro para retirar el maquillaje 💄\\n\\n🤍 Su eficacia es de diez: ya que retira a la perfección el maquillaje, incluidos maquillajes pesados de ojos, máscaras de pestañas resistentes, geles de cejas, labiales de larga duración…\\n\\n🤍 Relación calidad/precio: es cierto que no es un producto low cost, pero con ma cantidad que trae (150gr) y lo mucho que cunde, os lleváis un súper producto que dura varios meses! \\n\\n¿Lo habéis probado? \\n\\n#doblelimpieza #balsamodesmaquillante #desmaquillante #doblelimpiezafacial #limpiezafacial #rutinadenoche     1\n",
       "Deja de hacer esto si quieres que tus tríceps crezcan 🦾\\n\\n#entrenamientogym #consejogym #entrenamiento                                                                                                                                                                                                                                                                                                                                                                                                                                                                                                                                                                                                                                                                                                                                                                                                                                                                                          1\n",
       "Celebrate each little step of your journey 🫶🏽\\n\\nNew collection @badiswimwear will be available friday april 7th 9am EST.  set a reminder ⏰ \\n\\nvideo credits @jorgevillaveces \\n@lumalenses @lisandra_lezcano @chrysa_fitt @badiswimwear                                                                                                                                                                                                                                                                                                                                                                                                                                                                                                                                                                                                                                                                                                                                                        1\n",
       "Name: caption_text, Length: 13007, dtype: int64"
      ]
     },
     "execution_count": 23,
     "metadata": {},
     "output_type": "execute_result"
    }
   ],
   "source": [
    "completed_combined_df.caption_text.value_counts()"
   ]
  },
  {
   "cell_type": "code",
   "execution_count": 24,
   "id": "c7d8f0e2-5c05-412f-89c1-0e0617d45199",
   "metadata": {},
   "outputs": [
    {
     "data": {
      "text/plain": [
       "Gym Virtual✌🏻✊🏻🖐🏻                206\n",
       "Perfumerías Primor              110\n",
       "                                 101\n",
       "HUDA BEAUTY                       99\n",
       "Reme Navarro Skin&Nutrition       96\n",
       "                                ... \n",
       "The Essentials Cosmetics           1\n",
       "Schiaparelli                       1\n",
       "e.l.f. Cosmetics and Skincare      1\n",
       "We Make-up, and you?               1\n",
       "FERENT BAGS                        1\n",
       "Name: tagged_user_full_name, Length: 1710, dtype: int64"
      ]
     },
     "execution_count": 24,
     "metadata": {},
     "output_type": "execute_result"
    }
   ],
   "source": [
    "completed_combined_df.tagged_user_full_name.value_counts()"
   ]
  },
  {
   "cell_type": "code",
   "execution_count": 25,
   "id": "460cc75b-e9c3-4403-b94a-b01fd5e6dd25",
   "metadata": {},
   "outputs": [
    {
     "data": {
      "text/plain": [
       "True     4314\n",
       "False    2105\n",
       "Name: tagged_is_verified, dtype: int64"
      ]
     },
     "execution_count": 25,
     "metadata": {},
     "output_type": "execute_result"
    }
   ],
   "source": [
    "completed_combined_df.tagged_is_verified.value_counts()"
   ]
  },
  {
   "cell_type": "markdown",
   "id": "59f4ee33-1a07-440f-b5f1-8439a34dbb70",
   "metadata": {},
   "source": [
    "La variable **'tagged_is_verified' es booleana**."
   ]
  },
  {
   "cell_type": "code",
   "execution_count": 26,
   "id": "b8cda64a-275b-41a0-951e-614268e81c11",
   "metadata": {},
   "outputs": [
    {
     "data": {
      "text/plain": [
       "MACRO    3333\n",
       "MICRO    3332\n",
       "MEGA     3310\n",
       "NANO     3309\n",
       "Name: influencer_type, dtype: int64"
      ]
     },
     "execution_count": 26,
     "metadata": {},
     "output_type": "execute_result"
    }
   ],
   "source": [
    "completed_combined_df.influencer_type.value_counts()"
   ]
  },
  {
   "cell_type": "markdown",
   "id": "d49c4db3-436d-4459-b586-58c2ff0b55c9",
   "metadata": {},
   "source": [
    "La variable **'influencer_type' es catégorica**."
   ]
  },
  {
   "cell_type": "code",
   "execution_count": 27,
   "id": "4b0fcfbc-bbc3-4294-b28b-586f2ea16d07",
   "metadata": {},
   "outputs": [
    {
     "data": {
      "text/plain": [
       "FITNESS    6685\n",
       "BEAUTY     6599\n",
       "Name: sector, dtype: int64"
      ]
     },
     "execution_count": 27,
     "metadata": {},
     "output_type": "execute_result"
    }
   ],
   "source": [
    "completed_combined_df.sector.value_counts()"
   ]
  },
  {
   "cell_type": "code",
   "execution_count": 28,
   "id": "c41ab4d6-0519-4de2-a84a-7a469b6408ba",
   "metadata": {},
   "outputs": [
    {
     "data": {
      "text/plain": [
       "True     6011\n",
       "False      60\n",
       "Name: has_audio, dtype: int64"
      ]
     },
     "execution_count": 28,
     "metadata": {},
     "output_type": "execute_result"
    }
   ],
   "source": [
    "completed_combined_df.has_audio.value_counts()"
   ]
  },
  {
   "cell_type": "markdown",
   "id": "91b7916e-3daa-4722-b9d1-f2437fed0857",
   "metadata": {},
   "source": [
    "La variable **'has_audio' es booleana.**"
   ]
  },
  {
   "cell_type": "code",
   "execution_count": 29,
   "id": "bf51e48e-5337-4033-8c27-9f088ef7bfe6",
   "metadata": {},
   "outputs": [
    {
     "data": {
      "text/plain": [
       "maxfactores            12\n",
       "saigucosmetics         12\n",
       "industrialbeautyes     10\n",
       "nablacosmetics          9\n",
       "kiehlsspain             8\n",
       "                       ..\n",
       "cetaphil.es             1\n",
       "freshlycosmetics_es     1\n",
       "justspices_es           1\n",
       "amo.como.soy            1\n",
       "revlon_es               1\n",
       "Name: edge_media_to_sponsor_user, Length: 84, dtype: int64"
      ]
     },
     "execution_count": 29,
     "metadata": {},
     "output_type": "execute_result"
    }
   ],
   "source": [
    "completed_combined_df.edge_media_to_sponsor_user.value_counts()"
   ]
  },
  {
   "cell_type": "code",
   "execution_count": 30,
   "id": "631e6cfc-4bdf-449e-ad47-b5c64ffbd26c",
   "metadata": {},
   "outputs": [
    {
     "data": {
      "text/plain": [
       "Madrid, Spain                449\n",
       "Barcelona, Spain             268\n",
       "Valencia                     231\n",
       "Tenerife                     118\n",
       "Zaragoza, Spain              111\n",
       "                            ... \n",
       "Masca, Canarias, Spain         1\n",
       "Rio Guadalquivir, Sevilla      1\n",
       "Girona                         1\n",
       "IKEA                           1\n",
       "Novotel Madrid Center          1\n",
       "Name: location, Length: 890, dtype: int64"
      ]
     },
     "execution_count": 30,
     "metadata": {},
     "output_type": "execute_result"
    }
   ],
   "source": [
    "completed_combined_df.location.value_counts()"
   ]
  },
  {
   "cell_type": "code",
   "execution_count": 31,
   "id": "c96d8b6b-fcb5-4346-afc7-a3c1a1b8e5d5",
   "metadata": {},
   "outputs": [
    {
     "data": {
      "text/plain": [
       "clips    5641\n",
       "igtv      264\n",
       "feed      166\n",
       "Name: product_type, dtype: int64"
      ]
     },
     "execution_count": 31,
     "metadata": {},
     "output_type": "execute_result"
    }
   ],
   "source": [
    "completed_combined_df.product_type.value_counts()"
   ]
  },
  {
   "cell_type": "markdown",
   "id": "2293e29c-c92a-47c4-9fd3-a96d6f3e3556",
   "metadata": {},
   "source": [
    "La variable **'product_type' es categórica**."
   ]
  },
  {
   "cell_type": "code",
   "execution_count": 32,
   "id": "08f59000-edb5-419e-ad30-70f8a0134701",
   "metadata": {},
   "outputs": [
    {
     "data": {
      "text/plain": [
       "Series([], Name: coauthor_producers, dtype: int64)"
      ]
     },
     "execution_count": 32,
     "metadata": {},
     "output_type": "execute_result"
    }
   ],
   "source": [
    "completed_combined_df.coauthor_producers.value_counts()"
   ]
  },
  {
   "cell_type": "markdown",
   "id": "f2f3a210-2ef2-46ab-9146-5417392f052e",
   "metadata": {},
   "source": [
    "Esta variable trae siempre una lista vacía [], posteriormente en la homogeneización lo pondremos como nulo."
   ]
  },
  {
   "cell_type": "code",
   "execution_count": 33,
   "id": "955cc8a2-fb83-4515-827d-2300df0cb398",
   "metadata": {},
   "outputs": [
    {
     "data": {
      "text/plain": [
       "Digital creator                          1561\n",
       "Blogger                                  1156\n",
       "Personal blog                            1141\n",
       "Beauty, cosmetic & personal care         1133\n",
       "Coach                                    1129\n",
       "Public figure                            1077\n",
       "Fitness Trainer                           905\n",
       "Athlete                                   901\n",
       "Entrepreneur                              628\n",
       "Health/beauty                             612\n",
       "Nutritionist                              543\n",
       "Makeup Artist                             386\n",
       "Community                                 331\n",
       "Artist                                    306\n",
       "Fitness Model                             268\n",
       "Actor                                     170\n",
       "Sports                                    142\n",
       "Scientist                                 139\n",
       "Journalist                                138\n",
       "Alternative & Holistic Health Service     109\n",
       "Name: category_name, dtype: int64"
      ]
     },
     "execution_count": 33,
     "metadata": {},
     "output_type": "execute_result"
    }
   ],
   "source": [
    "completed_combined_df.category_name.value_counts()"
   ]
  },
  {
   "cell_type": "markdown",
   "id": "7a4ce172-9726-48a5-b7a8-3281c86065a1",
   "metadata": {},
   "source": [
    "La variable **'category_name' es categórica**."
   ]
  },
  {
   "cell_type": "code",
   "execution_count": 34,
   "id": "633bc977-a62b-4e2f-be9b-1d7281b66aae",
   "metadata": {},
   "outputs": [
    {
     "data": {
      "text/plain": [
       "🔥Ayudo a personas delgadas de 20-40 años que entrenan y no ven resultados a ganar +5kg en 12 semanas🔥\\nEscríbeme la palabra “CAMBIO” y te ayudo ⬇️         198\n",
       "ᴄʜᴀɴɢᴇ ɪs ᴛʜᴇ ᴏɴʟʏ ᴄᴏɴsᴛᴀɴᴛ... 😘🇪🇸     \\nContacto: ana@anatenorio.com\\nTikTok @pau_eche                                                                    185\n",
       "Profesor de cursos de formación y entrenador desde 2002. Resumen de vainas en el LinkTree.                                                                 184\n",
       "🎓Sport&Coaching Nutrition\\n🧠Cambiemos hábitos y actitud\\n🏡 @centro.mariapicazo @dassportclinic \\n⚽️ Responsable de Cantera @cdtoficial @cdtfundacion ⠀⠀    174\n",
       "BREATHING FLOW\\nPreparador físico / Readaptador\\nNeurología aplicada y Respiración\\nBJJ Mathias Ribeiro Team 🟦\\nJudo AJM 🟦                                 173\n",
       "                                                                                                                                                          ... \n",
       "TikTok:violeta                                                                                                                                              10\n",
       "Makeup Artist & Blogger @huda \\nFounder of @wishfulskin \\nProducts tested on huda, NOT animals\\nGET CLEAN Available Now 👇🏽                                   5\n",
       "💪Fitness\\n🏃‍♀️Running\\n🌮Recetas saludables\\n🫡Coach (y bb): @guayotatrainer                                                                                   4\n",
       "MAKE UP • BEAUTY • FASHION • LIFESTYLE\\n🌺 LANZAMIENTO MARIKO X SAIGU 🌅\\n📍25/5 Apúntate aquí.👇🏻                                                               3\n",
       "@viveapp_es \\n@momostudio_es \\nNieta de Paco \"el rojo\" y Rafael \"el pijo\"\\nmadre de @callmebrunito \\n📍Madrid                                                 1\n",
       "Name: biography, Length: 104, dtype: int64"
      ]
     },
     "execution_count": 34,
     "metadata": {},
     "output_type": "execute_result"
    }
   ],
   "source": [
    "completed_combined_df.biography.value_counts()"
   ]
  },
  {
   "cell_type": "code",
   "execution_count": 35,
   "id": "bec020f6-4bd3-4c24-8f43-accaefb8811a",
   "metadata": {},
   "outputs": [
    {
     "data": {
      "text/plain": [
       "['typename', 'influencer_type', 'sector', 'product_type', 'category_name']"
      ]
     },
     "execution_count": 35,
     "metadata": {},
     "output_type": "execute_result"
    }
   ],
   "source": [
    "# Cambiamos el tipo de las variables que hemos visto antes\n",
    "# creamos una lista con todas las variables de tipo object que vamos a convertir\n",
    "target_cols = ['typename', 'influencer_type', 'sector', 'product_type','category_name']\n",
    "cols_to_categoric = df[target_cols].columns.tolist()\n",
    "cols_to_categoric"
   ]
  },
  {
   "cell_type": "code",
   "execution_count": 36,
   "id": "898a2236-c54b-4614-b22f-884b4426b6cb",
   "metadata": {},
   "outputs": [],
   "source": [
    "# Convertimos todas esas variables de golpe:\n",
    "completed_combined_df[cols_to_categoric] = completed_combined_df[cols_to_categoric].astype(\"category\")"
   ]
  },
  {
   "cell_type": "code",
   "execution_count": 37,
   "id": "f716a600-3c87-4341-91d7-9076a7bbd759",
   "metadata": {},
   "outputs": [
    {
     "name": "stdout",
     "output_type": "stream",
     "text": [
      "<class 'pandas.core.frame.DataFrame'>\n",
      "RangeIndex: 13284 entries, 0 to 13283\n",
      "Data columns (total 26 columns):\n",
      " #   Column                      Non-Null Count  Dtype   \n",
      "---  ------                      --------------  -----   \n",
      " 0   _id                         13284 non-null  object  \n",
      " 1   username                    13284 non-null  object  \n",
      " 2   typename                    13284 non-null  category\n",
      " 3   is_video                    13284 non-null  bool    \n",
      " 4   followers                   13284 non-null  int64   \n",
      " 5   following                   13284 non-null  int64   \n",
      " 6   verified                    13284 non-null  bool    \n",
      " 7   count_comments              13284 non-null  int64   \n",
      " 8   count_likes                 13284 non-null  int64   \n",
      " 9   caption_text                13226 non-null  object  \n",
      " 10  has_audio                   6071 non-null   object  \n",
      " 11  comments_disabled           13284 non-null  bool    \n",
      " 12  product_type                6071 non-null   category\n",
      " 13  gating_info                 0 non-null      object  \n",
      " 14  taken_at_timestamp          13284 non-null  int64   \n",
      " 15  edge_liked_by               0 non-null      object  \n",
      " 16  coauthor_producers          0 non-null      object  \n",
      " 17  is_professional_account     13284 non-null  bool    \n",
      " 18  category_name               12775 non-null  category\n",
      " 19  biography                   13284 non-null  object  \n",
      " 20  tagged_user_full_name       6419 non-null   object  \n",
      " 21  tagged_is_verified          6419 non-null   object  \n",
      " 22  location                    3604 non-null   object  \n",
      " 23  edge_media_to_sponsor_user  191 non-null    object  \n",
      " 24  sector                      13284 non-null  category\n",
      " 25  influencer_type             13284 non-null  category\n",
      "dtypes: bool(4), category(5), int64(5), object(12)\n",
      "memory usage: 1.8+ MB\n"
     ]
    }
   ],
   "source": [
    "completed_combined_df.info()"
   ]
  },
  {
   "cell_type": "code",
   "execution_count": 38,
   "id": "73e57693-13ba-4627-aa6d-6a0d1ededd5c",
   "metadata": {},
   "outputs": [
    {
     "data": {
      "text/plain": [
       "['tagged_is_verified', 'has_audio']"
      ]
     },
     "execution_count": 38,
     "metadata": {},
     "output_type": "execute_result"
    }
   ],
   "source": [
    "# Cambiamos el tipo de las variables que hemos visto antes\n",
    "# creamos una lista con todas las variables de tipo object que vamos a convertir\n",
    "target_cols = ['tagged_is_verified', 'has_audio']\n",
    "cols_to_boolean = df[target_cols].columns.tolist()\n",
    "cols_to_boolean"
   ]
  },
  {
   "cell_type": "code",
   "execution_count": 39,
   "id": "bab8d099-f25d-49bd-8c25-04841d70f168",
   "metadata": {},
   "outputs": [],
   "source": [
    "# Convertimos todas esas variables de golpe:\n",
    "completed_combined_df[cols_to_boolean] = completed_combined_df[cols_to_boolean].astype(\"bool\")"
   ]
  },
  {
   "cell_type": "code",
   "execution_count": 40,
   "id": "85cc0e5f-87fb-419c-9c34-81946b30feba",
   "metadata": {},
   "outputs": [
    {
     "name": "stdout",
     "output_type": "stream",
     "text": [
      "<class 'pandas.core.frame.DataFrame'>\n",
      "RangeIndex: 13284 entries, 0 to 13283\n",
      "Data columns (total 26 columns):\n",
      " #   Column                      Non-Null Count  Dtype   \n",
      "---  ------                      --------------  -----   \n",
      " 0   _id                         13284 non-null  object  \n",
      " 1   username                    13284 non-null  object  \n",
      " 2   typename                    13284 non-null  category\n",
      " 3   is_video                    13284 non-null  bool    \n",
      " 4   followers                   13284 non-null  int64   \n",
      " 5   following                   13284 non-null  int64   \n",
      " 6   verified                    13284 non-null  bool    \n",
      " 7   count_comments              13284 non-null  int64   \n",
      " 8   count_likes                 13284 non-null  int64   \n",
      " 9   caption_text                13226 non-null  object  \n",
      " 10  has_audio                   13284 non-null  bool    \n",
      " 11  comments_disabled           13284 non-null  bool    \n",
      " 12  product_type                6071 non-null   category\n",
      " 13  gating_info                 0 non-null      object  \n",
      " 14  taken_at_timestamp          13284 non-null  int64   \n",
      " 15  edge_liked_by               0 non-null      object  \n",
      " 16  coauthor_producers          0 non-null      object  \n",
      " 17  is_professional_account     13284 non-null  bool    \n",
      " 18  category_name               12775 non-null  category\n",
      " 19  biography                   13284 non-null  object  \n",
      " 20  tagged_user_full_name       6419 non-null   object  \n",
      " 21  tagged_is_verified          13284 non-null  bool    \n",
      " 22  location                    3604 non-null   object  \n",
      " 23  edge_media_to_sponsor_user  191 non-null    object  \n",
      " 24  sector                      13284 non-null  category\n",
      " 25  influencer_type             13284 non-null  category\n",
      "dtypes: bool(6), category(5), int64(5), object(10)\n",
      "memory usage: 1.7+ MB\n"
     ]
    }
   ],
   "source": [
    "completed_combined_df.info()"
   ]
  },
  {
   "cell_type": "markdown",
   "id": "a8c041ff-2bf7-4f2e-ad26-54bf6f157aab",
   "metadata": {},
   "source": [
    "### Estandarización"
   ]
  },
  {
   "cell_type": "markdown",
   "id": "b7aeeac8-c7f9-401d-959c-abaa5493e55a",
   "metadata": {},
   "source": [
    "#### Formato fecha y hora"
   ]
  },
  {
   "cell_type": "markdown",
   "id": "1bb61281-8c13-4074-acfa-15ebe64e4b59",
   "metadata": {},
   "source": [
    "La única columna que tiene datos de fecha y hora es la de **taken_at_timestamp**."
   ]
  },
  {
   "cell_type": "code",
   "execution_count": 41,
   "id": "c731424b-564b-48f9-835a-2d48226cc56c",
   "metadata": {},
   "outputs": [
    {
     "data": {
      "text/plain": [
       "0    1488388523\n",
       "1    1488391615\n",
       "2    1488459427\n",
       "3    1488569248\n",
       "4    1488730274\n",
       "Name: taken_at_timestamp, dtype: int64"
      ]
     },
     "execution_count": 41,
     "metadata": {},
     "output_type": "execute_result"
    }
   ],
   "source": [
    "completed_combined_df['taken_at_timestamp'].head()"
   ]
  },
  {
   "cell_type": "markdown",
   "id": "0b8c1c5a-fc95-496d-97bf-92c4f9142f01",
   "metadata": {},
   "source": [
    "Estos numeros son marcas de tiempo en formato UNIX, que es el número de segundos que han transcurrido desde la medianoche UTC del 1 de enero de 1970, sin contar los segundos de los años bisiestos. Por lo tanto, lo convertimos esto al formato estándar internacional de referencia ISO 8601."
   ]
  },
  {
   "cell_type": "code",
   "execution_count": 42,
   "id": "53b49fdd-9bb9-4fb9-8ee9-199dfa55bae5",
   "metadata": {},
   "outputs": [],
   "source": [
    "completed_combined_df['taken_at_timestamp'] = pd.to_datetime(completed_combined_df['taken_at_timestamp'], unit='s')"
   ]
  },
  {
   "cell_type": "markdown",
   "id": "83eb33bf-f9f3-40e2-9cb6-8731fb17d250",
   "metadata": {},
   "source": [
    "Mostramos el nuevo formato de la columna"
   ]
  },
  {
   "cell_type": "code",
   "execution_count": 43,
   "id": "3856dfa6-7d6b-40b0-a0b8-16857aac00b6",
   "metadata": {},
   "outputs": [
    {
     "data": {
      "text/plain": [
       "0   2017-03-01 17:15:23\n",
       "1   2017-03-01 18:06:55\n",
       "2   2017-03-02 12:57:07\n",
       "3   2017-03-03 19:27:28\n",
       "4   2017-03-05 16:11:14\n",
       "Name: taken_at_timestamp, dtype: datetime64[ns]"
      ]
     },
     "execution_count": 43,
     "metadata": {},
     "output_type": "execute_result"
    }
   ],
   "source": [
    "completed_combined_df['taken_at_timestamp'].head()"
   ]
  },
  {
   "cell_type": "markdown",
   "id": "96550414-4d70-4cfd-96db-da1525c5dd1c",
   "metadata": {},
   "source": [
    "### Atomización de valores"
   ]
  },
  {
   "cell_type": "markdown",
   "id": "09ce87d9-cdfd-4b7e-b2a0-b5e59ad5d81f",
   "metadata": {},
   "source": [
    "Se considera que hay valores \"no atómicos\" cuando en un campo hay más de 1 único valor/concepto."
   ]
  },
  {
   "cell_type": "markdown",
   "id": "452ffafd-f404-48ec-8afc-4cd01f1bcbf1",
   "metadata": {},
   "source": [
    "#### Location"
   ]
  },
  {
   "cell_type": "code",
   "execution_count": 44,
   "id": "070cc336-59c2-4417-8533-aa2d0d7d29c6",
   "metadata": {},
   "outputs": [
    {
     "data": {
      "text/plain": [
       "NaN                          9680\n",
       "Madrid, Spain                 449\n",
       "Barcelona, Spain              268\n",
       "Valencia                      231\n",
       "Tenerife                      118\n",
       "                             ... \n",
       "Puente Del Rio Tinto            1\n",
       "Kilómetros de Pizza             1\n",
       "Abu-Dabi                        1\n",
       "Velazquez 12                    1\n",
       "Algún Lugar De La Galaxia       1\n",
       "Name: location, Length: 891, dtype: int64"
      ]
     },
     "execution_count": 44,
     "metadata": {},
     "output_type": "execute_result"
    }
   ],
   "source": [
    "completed_combined_df.location.value_counts(dropna=False)"
   ]
  },
  {
   "cell_type": "code",
   "execution_count": 45,
   "id": "a2a6b3b2-5ebf-4380-ad4c-90c1d87aab5e",
   "metadata": {},
   "outputs": [],
   "source": [
    "geolocator = geopy.geocoders.Nominatim(user_agent='my_geocoder')\n",
    "geonames = GeonamesCache()\n",
    "\n",
    "def geolocation(row):\n",
    "    if pd.notnull(row['location']):\n",
    "        location = row['location'].strip()\n",
    "        try:\n",
    "            geocode = geolocator.geocode(location)\n",
    "            if geocode:\n",
    "                address_parts = geocode.address.split(', ')\n",
    "                if len(address_parts) >= 2:\n",
    "                    return address_parts[-2], address_parts[-1]\n",
    "        except geopy.exc.GeocoderTimedOut:\n",
    "            return None\n",
    "        except geopy.exc.GeocoderUnavailable:\n",
    "            return None\n",
    "    return None\n",
    "\n",
    "def city_assigning(row):\n",
    "    if pd.notnull(row['geolocation']):\n",
    "        city_code = row['geolocation'][0]\n",
    "        city_data = geonames.get_cities().get(city_code)\n",
    "        if city_data:\n",
    "            return city_data['name']\n",
    "    return 'N/A'\n",
    "\n",
    "def country_assigning(row):\n",
    "    if pd.notnull(row['geolocation']):\n",
    "        return row['geolocation'][1]\n",
    "    return 'N/A'"
   ]
  },
  {
   "cell_type": "code",
   "execution_count": 46,
   "id": "b96c4f9a-5cbf-444f-a2d8-ccce99dccedb",
   "metadata": {},
   "outputs": [],
   "source": [
    "# Aplicamos la función de geolocalización a la columna 'location' y creamos una nueva columna 'geolocation'\n",
    "# completed_combined_df['geolocation'] = completed_combined_df.apply(geolocation, axis=1)"
   ]
  },
  {
   "cell_type": "code",
   "execution_count": 47,
   "id": "b2f08972-13f5-4ca4-b059-2fb7cc05568c",
   "metadata": {},
   "outputs": [
    {
     "data": {
      "text/plain": [
       "13284"
      ]
     },
     "execution_count": 47,
     "metadata": {},
     "output_type": "execute_result"
    }
   ],
   "source": [
    "len(completed_combined_df.index)   "
   ]
  },
  {
   "cell_type": "markdown",
   "id": "fa46b067-203f-41e9-91fb-1e63dbc4c576",
   "metadata": {},
   "source": [
    "Es necesario separar las llamadas a la librería geopy porque de lo contrario devuelve un error al intentar hacer demasiadas peticiones en un mismo proceso"
   ]
  },
  {
   "cell_type": "code",
   "execution_count": 48,
   "id": "1ce40aee-2669-42e3-b344-2e74183b6f63",
   "metadata": {},
   "outputs": [
    {
     "name": "stdout",
     "output_type": "stream",
     "text": [
      "Dataframe 1 geolocalizado\n",
      "Dataframe 2 geolocalizado\n",
      "Dataframe 3 geolocalizado\n",
      "Dataframe 4 geolocalizado\n",
      "Dataframe 5 geolocalizado\n"
     ]
    }
   ],
   "source": [
    "split_size = 500\n",
    "sub_df_list = []\n",
    "row_number_altered = None\n",
    "for i in range(1,6):\n",
    "    row_number_altered = split_size * i\n",
    "    sub_df_list.append(completed_combined_df.iloc[row_number_altered - split_size:row_number_altered,:].apply(geolocation, axis=1))\n",
    "    print(\"Dataframe \" + str(i) + \" geolocalizado\")"
   ]
  },
  {
   "cell_type": "code",
   "execution_count": 49,
   "id": "fd673f9d-53b4-4cad-97da-0e03dccb56e1",
   "metadata": {},
   "outputs": [
    {
     "name": "stdout",
     "output_type": "stream",
     "text": [
      "Dataframe 6 geolocalizado\n",
      "Dataframe 7 geolocalizado\n",
      "Dataframe 8 geolocalizado\n",
      "Dataframe 9 geolocalizado\n",
      "Dataframe 10 geolocalizado\n",
      "Dataframe 11 geolocalizado\n"
     ]
    }
   ],
   "source": [
    "for i in range(6,12):\n",
    "    row_number_altered = split_size * i\n",
    "    sub_df_list.append(completed_combined_df.iloc[row_number_altered - split_size:row_number_altered,:].apply(geolocation, axis=1))\n",
    "    print(\"Dataframe \" + str(i) + \" geolocalizado\")\n"
   ]
  },
  {
   "cell_type": "code",
   "execution_count": null,
   "id": "4e934134-49fe-43ab-8456-1a12c35b8efa",
   "metadata": {},
   "outputs": [
    {
     "name": "stdout",
     "output_type": "stream",
     "text": [
      "Dataframe 12 geolocalizado\n",
      "Dataframe 13 geolocalizado\n",
      "Dataframe 14 geolocalizado\n",
      "Dataframe 15 geolocalizado\n",
      "Dataframe 16 geolocalizado\n",
      "Dataframe 17 geolocalizado\n"
     ]
    }
   ],
   "source": [
    "for i in range(12,18):\n",
    "    row_number_altered = split_size * i\n",
    "    sub_df_list.append(completed_combined_df.iloc[row_number_altered - split_size:row_number_altered,:].apply(geolocation, axis=1))\n",
    "    print(\"Dataframe \" + str(i) + \" geolocalizado\")\n"
   ]
  },
  {
   "cell_type": "code",
   "execution_count": 51,
   "id": "27561a31-79cb-40ce-8e73-c0817660ff73",
   "metadata": {},
   "outputs": [
    {
     "name": "stdout",
     "output_type": "stream",
     "text": [
      "Dataframe 18 geolocalizado\n",
      "Dataframe 19 geolocalizado\n",
      "Dataframe 20 geolocalizado\n",
      "Dataframe 21 geolocalizado\n",
      "Dataframe 22 geolocalizado\n"
     ]
    }
   ],
   "source": [
    "for i in range(18,23):\n",
    "    row_number_altered = split_size * i\n",
    "    sub_df_list.append(completed_combined_df.iloc[row_number_altered - split_size:row_number_altered,:].apply(geolocation, axis=1))\n",
    "    print(\"Dataframe \" + str(i) + \" geolocalizado\")\n"
   ]
  },
  {
   "cell_type": "code",
   "execution_count": 52,
   "id": "1db33b1b-eb07-4eec-98d0-9ff91446f9f4",
   "metadata": {},
   "outputs": [
    {
     "name": "stdout",
     "output_type": "stream",
     "text": [
      "Dataframe 23 geolocalizado\n",
      "Dataframe 24 geolocalizado\n",
      "Dataframe 25 geolocalizado\n"
     ]
    }
   ],
   "source": [
    "for i in range(23,26):\n",
    "    row_number_altered = split_size * i\n",
    "    sub_df_list.append(completed_combined_df.iloc[row_number_altered - split_size:row_number_altered,:].apply(geolocation, axis=1))\n",
    "    print(\"Dataframe \" + str(i) + \" geolocalizado\")\n",
    "sub_df_list.append(completed_combined_df.iloc[row_number_altered:,:].apply(geolocation, axis=1))\n"
   ]
  },
  {
   "cell_type": "code",
   "execution_count": 53,
   "id": "8bd742ab-166d-4297-9394-23bf39d7cf01",
   "metadata": {},
   "outputs": [],
   "source": [
    "sub_df_combined = pd.concat(sub_df_list, ignore_index=True)"
   ]
  },
  {
   "cell_type": "code",
   "execution_count": 54,
   "id": "85686296-763c-4bed-b1ff-e6cde14494a1",
   "metadata": {},
   "outputs": [
    {
     "data": {
      "text/plain": [
       "13284"
      ]
     },
     "execution_count": 54,
     "metadata": {},
     "output_type": "execute_result"
    }
   ],
   "source": [
    "len(sub_df_combined)"
   ]
  },
  {
   "cell_type": "code",
   "execution_count": 55,
   "id": "d61b2b93-2fe0-4d91-afec-2bbdbe5d1e8d",
   "metadata": {},
   "outputs": [
    {
     "data": {
      "text/plain": [
       "0                           None\n",
       "1                           None\n",
       "2                (116 35, Ελλάς)\n",
       "3                           None\n",
       "4                (28050, España)\n",
       "                  ...           \n",
       "13279                       None\n",
       "13280                       None\n",
       "13281    (Illes Balears, España)\n",
       "13282    (Illes Balears, España)\n",
       "13283                       None\n",
       "Length: 13284, dtype: object"
      ]
     },
     "execution_count": 55,
     "metadata": {},
     "output_type": "execute_result"
    }
   ],
   "source": [
    "sub_df_combined"
   ]
  },
  {
   "cell_type": "code",
   "execution_count": 56,
   "id": "4ea0ce05-eead-41f6-beae-35e99058777a",
   "metadata": {},
   "outputs": [],
   "source": [
    "completed_combined_df['geolocation'] = sub_df_combined"
   ]
  },
  {
   "cell_type": "code",
   "execution_count": 57,
   "id": "07681b79-7277-4cd3-aed9-dff4bddaa39a",
   "metadata": {},
   "outputs": [
    {
     "data": {
      "text/html": [
       "<div>\n",
       "<style scoped>\n",
       "    .dataframe tbody tr th:only-of-type {\n",
       "        vertical-align: middle;\n",
       "    }\n",
       "\n",
       "    .dataframe tbody tr th {\n",
       "        vertical-align: top;\n",
       "    }\n",
       "\n",
       "    .dataframe thead th {\n",
       "        text-align: right;\n",
       "    }\n",
       "</style>\n",
       "<table border=\"1\" class=\"dataframe\">\n",
       "  <thead>\n",
       "    <tr style=\"text-align: right;\">\n",
       "      <th></th>\n",
       "      <th>_id</th>\n",
       "      <th>username</th>\n",
       "      <th>typename</th>\n",
       "      <th>is_video</th>\n",
       "      <th>followers</th>\n",
       "      <th>following</th>\n",
       "      <th>verified</th>\n",
       "      <th>count_comments</th>\n",
       "      <th>count_likes</th>\n",
       "      <th>caption_text</th>\n",
       "      <th>...</th>\n",
       "      <th>is_professional_account</th>\n",
       "      <th>category_name</th>\n",
       "      <th>biography</th>\n",
       "      <th>tagged_user_full_name</th>\n",
       "      <th>tagged_is_verified</th>\n",
       "      <th>location</th>\n",
       "      <th>edge_media_to_sponsor_user</th>\n",
       "      <th>sector</th>\n",
       "      <th>influencer_type</th>\n",
       "      <th>geolocation</th>\n",
       "    </tr>\n",
       "  </thead>\n",
       "  <tbody>\n",
       "    <tr>\n",
       "      <th>0</th>\n",
       "      <td>1461031291230411282</td>\n",
       "      <td>bazardemarisse</td>\n",
       "      <td>GraphImage</td>\n",
       "      <td>False</td>\n",
       "      <td>1879</td>\n",
       "      <td>1696</td>\n",
       "      <td>False</td>\n",
       "      <td>1</td>\n",
       "      <td>43</td>\n",
       "      <td>Son pendrives aunque no lo parezcan y con ello...</td>\n",
       "      <td>...</td>\n",
       "      <td>True</td>\n",
       "      <td>Personal blog</td>\n",
       "      <td>💄 Beauty 👗 Fashion and 👯‍♀️ Lifestyle blogger\\...</td>\n",
       "      <td>Just Cavalli</td>\n",
       "      <td>True</td>\n",
       "      <td>None</td>\n",
       "      <td>NaN</td>\n",
       "      <td>BEAUTY</td>\n",
       "      <td>NANO</td>\n",
       "      <td>None</td>\n",
       "    </tr>\n",
       "    <tr>\n",
       "      <th>1</th>\n",
       "      <td>1461057228236014541</td>\n",
       "      <td>bazardemarisse</td>\n",
       "      <td>GraphImage</td>\n",
       "      <td>False</td>\n",
       "      <td>1879</td>\n",
       "      <td>1696</td>\n",
       "      <td>False</td>\n",
       "      <td>2</td>\n",
       "      <td>49</td>\n",
       "      <td>Hoy hemos conocido un estudio muy interesante ...</td>\n",
       "      <td>...</td>\n",
       "      <td>True</td>\n",
       "      <td>Personal blog</td>\n",
       "      <td>💄 Beauty 👗 Fashion and 👯‍♀️ Lifestyle blogger\\...</td>\n",
       "      <td>Cayetana Guillén-Cuervo</td>\n",
       "      <td>True</td>\n",
       "      <td>None</td>\n",
       "      <td>NaN</td>\n",
       "      <td>BEAUTY</td>\n",
       "      <td>NANO</td>\n",
       "      <td>None</td>\n",
       "    </tr>\n",
       "    <tr>\n",
       "      <th>2</th>\n",
       "      <td>1461626070960120583</td>\n",
       "      <td>bazardemarisse</td>\n",
       "      <td>GraphImage</td>\n",
       "      <td>False</td>\n",
       "      <td>1879</td>\n",
       "      <td>1696</td>\n",
       "      <td>False</td>\n",
       "      <td>1</td>\n",
       "      <td>61</td>\n",
       "      <td>Celebrando los 25 años de @uriagespain en siti...</td>\n",
       "      <td>...</td>\n",
       "      <td>True</td>\n",
       "      <td>Personal blog</td>\n",
       "      <td>💄 Beauty 👗 Fashion and 👯‍♀️ Lifestyle blogger\\...</td>\n",
       "      <td>Salon des Fleurs</td>\n",
       "      <td>False</td>\n",
       "      <td>Salon des Fleurs</td>\n",
       "      <td>NaN</td>\n",
       "      <td>BEAUTY</td>\n",
       "      <td>NANO</td>\n",
       "      <td>(116 35, Ελλάς)</td>\n",
       "    </tr>\n",
       "    <tr>\n",
       "      <th>3</th>\n",
       "      <td>1462547320532230958</td>\n",
       "      <td>bazardemarisse</td>\n",
       "      <td>GraphImage</td>\n",
       "      <td>False</td>\n",
       "      <td>1879</td>\n",
       "      <td>1696</td>\n",
       "      <td>False</td>\n",
       "      <td>6</td>\n",
       "      <td>68</td>\n",
       "      <td>Una gama muy amplia y un colorido impresionant...</td>\n",
       "      <td>...</td>\n",
       "      <td>True</td>\n",
       "      <td>Personal blog</td>\n",
       "      <td>💄 Beauty 👗 Fashion and 👯‍♀️ Lifestyle blogger\\...</td>\n",
       "      <td>Perfumerías Primor</td>\n",
       "      <td>True</td>\n",
       "      <td>None</td>\n",
       "      <td>NaN</td>\n",
       "      <td>BEAUTY</td>\n",
       "      <td>NANO</td>\n",
       "      <td>None</td>\n",
       "    </tr>\n",
       "    <tr>\n",
       "      <th>4</th>\n",
       "      <td>1463898105857794613</td>\n",
       "      <td>bazardemarisse</td>\n",
       "      <td>GraphImage</td>\n",
       "      <td>False</td>\n",
       "      <td>1879</td>\n",
       "      <td>1696</td>\n",
       "      <td>False</td>\n",
       "      <td>10</td>\n",
       "      <td>76</td>\n",
       "      <td>Las mejores pizzas de Madrid están al lado del...</td>\n",
       "      <td>...</td>\n",
       "      <td>True</td>\n",
       "      <td>Personal blog</td>\n",
       "      <td>💄 Beauty 👗 Fashion and 👯‍♀️ Lifestyle blogger\\...</td>\n",
       "      <td>essie</td>\n",
       "      <td>True</td>\n",
       "      <td>Kilómetros de Pizza</td>\n",
       "      <td>NaN</td>\n",
       "      <td>BEAUTY</td>\n",
       "      <td>NANO</td>\n",
       "      <td>(28050, España)</td>\n",
       "    </tr>\n",
       "    <tr>\n",
       "      <th>...</th>\n",
       "      <td>...</td>\n",
       "      <td>...</td>\n",
       "      <td>...</td>\n",
       "      <td>...</td>\n",
       "      <td>...</td>\n",
       "      <td>...</td>\n",
       "      <td>...</td>\n",
       "      <td>...</td>\n",
       "      <td>...</td>\n",
       "      <td>...</td>\n",
       "      <td>...</td>\n",
       "      <td>...</td>\n",
       "      <td>...</td>\n",
       "      <td>...</td>\n",
       "      <td>...</td>\n",
       "      <td>...</td>\n",
       "      <td>...</td>\n",
       "      <td>...</td>\n",
       "      <td>...</td>\n",
       "      <td>...</td>\n",
       "      <td>...</td>\n",
       "    </tr>\n",
       "    <tr>\n",
       "      <th>13279</th>\n",
       "      <td>3111938987433797684</td>\n",
       "      <td>vikikacosta</td>\n",
       "      <td>GraphVideo</td>\n",
       "      <td>True</td>\n",
       "      <td>1062361</td>\n",
       "      <td>983</td>\n",
       "      <td>True</td>\n",
       "      <td>59</td>\n",
       "      <td>14286</td>\n",
       "      <td>🦀✅VACACIONES???🙌🏼🎉 Haz este entrenamiento SIN ...</td>\n",
       "      <td>...</td>\n",
       "      <td>True</td>\n",
       "      <td>Entrepreneur</td>\n",
       "      <td>🌟Ponte metas, no límites. \\n@entrenavirtual.es...</td>\n",
       "      <td>None</td>\n",
       "      <td>False</td>\n",
       "      <td>None</td>\n",
       "      <td>NaN</td>\n",
       "      <td>FITNESS</td>\n",
       "      <td>MEGA</td>\n",
       "      <td>None</td>\n",
       "    </tr>\n",
       "    <tr>\n",
       "      <th>13280</th>\n",
       "      <td>3112105038420076511</td>\n",
       "      <td>vikikacosta</td>\n",
       "      <td>GraphVideo</td>\n",
       "      <td>True</td>\n",
       "      <td>1062361</td>\n",
       "      <td>983</td>\n",
       "      <td>True</td>\n",
       "      <td>131</td>\n",
       "      <td>10653</td>\n",
       "      <td>Irene &amp; Manu 27/05/23 📍Mallorca\\nEl vestido de...</td>\n",
       "      <td>...</td>\n",
       "      <td>True</td>\n",
       "      <td>Entrepreneur</td>\n",
       "      <td>🌟Ponte metas, no límites. \\n@entrenavirtual.es...</td>\n",
       "      <td>PERÒ</td>\n",
       "      <td>False</td>\n",
       "      <td>None</td>\n",
       "      <td>NaN</td>\n",
       "      <td>FITNESS</td>\n",
       "      <td>MEGA</td>\n",
       "      <td>None</td>\n",
       "    </tr>\n",
       "    <tr>\n",
       "      <th>13281</th>\n",
       "      <td>3112645464515939340</td>\n",
       "      <td>vikikacosta</td>\n",
       "      <td>GraphSidecar</td>\n",
       "      <td>False</td>\n",
       "      <td>1062361</td>\n",
       "      <td>983</td>\n",
       "      <td>True</td>\n",
       "      <td>58</td>\n",
       "      <td>11523</td>\n",
       "      <td>Ayer fue mágico, no lo digo por decir. Irene y...</td>\n",
       "      <td>...</td>\n",
       "      <td>True</td>\n",
       "      <td>Entrepreneur</td>\n",
       "      <td>🌟Ponte metas, no límites. \\n@entrenavirtual.es...</td>\n",
       "      <td>Javier Menendez I Entrena Virtual #undiamasund...</td>\n",
       "      <td>True</td>\n",
       "      <td>Mallorca, Islas Baleares, España</td>\n",
       "      <td>NaN</td>\n",
       "      <td>FITNESS</td>\n",
       "      <td>MEGA</td>\n",
       "      <td>(Illes Balears, España)</td>\n",
       "    </tr>\n",
       "    <tr>\n",
       "      <th>13282</th>\n",
       "      <td>3113674384220704610</td>\n",
       "      <td>vikikacosta</td>\n",
       "      <td>GraphVideo</td>\n",
       "      <td>True</td>\n",
       "      <td>1062361</td>\n",
       "      <td>983</td>\n",
       "      <td>True</td>\n",
       "      <td>46</td>\n",
       "      <td>9608</td>\n",
       "      <td>7️⃣👌🏼</td>\n",
       "      <td>...</td>\n",
       "      <td>True</td>\n",
       "      <td>Entrepreneur</td>\n",
       "      <td>🌟Ponte metas, no límites. \\n@entrenavirtual.es...</td>\n",
       "      <td>None</td>\n",
       "      <td>False</td>\n",
       "      <td>Mallorca, Islas Baleares, España</td>\n",
       "      <td>NaN</td>\n",
       "      <td>FITNESS</td>\n",
       "      <td>MEGA</td>\n",
       "      <td>(Illes Balears, España)</td>\n",
       "    </tr>\n",
       "    <tr>\n",
       "      <th>13283</th>\n",
       "      <td>3114211179140095816</td>\n",
       "      <td>vikikacosta</td>\n",
       "      <td>GraphVideo</td>\n",
       "      <td>True</td>\n",
       "      <td>1062361</td>\n",
       "      <td>983</td>\n",
       "      <td>True</td>\n",
       "      <td>32</td>\n",
       "      <td>5838</td>\n",
       "      <td>🚀GLÚTEOS ON FIRE SIN MATERIAL🔥 A TRABAJAR LA F...</td>\n",
       "      <td>...</td>\n",
       "      <td>True</td>\n",
       "      <td>Entrepreneur</td>\n",
       "      <td>🌟Ponte metas, no límites. \\n@entrenavirtual.es...</td>\n",
       "      <td>None</td>\n",
       "      <td>False</td>\n",
       "      <td>None</td>\n",
       "      <td>NaN</td>\n",
       "      <td>FITNESS</td>\n",
       "      <td>MEGA</td>\n",
       "      <td>None</td>\n",
       "    </tr>\n",
       "  </tbody>\n",
       "</table>\n",
       "<p>13284 rows × 27 columns</p>\n",
       "</div>"
      ],
      "text/plain": [
       "                       _id        username      typename  is_video  followers  \\\n",
       "0      1461031291230411282  bazardemarisse    GraphImage     False       1879   \n",
       "1      1461057228236014541  bazardemarisse    GraphImage     False       1879   \n",
       "2      1461626070960120583  bazardemarisse    GraphImage     False       1879   \n",
       "3      1462547320532230958  bazardemarisse    GraphImage     False       1879   \n",
       "4      1463898105857794613  bazardemarisse    GraphImage     False       1879   \n",
       "...                    ...             ...           ...       ...        ...   \n",
       "13279  3111938987433797684     vikikacosta    GraphVideo      True    1062361   \n",
       "13280  3112105038420076511     vikikacosta    GraphVideo      True    1062361   \n",
       "13281  3112645464515939340     vikikacosta  GraphSidecar     False    1062361   \n",
       "13282  3113674384220704610     vikikacosta    GraphVideo      True    1062361   \n",
       "13283  3114211179140095816     vikikacosta    GraphVideo      True    1062361   \n",
       "\n",
       "       following  verified  count_comments  count_likes  \\\n",
       "0           1696     False               1           43   \n",
       "1           1696     False               2           49   \n",
       "2           1696     False               1           61   \n",
       "3           1696     False               6           68   \n",
       "4           1696     False              10           76   \n",
       "...          ...       ...             ...          ...   \n",
       "13279        983      True              59        14286   \n",
       "13280        983      True             131        10653   \n",
       "13281        983      True              58        11523   \n",
       "13282        983      True              46         9608   \n",
       "13283        983      True              32         5838   \n",
       "\n",
       "                                            caption_text  ...  \\\n",
       "0      Son pendrives aunque no lo parezcan y con ello...  ...   \n",
       "1      Hoy hemos conocido un estudio muy interesante ...  ...   \n",
       "2      Celebrando los 25 años de @uriagespain en siti...  ...   \n",
       "3      Una gama muy amplia y un colorido impresionant...  ...   \n",
       "4      Las mejores pizzas de Madrid están al lado del...  ...   \n",
       "...                                                  ...  ...   \n",
       "13279  🦀✅VACACIONES???🙌🏼🎉 Haz este entrenamiento SIN ...  ...   \n",
       "13280  Irene & Manu 27/05/23 📍Mallorca\\nEl vestido de...  ...   \n",
       "13281  Ayer fue mágico, no lo digo por decir. Irene y...  ...   \n",
       "13282                                              7️⃣👌🏼  ...   \n",
       "13283  🚀GLÚTEOS ON FIRE SIN MATERIAL🔥 A TRABAJAR LA F...  ...   \n",
       "\n",
       "       is_professional_account  category_name  \\\n",
       "0                         True  Personal blog   \n",
       "1                         True  Personal blog   \n",
       "2                         True  Personal blog   \n",
       "3                         True  Personal blog   \n",
       "4                         True  Personal blog   \n",
       "...                        ...            ...   \n",
       "13279                     True   Entrepreneur   \n",
       "13280                     True   Entrepreneur   \n",
       "13281                     True   Entrepreneur   \n",
       "13282                     True   Entrepreneur   \n",
       "13283                     True   Entrepreneur   \n",
       "\n",
       "                                               biography  \\\n",
       "0      💄 Beauty 👗 Fashion and 👯‍♀️ Lifestyle blogger\\...   \n",
       "1      💄 Beauty 👗 Fashion and 👯‍♀️ Lifestyle blogger\\...   \n",
       "2      💄 Beauty 👗 Fashion and 👯‍♀️ Lifestyle blogger\\...   \n",
       "3      💄 Beauty 👗 Fashion and 👯‍♀️ Lifestyle blogger\\...   \n",
       "4      💄 Beauty 👗 Fashion and 👯‍♀️ Lifestyle blogger\\...   \n",
       "...                                                  ...   \n",
       "13279  🌟Ponte metas, no límites. \\n@entrenavirtual.es...   \n",
       "13280  🌟Ponte metas, no límites. \\n@entrenavirtual.es...   \n",
       "13281  🌟Ponte metas, no límites. \\n@entrenavirtual.es...   \n",
       "13282  🌟Ponte metas, no límites. \\n@entrenavirtual.es...   \n",
       "13283  🌟Ponte metas, no límites. \\n@entrenavirtual.es...   \n",
       "\n",
       "                                   tagged_user_full_name tagged_is_verified  \\\n",
       "0                                           Just Cavalli               True   \n",
       "1                               Cayetana Guillén-Cuervo               True   \n",
       "2                                       Salon des Fleurs              False   \n",
       "3                                    Perfumerías Primor               True   \n",
       "4                                                  essie               True   \n",
       "...                                                  ...                ...   \n",
       "13279                                               None              False   \n",
       "13280                                              PERÒ              False   \n",
       "13281  Javier Menendez I Entrena Virtual #undiamasund...               True   \n",
       "13282                                               None              False   \n",
       "13283                                               None              False   \n",
       "\n",
       "                               location edge_media_to_sponsor_user   sector  \\\n",
       "0                                  None                        NaN   BEAUTY   \n",
       "1                                  None                        NaN   BEAUTY   \n",
       "2                      Salon des Fleurs                        NaN   BEAUTY   \n",
       "3                                  None                        NaN   BEAUTY   \n",
       "4                   Kilómetros de Pizza                        NaN   BEAUTY   \n",
       "...                                 ...                        ...      ...   \n",
       "13279                              None                        NaN  FITNESS   \n",
       "13280                              None                        NaN  FITNESS   \n",
       "13281  Mallorca, Islas Baleares, España                        NaN  FITNESS   \n",
       "13282  Mallorca, Islas Baleares, España                        NaN  FITNESS   \n",
       "13283                              None                        NaN  FITNESS   \n",
       "\n",
       "      influencer_type              geolocation  \n",
       "0                NANO                     None  \n",
       "1                NANO                     None  \n",
       "2                NANO          (116 35, Ελλάς)  \n",
       "3                NANO                     None  \n",
       "4                NANO          (28050, España)  \n",
       "...               ...                      ...  \n",
       "13279            MEGA                     None  \n",
       "13280            MEGA                     None  \n",
       "13281            MEGA  (Illes Balears, España)  \n",
       "13282            MEGA  (Illes Balears, España)  \n",
       "13283            MEGA                     None  \n",
       "\n",
       "[13284 rows x 27 columns]"
      ]
     },
     "execution_count": 57,
     "metadata": {},
     "output_type": "execute_result"
    }
   ],
   "source": [
    "completed_combined_df"
   ]
  },
  {
   "cell_type": "code",
   "execution_count": 58,
   "id": "b906fe00-b3ba-4245-9231-f097165bb996",
   "metadata": {},
   "outputs": [],
   "source": [
    "# Creamos los campos 'city' y 'country' a partir de la columna 'geolocation' y clasificamos los no asignados como \"N/A\"\n",
    "completed_combined_df['city'] = completed_combined_df.apply(city_assigning, axis=1)\n",
    "completed_combined_df['country'] = completed_combined_df.apply(country_assigning, axis=1)"
   ]
  },
  {
   "cell_type": "code",
   "execution_count": 59,
   "id": "4cfc827d-be47-42f3-8379-1faa37032276",
   "metadata": {},
   "outputs": [
    {
     "data": {
      "text/html": [
       "<div>\n",
       "<style scoped>\n",
       "    .dataframe tbody tr th:only-of-type {\n",
       "        vertical-align: middle;\n",
       "    }\n",
       "\n",
       "    .dataframe tbody tr th {\n",
       "        vertical-align: top;\n",
       "    }\n",
       "\n",
       "    .dataframe thead th {\n",
       "        text-align: right;\n",
       "    }\n",
       "</style>\n",
       "<table border=\"1\" class=\"dataframe\">\n",
       "  <thead>\n",
       "    <tr style=\"text-align: right;\">\n",
       "      <th></th>\n",
       "      <th>_id</th>\n",
       "      <th>username</th>\n",
       "      <th>typename</th>\n",
       "      <th>is_video</th>\n",
       "      <th>followers</th>\n",
       "      <th>following</th>\n",
       "      <th>verified</th>\n",
       "      <th>count_comments</th>\n",
       "      <th>count_likes</th>\n",
       "      <th>caption_text</th>\n",
       "      <th>...</th>\n",
       "      <th>biography</th>\n",
       "      <th>tagged_user_full_name</th>\n",
       "      <th>tagged_is_verified</th>\n",
       "      <th>location</th>\n",
       "      <th>edge_media_to_sponsor_user</th>\n",
       "      <th>sector</th>\n",
       "      <th>influencer_type</th>\n",
       "      <th>geolocation</th>\n",
       "      <th>city</th>\n",
       "      <th>country</th>\n",
       "    </tr>\n",
       "  </thead>\n",
       "  <tbody>\n",
       "    <tr>\n",
       "      <th>0</th>\n",
       "      <td>1461031291230411282</td>\n",
       "      <td>bazardemarisse</td>\n",
       "      <td>GraphImage</td>\n",
       "      <td>False</td>\n",
       "      <td>1879</td>\n",
       "      <td>1696</td>\n",
       "      <td>False</td>\n",
       "      <td>1</td>\n",
       "      <td>43</td>\n",
       "      <td>Son pendrives aunque no lo parezcan y con ello...</td>\n",
       "      <td>...</td>\n",
       "      <td>💄 Beauty 👗 Fashion and 👯‍♀️ Lifestyle blogger\\...</td>\n",
       "      <td>Just Cavalli</td>\n",
       "      <td>True</td>\n",
       "      <td>None</td>\n",
       "      <td>NaN</td>\n",
       "      <td>BEAUTY</td>\n",
       "      <td>NANO</td>\n",
       "      <td>None</td>\n",
       "      <td>N/A</td>\n",
       "      <td>N/A</td>\n",
       "    </tr>\n",
       "    <tr>\n",
       "      <th>1</th>\n",
       "      <td>1461057228236014541</td>\n",
       "      <td>bazardemarisse</td>\n",
       "      <td>GraphImage</td>\n",
       "      <td>False</td>\n",
       "      <td>1879</td>\n",
       "      <td>1696</td>\n",
       "      <td>False</td>\n",
       "      <td>2</td>\n",
       "      <td>49</td>\n",
       "      <td>Hoy hemos conocido un estudio muy interesante ...</td>\n",
       "      <td>...</td>\n",
       "      <td>💄 Beauty 👗 Fashion and 👯‍♀️ Lifestyle blogger\\...</td>\n",
       "      <td>Cayetana Guillén-Cuervo</td>\n",
       "      <td>True</td>\n",
       "      <td>None</td>\n",
       "      <td>NaN</td>\n",
       "      <td>BEAUTY</td>\n",
       "      <td>NANO</td>\n",
       "      <td>None</td>\n",
       "      <td>N/A</td>\n",
       "      <td>N/A</td>\n",
       "    </tr>\n",
       "    <tr>\n",
       "      <th>2</th>\n",
       "      <td>1461626070960120583</td>\n",
       "      <td>bazardemarisse</td>\n",
       "      <td>GraphImage</td>\n",
       "      <td>False</td>\n",
       "      <td>1879</td>\n",
       "      <td>1696</td>\n",
       "      <td>False</td>\n",
       "      <td>1</td>\n",
       "      <td>61</td>\n",
       "      <td>Celebrando los 25 años de @uriagespain en siti...</td>\n",
       "      <td>...</td>\n",
       "      <td>💄 Beauty 👗 Fashion and 👯‍♀️ Lifestyle blogger\\...</td>\n",
       "      <td>Salon des Fleurs</td>\n",
       "      <td>False</td>\n",
       "      <td>Salon des Fleurs</td>\n",
       "      <td>NaN</td>\n",
       "      <td>BEAUTY</td>\n",
       "      <td>NANO</td>\n",
       "      <td>(116 35, Ελλάς)</td>\n",
       "      <td>N/A</td>\n",
       "      <td>Ελλάς</td>\n",
       "    </tr>\n",
       "    <tr>\n",
       "      <th>3</th>\n",
       "      <td>1462547320532230958</td>\n",
       "      <td>bazardemarisse</td>\n",
       "      <td>GraphImage</td>\n",
       "      <td>False</td>\n",
       "      <td>1879</td>\n",
       "      <td>1696</td>\n",
       "      <td>False</td>\n",
       "      <td>6</td>\n",
       "      <td>68</td>\n",
       "      <td>Una gama muy amplia y un colorido impresionant...</td>\n",
       "      <td>...</td>\n",
       "      <td>💄 Beauty 👗 Fashion and 👯‍♀️ Lifestyle blogger\\...</td>\n",
       "      <td>Perfumerías Primor</td>\n",
       "      <td>True</td>\n",
       "      <td>None</td>\n",
       "      <td>NaN</td>\n",
       "      <td>BEAUTY</td>\n",
       "      <td>NANO</td>\n",
       "      <td>None</td>\n",
       "      <td>N/A</td>\n",
       "      <td>N/A</td>\n",
       "    </tr>\n",
       "    <tr>\n",
       "      <th>4</th>\n",
       "      <td>1463898105857794613</td>\n",
       "      <td>bazardemarisse</td>\n",
       "      <td>GraphImage</td>\n",
       "      <td>False</td>\n",
       "      <td>1879</td>\n",
       "      <td>1696</td>\n",
       "      <td>False</td>\n",
       "      <td>10</td>\n",
       "      <td>76</td>\n",
       "      <td>Las mejores pizzas de Madrid están al lado del...</td>\n",
       "      <td>...</td>\n",
       "      <td>💄 Beauty 👗 Fashion and 👯‍♀️ Lifestyle blogger\\...</td>\n",
       "      <td>essie</td>\n",
       "      <td>True</td>\n",
       "      <td>Kilómetros de Pizza</td>\n",
       "      <td>NaN</td>\n",
       "      <td>BEAUTY</td>\n",
       "      <td>NANO</td>\n",
       "      <td>(28050, España)</td>\n",
       "      <td>N/A</td>\n",
       "      <td>España</td>\n",
       "    </tr>\n",
       "    <tr>\n",
       "      <th>...</th>\n",
       "      <td>...</td>\n",
       "      <td>...</td>\n",
       "      <td>...</td>\n",
       "      <td>...</td>\n",
       "      <td>...</td>\n",
       "      <td>...</td>\n",
       "      <td>...</td>\n",
       "      <td>...</td>\n",
       "      <td>...</td>\n",
       "      <td>...</td>\n",
       "      <td>...</td>\n",
       "      <td>...</td>\n",
       "      <td>...</td>\n",
       "      <td>...</td>\n",
       "      <td>...</td>\n",
       "      <td>...</td>\n",
       "      <td>...</td>\n",
       "      <td>...</td>\n",
       "      <td>...</td>\n",
       "      <td>...</td>\n",
       "      <td>...</td>\n",
       "    </tr>\n",
       "    <tr>\n",
       "      <th>13279</th>\n",
       "      <td>3111938987433797684</td>\n",
       "      <td>vikikacosta</td>\n",
       "      <td>GraphVideo</td>\n",
       "      <td>True</td>\n",
       "      <td>1062361</td>\n",
       "      <td>983</td>\n",
       "      <td>True</td>\n",
       "      <td>59</td>\n",
       "      <td>14286</td>\n",
       "      <td>🦀✅VACACIONES???🙌🏼🎉 Haz este entrenamiento SIN ...</td>\n",
       "      <td>...</td>\n",
       "      <td>🌟Ponte metas, no límites. \\n@entrenavirtual.es...</td>\n",
       "      <td>None</td>\n",
       "      <td>False</td>\n",
       "      <td>None</td>\n",
       "      <td>NaN</td>\n",
       "      <td>FITNESS</td>\n",
       "      <td>MEGA</td>\n",
       "      <td>None</td>\n",
       "      <td>N/A</td>\n",
       "      <td>N/A</td>\n",
       "    </tr>\n",
       "    <tr>\n",
       "      <th>13280</th>\n",
       "      <td>3112105038420076511</td>\n",
       "      <td>vikikacosta</td>\n",
       "      <td>GraphVideo</td>\n",
       "      <td>True</td>\n",
       "      <td>1062361</td>\n",
       "      <td>983</td>\n",
       "      <td>True</td>\n",
       "      <td>131</td>\n",
       "      <td>10653</td>\n",
       "      <td>Irene &amp; Manu 27/05/23 📍Mallorca\\nEl vestido de...</td>\n",
       "      <td>...</td>\n",
       "      <td>🌟Ponte metas, no límites. \\n@entrenavirtual.es...</td>\n",
       "      <td>PERÒ</td>\n",
       "      <td>False</td>\n",
       "      <td>None</td>\n",
       "      <td>NaN</td>\n",
       "      <td>FITNESS</td>\n",
       "      <td>MEGA</td>\n",
       "      <td>None</td>\n",
       "      <td>N/A</td>\n",
       "      <td>N/A</td>\n",
       "    </tr>\n",
       "    <tr>\n",
       "      <th>13281</th>\n",
       "      <td>3112645464515939340</td>\n",
       "      <td>vikikacosta</td>\n",
       "      <td>GraphSidecar</td>\n",
       "      <td>False</td>\n",
       "      <td>1062361</td>\n",
       "      <td>983</td>\n",
       "      <td>True</td>\n",
       "      <td>58</td>\n",
       "      <td>11523</td>\n",
       "      <td>Ayer fue mágico, no lo digo por decir. Irene y...</td>\n",
       "      <td>...</td>\n",
       "      <td>🌟Ponte metas, no límites. \\n@entrenavirtual.es...</td>\n",
       "      <td>Javier Menendez I Entrena Virtual #undiamasund...</td>\n",
       "      <td>True</td>\n",
       "      <td>Mallorca, Islas Baleares, España</td>\n",
       "      <td>NaN</td>\n",
       "      <td>FITNESS</td>\n",
       "      <td>MEGA</td>\n",
       "      <td>(Illes Balears, España)</td>\n",
       "      <td>N/A</td>\n",
       "      <td>España</td>\n",
       "    </tr>\n",
       "    <tr>\n",
       "      <th>13282</th>\n",
       "      <td>3113674384220704610</td>\n",
       "      <td>vikikacosta</td>\n",
       "      <td>GraphVideo</td>\n",
       "      <td>True</td>\n",
       "      <td>1062361</td>\n",
       "      <td>983</td>\n",
       "      <td>True</td>\n",
       "      <td>46</td>\n",
       "      <td>9608</td>\n",
       "      <td>7️⃣👌🏼</td>\n",
       "      <td>...</td>\n",
       "      <td>🌟Ponte metas, no límites. \\n@entrenavirtual.es...</td>\n",
       "      <td>None</td>\n",
       "      <td>False</td>\n",
       "      <td>Mallorca, Islas Baleares, España</td>\n",
       "      <td>NaN</td>\n",
       "      <td>FITNESS</td>\n",
       "      <td>MEGA</td>\n",
       "      <td>(Illes Balears, España)</td>\n",
       "      <td>N/A</td>\n",
       "      <td>España</td>\n",
       "    </tr>\n",
       "    <tr>\n",
       "      <th>13283</th>\n",
       "      <td>3114211179140095816</td>\n",
       "      <td>vikikacosta</td>\n",
       "      <td>GraphVideo</td>\n",
       "      <td>True</td>\n",
       "      <td>1062361</td>\n",
       "      <td>983</td>\n",
       "      <td>True</td>\n",
       "      <td>32</td>\n",
       "      <td>5838</td>\n",
       "      <td>🚀GLÚTEOS ON FIRE SIN MATERIAL🔥 A TRABAJAR LA F...</td>\n",
       "      <td>...</td>\n",
       "      <td>🌟Ponte metas, no límites. \\n@entrenavirtual.es...</td>\n",
       "      <td>None</td>\n",
       "      <td>False</td>\n",
       "      <td>None</td>\n",
       "      <td>NaN</td>\n",
       "      <td>FITNESS</td>\n",
       "      <td>MEGA</td>\n",
       "      <td>None</td>\n",
       "      <td>N/A</td>\n",
       "      <td>N/A</td>\n",
       "    </tr>\n",
       "  </tbody>\n",
       "</table>\n",
       "<p>13284 rows × 29 columns</p>\n",
       "</div>"
      ],
      "text/plain": [
       "                       _id        username      typename  is_video  followers  \\\n",
       "0      1461031291230411282  bazardemarisse    GraphImage     False       1879   \n",
       "1      1461057228236014541  bazardemarisse    GraphImage     False       1879   \n",
       "2      1461626070960120583  bazardemarisse    GraphImage     False       1879   \n",
       "3      1462547320532230958  bazardemarisse    GraphImage     False       1879   \n",
       "4      1463898105857794613  bazardemarisse    GraphImage     False       1879   \n",
       "...                    ...             ...           ...       ...        ...   \n",
       "13279  3111938987433797684     vikikacosta    GraphVideo      True    1062361   \n",
       "13280  3112105038420076511     vikikacosta    GraphVideo      True    1062361   \n",
       "13281  3112645464515939340     vikikacosta  GraphSidecar     False    1062361   \n",
       "13282  3113674384220704610     vikikacosta    GraphVideo      True    1062361   \n",
       "13283  3114211179140095816     vikikacosta    GraphVideo      True    1062361   \n",
       "\n",
       "       following  verified  count_comments  count_likes  \\\n",
       "0           1696     False               1           43   \n",
       "1           1696     False               2           49   \n",
       "2           1696     False               1           61   \n",
       "3           1696     False               6           68   \n",
       "4           1696     False              10           76   \n",
       "...          ...       ...             ...          ...   \n",
       "13279        983      True              59        14286   \n",
       "13280        983      True             131        10653   \n",
       "13281        983      True              58        11523   \n",
       "13282        983      True              46         9608   \n",
       "13283        983      True              32         5838   \n",
       "\n",
       "                                            caption_text  ...  \\\n",
       "0      Son pendrives aunque no lo parezcan y con ello...  ...   \n",
       "1      Hoy hemos conocido un estudio muy interesante ...  ...   \n",
       "2      Celebrando los 25 años de @uriagespain en siti...  ...   \n",
       "3      Una gama muy amplia y un colorido impresionant...  ...   \n",
       "4      Las mejores pizzas de Madrid están al lado del...  ...   \n",
       "...                                                  ...  ...   \n",
       "13279  🦀✅VACACIONES???🙌🏼🎉 Haz este entrenamiento SIN ...  ...   \n",
       "13280  Irene & Manu 27/05/23 📍Mallorca\\nEl vestido de...  ...   \n",
       "13281  Ayer fue mágico, no lo digo por decir. Irene y...  ...   \n",
       "13282                                              7️⃣👌🏼  ...   \n",
       "13283  🚀GLÚTEOS ON FIRE SIN MATERIAL🔥 A TRABAJAR LA F...  ...   \n",
       "\n",
       "                                               biography  \\\n",
       "0      💄 Beauty 👗 Fashion and 👯‍♀️ Lifestyle blogger\\...   \n",
       "1      💄 Beauty 👗 Fashion and 👯‍♀️ Lifestyle blogger\\...   \n",
       "2      💄 Beauty 👗 Fashion and 👯‍♀️ Lifestyle blogger\\...   \n",
       "3      💄 Beauty 👗 Fashion and 👯‍♀️ Lifestyle blogger\\...   \n",
       "4      💄 Beauty 👗 Fashion and 👯‍♀️ Lifestyle blogger\\...   \n",
       "...                                                  ...   \n",
       "13279  🌟Ponte metas, no límites. \\n@entrenavirtual.es...   \n",
       "13280  🌟Ponte metas, no límites. \\n@entrenavirtual.es...   \n",
       "13281  🌟Ponte metas, no límites. \\n@entrenavirtual.es...   \n",
       "13282  🌟Ponte metas, no límites. \\n@entrenavirtual.es...   \n",
       "13283  🌟Ponte metas, no límites. \\n@entrenavirtual.es...   \n",
       "\n",
       "                                   tagged_user_full_name tagged_is_verified  \\\n",
       "0                                           Just Cavalli               True   \n",
       "1                               Cayetana Guillén-Cuervo               True   \n",
       "2                                       Salon des Fleurs              False   \n",
       "3                                    Perfumerías Primor               True   \n",
       "4                                                  essie               True   \n",
       "...                                                  ...                ...   \n",
       "13279                                               None              False   \n",
       "13280                                              PERÒ              False   \n",
       "13281  Javier Menendez I Entrena Virtual #undiamasund...               True   \n",
       "13282                                               None              False   \n",
       "13283                                               None              False   \n",
       "\n",
       "                               location edge_media_to_sponsor_user   sector  \\\n",
       "0                                  None                        NaN   BEAUTY   \n",
       "1                                  None                        NaN   BEAUTY   \n",
       "2                      Salon des Fleurs                        NaN   BEAUTY   \n",
       "3                                  None                        NaN   BEAUTY   \n",
       "4                   Kilómetros de Pizza                        NaN   BEAUTY   \n",
       "...                                 ...                        ...      ...   \n",
       "13279                              None                        NaN  FITNESS   \n",
       "13280                              None                        NaN  FITNESS   \n",
       "13281  Mallorca, Islas Baleares, España                        NaN  FITNESS   \n",
       "13282  Mallorca, Islas Baleares, España                        NaN  FITNESS   \n",
       "13283                              None                        NaN  FITNESS   \n",
       "\n",
       "      influencer_type              geolocation city country  \n",
       "0                NANO                     None  N/A     N/A  \n",
       "1                NANO                     None  N/A     N/A  \n",
       "2                NANO          (116 35, Ελλάς)  N/A   Ελλάς  \n",
       "3                NANO                     None  N/A     N/A  \n",
       "4                NANO          (28050, España)  N/A  España  \n",
       "...               ...                      ...  ...     ...  \n",
       "13279            MEGA                     None  N/A     N/A  \n",
       "13280            MEGA                     None  N/A     N/A  \n",
       "13281            MEGA  (Illes Balears, España)  N/A  España  \n",
       "13282            MEGA  (Illes Balears, España)  N/A  España  \n",
       "13283            MEGA                     None  N/A     N/A  \n",
       "\n",
       "[13284 rows x 29 columns]"
      ]
     },
     "execution_count": 59,
     "metadata": {},
     "output_type": "execute_result"
    }
   ],
   "source": [
    "completed_combined_df"
   ]
  },
  {
   "cell_type": "markdown",
   "id": "813e155b-a389-49cb-8584-ea8f051afcc7",
   "metadata": {},
   "source": [
    "#### taken_at_timestamp"
   ]
  },
  {
   "cell_type": "markdown",
   "id": "6f150559-8655-4ea8-b2eb-ba76c2bab402",
   "metadata": {},
   "source": [
    "Este campo contiene información tanto de la fecha como de la hora. Lo dividimos en 2 campos: Fecha y Hora."
   ]
  },
  {
   "cell_type": "code",
   "execution_count": 60,
   "id": "34cace4d-9b4e-49c0-9f86-641b45a7a705",
   "metadata": {},
   "outputs": [
    {
     "name": "stdout",
     "output_type": "stream",
     "text": [
      "         Date      Hour\n",
      "0  2017-03-01  17:15:23\n",
      "1  2017-03-01  18:06:55\n",
      "2  2017-03-02  12:57:07\n",
      "3  2017-03-03  19:27:28\n",
      "4  2017-03-05  16:11:14\n"
     ]
    }
   ],
   "source": [
    "# Convertimos la columna 'taken_at_timestamp' a tipo cadena\n",
    "completed_combined_df['taken_at_timestamp'] = completed_combined_df['taken_at_timestamp'].astype(str)\n",
    "\n",
    "# Dividimos la columna 'taken_at_timestamp' en 'Fecha' y 'Hora'\n",
    "completed_combined_df[['Date', 'Hour']] = completed_combined_df['taken_at_timestamp'].str.split(' ', 1, expand=True)\n",
    "\n",
    "# Mostramos el resultado\n",
    "print(completed_combined_df[['Date', 'Hour']].head())"
   ]
  },
  {
   "cell_type": "markdown",
   "id": "016ed613-d555-43c1-8e05-92da877b83e3",
   "metadata": {},
   "source": [
    "#### coauthor_producers"
   ]
  },
  {
   "cell_type": "code",
   "execution_count": 61,
   "id": "b34d113a-c64e-41e7-89b7-72b8f417ba71",
   "metadata": {},
   "outputs": [
    {
     "data": {
      "text/plain": [
       "Series([], Name: coauthor_producers, dtype: int64)"
      ]
     },
     "execution_count": 61,
     "metadata": {},
     "output_type": "execute_result"
    }
   ],
   "source": [
    "# En la sección anterior de EDA se ha visto que el campo \"coauthor_producers\" viene siempre informado con una lista vacía [].\n",
    "# No obstante, hay otros campos que cuando no hay información aparece NaN.\n",
    "# Cambiamos por tanto el valor \"[]\" por NaN para dicho campo.\n",
    "completed_combined_df['coauthor_producers'] = completed_combined_df['coauthor_producers'].apply(lambda x: np.NaN if x == '[]' else x)\n",
    "completed_combined_df.coauthor_producers.value_counts()"
   ]
  },
  {
   "cell_type": "code",
   "execution_count": 62,
   "id": "66343efd-128b-4ea5-a57a-7374a131af88",
   "metadata": {},
   "outputs": [
    {
     "name": "stdout",
     "output_type": "stream",
     "text": [
      "0    None\n",
      "1    None\n",
      "2    None\n",
      "3    None\n",
      "4    None\n",
      "Name: coauthor_producers, dtype: object\n"
     ]
    }
   ],
   "source": [
    "# verificamos que el cambio se ha realizado correctamente\n",
    "print(completed_combined_df['coauthor_producers'].head())"
   ]
  },
  {
   "cell_type": "markdown",
   "id": "301fb250-58d4-47f9-af75-1b604e1e8eb0",
   "metadata": {},
   "source": [
    "### Valores nulos"
   ]
  },
  {
   "cell_type": "markdown",
   "id": "2345da28-9fc7-4c6c-9f86-137f6817a37d",
   "metadata": {},
   "source": [
    "Para entrar en contexto, se vuelven a imprimir el número de filas que hay en total"
   ]
  },
  {
   "cell_type": "code",
   "execution_count": 63,
   "id": "7be394e7-88f9-4d44-9bdd-f16368d4bb4c",
   "metadata": {},
   "outputs": [
    {
     "data": {
      "text/plain": [
       "13284"
      ]
     },
     "execution_count": 63,
     "metadata": {},
     "output_type": "execute_result"
    }
   ],
   "source": [
    "len(completed_combined_df.index)"
   ]
  },
  {
   "cell_type": "markdown",
   "id": "4f72987b-b100-4205-b8df-2896ace69823",
   "metadata": {},
   "source": [
    "Se cuentan cuántos valores nulos hay en cada columna"
   ]
  },
  {
   "cell_type": "code",
   "execution_count": 83,
   "id": "c2d89e4f-db6b-4efe-bf18-96be157482db",
   "metadata": {},
   "outputs": [
    {
     "data": {
      "text/plain": [
       "_id                            0\n",
       "username                       0\n",
       "typename                       0\n",
       "followers                      0\n",
       "following                      0\n",
       "verified                       0\n",
       "count_comments                 0\n",
       "count_likes                    0\n",
       "caption_text                   0\n",
       "has_audio                      0\n",
       "comments_disabled              0\n",
       "product_type                7213\n",
       "taken_at_timestamp             0\n",
       "edge_liked_by              13284\n",
       "is_professional_account        0\n",
       "category_name                509\n",
       "biography                      0\n",
       "tagged_user_full_name          0\n",
       "tagged_is_verified             0\n",
       "location                    9680\n",
       "sector                         0\n",
       "influencer_type                0\n",
       "geolocation                10304\n",
       "country                        0\n",
       "Date                           0\n",
       "Hour                           0\n",
       "dtype: int64"
      ]
     },
     "execution_count": 83,
     "metadata": {},
     "output_type": "execute_result"
    }
   ],
   "source": [
    "completed_combined_df.isnull().sum()"
   ]
  },
  {
   "cell_type": "markdown",
   "id": "55bb756f-421d-410e-9138-842371f9aca3",
   "metadata": {},
   "source": [
    "Se calcula el porcentaje presente en cada variable"
   ]
  },
  {
   "cell_type": "code",
   "execution_count": 65,
   "id": "455ebfbf-7024-407a-b96e-3bd7abad3935",
   "metadata": {},
   "outputs": [
    {
     "name": "stdout",
     "output_type": "stream",
     "text": [
      "_id                             0.000000\n",
      "username                        0.000000\n",
      "typename                        0.000000\n",
      "is_video                        0.000000\n",
      "followers                       0.000000\n",
      "following                       0.000000\n",
      "verified                        0.000000\n",
      "count_comments                  0.000000\n",
      "count_likes                     0.000000\n",
      "caption_text                    0.436615\n",
      "has_audio                       0.000000\n",
      "comments_disabled               0.000000\n",
      "product_type                   54.298404\n",
      "gating_info                   100.000000\n",
      "taken_at_timestamp              0.000000\n",
      "edge_liked_by                 100.000000\n",
      "coauthor_producers            100.000000\n",
      "is_professional_account         0.000000\n",
      "category_name                   3.831677\n",
      "biography                       0.000000\n",
      "tagged_user_full_name          51.678711\n",
      "tagged_is_verified              0.000000\n",
      "location                       72.869618\n",
      "edge_media_to_sponsor_user     98.562180\n",
      "sector                          0.000000\n",
      "influencer_type                 0.000000\n",
      "geolocation                    77.566998\n",
      "city                            0.000000\n",
      "country                         0.000000\n",
      "Date                            0.000000\n",
      "Hour                            0.000000\n",
      "dtype: float64\n"
     ]
    }
   ],
   "source": [
    "null_percentage = completed_combined_df.isnull().sum() / len(completed_combined_df) * 100\n",
    "print(null_percentage)"
   ]
  },
  {
   "cell_type": "markdown",
   "id": "2689d66a-97d5-4c14-b7e6-b44e1ce43291",
   "metadata": {},
   "source": [
    "#### Caso 1) Tratamiento de valores nulos: eliminación de campos"
   ]
  },
  {
   "cell_type": "markdown",
   "id": "e8f3dc13-d5dc-415c-a568-4d5c37a3650b",
   "metadata": {},
   "source": [
    "Los campos 'gating_info','edge_liked_by' y 'coauthor_producers' tienen todos sus valores nulos al 100% y el campo 'edge_media_to_sponsor_user' tiene el 98,5% de los valores en nulo por lo que se eliminan ya que no aportan información. Además, se vio anteriormente que sucedía lo mismo con el campo 'city' ya que tiene todos los valores en N/A y no aporta información de valor."
   ]
  },
  {
   "cell_type": "code",
   "execution_count": 66,
   "id": "6eec1233-7b4c-4de6-ad5c-bc5686ba1d2f",
   "metadata": {},
   "outputs": [
    {
     "data": {
      "text/plain": [
       "city\n",
       "N/A    13284\n",
       "dtype: int64"
      ]
     },
     "execution_count": 66,
     "metadata": {},
     "output_type": "execute_result"
    }
   ],
   "source": [
    "#vemos los valores que contiene 'city'\n",
    "completed_combined_df.value_counts('city')"
   ]
  },
  {
   "cell_type": "code",
   "execution_count": 68,
   "id": "1dd27648-34a3-47f7-ba6a-e0cbe285d422",
   "metadata": {
    "collapsed": true,
    "jupyter": {
     "outputs_hidden": true
    },
    "tags": []
   },
   "outputs": [
    {
     "ename": "KeyError",
     "evalue": "\"['gating_info'] not found in axis\"",
     "output_type": "error",
     "traceback": [
      "\u001b[0;31m---------------------------------------------------------------------------\u001b[0m",
      "\u001b[0;31mKeyError\u001b[0m                                  Traceback (most recent call last)",
      "Cell \u001b[0;32mIn[68], line 2\u001b[0m\n\u001b[1;32m      1\u001b[0m \u001b[38;5;66;03m# Eliminamos las siguientes columnas ya que no aportan información\u001b[39;00m\n\u001b[0;32m----> 2\u001b[0m completed_combined_df \u001b[38;5;241m=\u001b[39m \u001b[43mcompleted_combined_df\u001b[49m\u001b[38;5;241;43m.\u001b[39;49m\u001b[43mdrop\u001b[49m\u001b[43m(\u001b[49m\u001b[38;5;124;43m'\u001b[39;49m\u001b[38;5;124;43mgating_info\u001b[39;49m\u001b[38;5;124;43m'\u001b[39;49m\u001b[43m,\u001b[49m\u001b[43m \u001b[49m\u001b[43maxis\u001b[49m\u001b[38;5;241;43m=\u001b[39;49m\u001b[38;5;241;43m1\u001b[39;49m\u001b[43m)\u001b[49m\n\u001b[1;32m      3\u001b[0m completed_combined_df \u001b[38;5;241m=\u001b[39m completed_combined_df\u001b[38;5;241m.\u001b[39mdrop(\u001b[38;5;124m'\u001b[39m\u001b[38;5;124medge_media_to_sponsor_user\u001b[39m\u001b[38;5;124m'\u001b[39m, axis\u001b[38;5;241m=\u001b[39m\u001b[38;5;241m1\u001b[39m)\n\u001b[1;32m      4\u001b[0m completed_combined_df \u001b[38;5;241m=\u001b[39m completed_combined_df\u001b[38;5;241m.\u001b[39mdrop(\u001b[38;5;124m'\u001b[39m\u001b[38;5;124mcoauthor_producers\u001b[39m\u001b[38;5;124m'\u001b[39m, axis\u001b[38;5;241m=\u001b[39m\u001b[38;5;241m1\u001b[39m)\n",
      "File \u001b[0;32m/opt/conda/miniconda3/lib/python3.8/site-packages/pandas/core/frame.py:4308\u001b[0m, in \u001b[0;36mDataFrame.drop\u001b[0;34m(self, labels, axis, index, columns, level, inplace, errors)\u001b[0m\n\u001b[1;32m   4178\u001b[0m \u001b[38;5;28;01mdef\u001b[39;00m \u001b[38;5;21mdrop\u001b[39m(\n\u001b[1;32m   4179\u001b[0m     \u001b[38;5;28mself\u001b[39m,\n\u001b[1;32m   4180\u001b[0m     labels\u001b[38;5;241m=\u001b[39m\u001b[38;5;28;01mNone\u001b[39;00m,\n\u001b[0;32m   (...)\u001b[0m\n\u001b[1;32m   4186\u001b[0m     errors\u001b[38;5;241m=\u001b[39m\u001b[38;5;124m\"\u001b[39m\u001b[38;5;124mraise\u001b[39m\u001b[38;5;124m\"\u001b[39m,\n\u001b[1;32m   4187\u001b[0m ):\n\u001b[1;32m   4188\u001b[0m \u001b[38;5;250m    \u001b[39m\u001b[38;5;124;03m\"\"\"\u001b[39;00m\n\u001b[1;32m   4189\u001b[0m \u001b[38;5;124;03m    Drop specified labels from rows or columns.\u001b[39;00m\n\u001b[1;32m   4190\u001b[0m \n\u001b[0;32m   (...)\u001b[0m\n\u001b[1;32m   4306\u001b[0m \u001b[38;5;124;03m            weight  1.0     0.8\u001b[39;00m\n\u001b[1;32m   4307\u001b[0m \u001b[38;5;124;03m    \"\"\"\u001b[39;00m\n\u001b[0;32m-> 4308\u001b[0m     \u001b[38;5;28;01mreturn\u001b[39;00m \u001b[38;5;28;43msuper\u001b[39;49m\u001b[43m(\u001b[49m\u001b[43m)\u001b[49m\u001b[38;5;241;43m.\u001b[39;49m\u001b[43mdrop\u001b[49m\u001b[43m(\u001b[49m\n\u001b[1;32m   4309\u001b[0m \u001b[43m        \u001b[49m\u001b[43mlabels\u001b[49m\u001b[38;5;241;43m=\u001b[39;49m\u001b[43mlabels\u001b[49m\u001b[43m,\u001b[49m\n\u001b[1;32m   4310\u001b[0m \u001b[43m        \u001b[49m\u001b[43maxis\u001b[49m\u001b[38;5;241;43m=\u001b[39;49m\u001b[43maxis\u001b[49m\u001b[43m,\u001b[49m\n\u001b[1;32m   4311\u001b[0m \u001b[43m        \u001b[49m\u001b[43mindex\u001b[49m\u001b[38;5;241;43m=\u001b[39;49m\u001b[43mindex\u001b[49m\u001b[43m,\u001b[49m\n\u001b[1;32m   4312\u001b[0m \u001b[43m        \u001b[49m\u001b[43mcolumns\u001b[49m\u001b[38;5;241;43m=\u001b[39;49m\u001b[43mcolumns\u001b[49m\u001b[43m,\u001b[49m\n\u001b[1;32m   4313\u001b[0m \u001b[43m        \u001b[49m\u001b[43mlevel\u001b[49m\u001b[38;5;241;43m=\u001b[39;49m\u001b[43mlevel\u001b[49m\u001b[43m,\u001b[49m\n\u001b[1;32m   4314\u001b[0m \u001b[43m        \u001b[49m\u001b[43minplace\u001b[49m\u001b[38;5;241;43m=\u001b[39;49m\u001b[43minplace\u001b[49m\u001b[43m,\u001b[49m\n\u001b[1;32m   4315\u001b[0m \u001b[43m        \u001b[49m\u001b[43merrors\u001b[49m\u001b[38;5;241;43m=\u001b[39;49m\u001b[43merrors\u001b[49m\u001b[43m,\u001b[49m\n\u001b[1;32m   4316\u001b[0m \u001b[43m    \u001b[49m\u001b[43m)\u001b[49m\n",
      "File \u001b[0;32m/opt/conda/miniconda3/lib/python3.8/site-packages/pandas/core/generic.py:4153\u001b[0m, in \u001b[0;36mNDFrame.drop\u001b[0;34m(self, labels, axis, index, columns, level, inplace, errors)\u001b[0m\n\u001b[1;32m   4151\u001b[0m \u001b[38;5;28;01mfor\u001b[39;00m axis, labels \u001b[38;5;129;01min\u001b[39;00m axes\u001b[38;5;241m.\u001b[39mitems():\n\u001b[1;32m   4152\u001b[0m     \u001b[38;5;28;01mif\u001b[39;00m labels \u001b[38;5;129;01mis\u001b[39;00m \u001b[38;5;129;01mnot\u001b[39;00m \u001b[38;5;28;01mNone\u001b[39;00m:\n\u001b[0;32m-> 4153\u001b[0m         obj \u001b[38;5;241m=\u001b[39m \u001b[43mobj\u001b[49m\u001b[38;5;241;43m.\u001b[39;49m\u001b[43m_drop_axis\u001b[49m\u001b[43m(\u001b[49m\u001b[43mlabels\u001b[49m\u001b[43m,\u001b[49m\u001b[43m \u001b[49m\u001b[43maxis\u001b[49m\u001b[43m,\u001b[49m\u001b[43m \u001b[49m\u001b[43mlevel\u001b[49m\u001b[38;5;241;43m=\u001b[39;49m\u001b[43mlevel\u001b[49m\u001b[43m,\u001b[49m\u001b[43m \u001b[49m\u001b[43merrors\u001b[49m\u001b[38;5;241;43m=\u001b[39;49m\u001b[43merrors\u001b[49m\u001b[43m)\u001b[49m\n\u001b[1;32m   4155\u001b[0m \u001b[38;5;28;01mif\u001b[39;00m inplace:\n\u001b[1;32m   4156\u001b[0m     \u001b[38;5;28mself\u001b[39m\u001b[38;5;241m.\u001b[39m_update_inplace(obj)\n",
      "File \u001b[0;32m/opt/conda/miniconda3/lib/python3.8/site-packages/pandas/core/generic.py:4188\u001b[0m, in \u001b[0;36mNDFrame._drop_axis\u001b[0;34m(self, labels, axis, level, errors)\u001b[0m\n\u001b[1;32m   4186\u001b[0m         new_axis \u001b[38;5;241m=\u001b[39m axis\u001b[38;5;241m.\u001b[39mdrop(labels, level\u001b[38;5;241m=\u001b[39mlevel, errors\u001b[38;5;241m=\u001b[39merrors)\n\u001b[1;32m   4187\u001b[0m     \u001b[38;5;28;01melse\u001b[39;00m:\n\u001b[0;32m-> 4188\u001b[0m         new_axis \u001b[38;5;241m=\u001b[39m \u001b[43maxis\u001b[49m\u001b[38;5;241;43m.\u001b[39;49m\u001b[43mdrop\u001b[49m\u001b[43m(\u001b[49m\u001b[43mlabels\u001b[49m\u001b[43m,\u001b[49m\u001b[43m \u001b[49m\u001b[43merrors\u001b[49m\u001b[38;5;241;43m=\u001b[39;49m\u001b[43merrors\u001b[49m\u001b[43m)\u001b[49m\n\u001b[1;32m   4189\u001b[0m     result \u001b[38;5;241m=\u001b[39m \u001b[38;5;28mself\u001b[39m\u001b[38;5;241m.\u001b[39mreindex(\u001b[38;5;241m*\u001b[39m\u001b[38;5;241m*\u001b[39m{axis_name: new_axis})\n\u001b[1;32m   4191\u001b[0m \u001b[38;5;66;03m# Case for non-unique axis\u001b[39;00m\n\u001b[1;32m   4192\u001b[0m \u001b[38;5;28;01melse\u001b[39;00m:\n",
      "File \u001b[0;32m/opt/conda/miniconda3/lib/python3.8/site-packages/pandas/core/indexes/base.py:5592\u001b[0m, in \u001b[0;36mIndex.drop\u001b[0;34m(self, labels, errors)\u001b[0m\n\u001b[1;32m   5590\u001b[0m \u001b[38;5;28;01mif\u001b[39;00m mask\u001b[38;5;241m.\u001b[39many():\n\u001b[1;32m   5591\u001b[0m     \u001b[38;5;28;01mif\u001b[39;00m errors \u001b[38;5;241m!=\u001b[39m \u001b[38;5;124m\"\u001b[39m\u001b[38;5;124mignore\u001b[39m\u001b[38;5;124m\"\u001b[39m:\n\u001b[0;32m-> 5592\u001b[0m         \u001b[38;5;28;01mraise\u001b[39;00m \u001b[38;5;167;01mKeyError\u001b[39;00m(\u001b[38;5;124mf\u001b[39m\u001b[38;5;124m\"\u001b[39m\u001b[38;5;132;01m{\u001b[39;00mlabels[mask]\u001b[38;5;132;01m}\u001b[39;00m\u001b[38;5;124m not found in axis\u001b[39m\u001b[38;5;124m\"\u001b[39m)\n\u001b[1;32m   5593\u001b[0m     indexer \u001b[38;5;241m=\u001b[39m indexer[\u001b[38;5;241m~\u001b[39mmask]\n\u001b[1;32m   5594\u001b[0m \u001b[38;5;28;01mreturn\u001b[39;00m \u001b[38;5;28mself\u001b[39m\u001b[38;5;241m.\u001b[39mdelete(indexer)\n",
      "\u001b[0;31mKeyError\u001b[0m: \"['gating_info'] not found in axis\""
     ]
    }
   ],
   "source": [
    "# Eliminamos las siguientes columnas ya que no aportan información\n",
    "completed_combined_df = completed_combined_df.drop('gating_info', axis=1)\n",
    "completed_combined_df = completed_combined_df.drop('edge_liked_by', axis=1)\n",
    "completed_combined_df = completed_combined_df.drop('edge_media_to_sponsor_user', axis=1)\n",
    "completed_combined_df = completed_combined_df.drop('coauthor_producers', axis=1)\n",
    "completed_combined_df = completed_combined_df.drop('city', axis=1)\n",
    "completed_combined_df.info()"
   ]
  },
  {
   "cell_type": "markdown",
   "id": "6a1543b3-985b-4efe-880a-1937b27d5c53",
   "metadata": {},
   "source": [
    "#### Caso 2) Tratamiento de valores nulos: asignación de valores"
   ]
  },
  {
   "cell_type": "markdown",
   "id": "aea369f7-f7bc-4f4c-a72f-4493a6481b3c",
   "metadata": {
    "tags": []
   },
   "source": [
    "Existen campos para los que el valor nulo, por propia constitución del json, no significa ausencia de datos sino 0 o ninguno. Por ello, adaptamos el valor de dichos campos."
   ]
  },
  {
   "cell_type": "markdown",
   "id": "d4b35c7c-936e-4868-9f35-ff15b35fac6c",
   "metadata": {},
   "source": [
    "##### tagged_user_full_name"
   ]
  },
  {
   "cell_type": "code",
   "execution_count": 69,
   "id": "422463e8-f9e4-4a16-8ffb-42b75bc852b5",
   "metadata": {},
   "outputs": [
    {
     "data": {
      "text/plain": [
       "tagged_user_full_name\n",
       "Gym Virtual✌🏻✊🏻🖐🏻                  206\n",
       "Perfumerías Primor                110\n",
       "                                   101\n",
       "HUDA BEAUTY                         99\n",
       "Reme Navarro Skin&Nutrition         96\n",
       "                                  ... \n",
       "MotoGP™                              1\n",
       "Dra.Alexia | Medicina Estética      1\n",
       "Mounir                               1\n",
       "Dra. Natalia Gennaro                 1\n",
       "🧿𝗔𝗿𝘁𝘂𝗿𝗼 Á𝗹𝘃𝗮𝗿𝗲𝘇-𝗕𝗮𝘂𝘁𝗶𝘀𝘁𝗮🧿           1\n",
       "Length: 1710, dtype: int64"
      ]
     },
     "execution_count": 69,
     "metadata": {},
     "output_type": "execute_result"
    }
   ],
   "source": [
    "#vemos los valores que contiene\n",
    "completed_combined_df.value_counts('tagged_user_full_name')"
   ]
  },
  {
   "cell_type": "code",
   "execution_count": 70,
   "id": "80fe46ab-af10-427b-b43f-ee78686f74ad",
   "metadata": {},
   "outputs": [],
   "source": [
    "# Sustituimos los valores nulos por un 'None' ya que significa que no hay ningún usuario tageado en esa publicación.\n",
    "completed_combined_df['tagged_user_full_name'] = completed_combined_df['tagged_user_full_name'].fillna('None')"
   ]
  },
  {
   "cell_type": "code",
   "execution_count": 71,
   "id": "27961f7d-787a-44ae-be51-ebc5218c568b",
   "metadata": {},
   "outputs": [
    {
     "data": {
      "text/plain": [
       "_id                            0\n",
       "username                       0\n",
       "typename                       0\n",
       "is_video                       0\n",
       "followers                      0\n",
       "following                      0\n",
       "verified                       0\n",
       "count_comments                 0\n",
       "count_likes                    0\n",
       "caption_text                  58\n",
       "has_audio                      0\n",
       "comments_disabled              0\n",
       "product_type                7213\n",
       "taken_at_timestamp             0\n",
       "edge_liked_by              13284\n",
       "is_professional_account        0\n",
       "category_name                509\n",
       "biography                      0\n",
       "tagged_user_full_name          0\n",
       "tagged_is_verified             0\n",
       "location                    9680\n",
       "sector                         0\n",
       "influencer_type                0\n",
       "geolocation                10304\n",
       "country                        0\n",
       "Date                           0\n",
       "Hour                           0\n",
       "dtype: int64"
      ]
     },
     "execution_count": 71,
     "metadata": {},
     "output_type": "execute_result"
    }
   ],
   "source": [
    "# Comprobamos que ahora ese campo no contiene valores nulos\n",
    "completed_combined_df.isnull().sum()"
   ]
  },
  {
   "cell_type": "markdown",
   "id": "6e4103e9-85e5-4af7-9289-e23cb0064ba5",
   "metadata": {},
   "source": [
    "##### Campo 'caption_text'"
   ]
  },
  {
   "cell_type": "markdown",
   "id": "b4d77056-32ba-42f5-9152-afbdcbf20d96",
   "metadata": {},
   "source": [
    "Lo mismo para el campo 'caption_text'"
   ]
  },
  {
   "cell_type": "code",
   "execution_count": 73,
   "id": "7b17425b-37db-45c8-890b-5b19bda0f999",
   "metadata": {},
   "outputs": [],
   "source": [
    "# Sustituimos los valores nulos por un 'None' ya que significa que no hay ningún usuario tageado en esa publicación.\n",
    "completed_combined_df['caption_text'] = completed_combined_df['caption_text'].fillna('None')"
   ]
  },
  {
   "cell_type": "code",
   "execution_count": 74,
   "id": "fe879553-ba8c-46da-bcb2-22ebfe7990d0",
   "metadata": {},
   "outputs": [
    {
     "data": {
      "text/plain": [
       "_id                            0\n",
       "username                       0\n",
       "typename                       0\n",
       "is_video                       0\n",
       "followers                      0\n",
       "following                      0\n",
       "verified                       0\n",
       "count_comments                 0\n",
       "count_likes                    0\n",
       "caption_text                   0\n",
       "has_audio                      0\n",
       "comments_disabled              0\n",
       "product_type                7213\n",
       "taken_at_timestamp             0\n",
       "edge_liked_by              13284\n",
       "is_professional_account        0\n",
       "category_name                509\n",
       "biography                      0\n",
       "tagged_user_full_name          0\n",
       "tagged_is_verified             0\n",
       "location                    9680\n",
       "sector                         0\n",
       "influencer_type                0\n",
       "geolocation                10304\n",
       "country                        0\n",
       "Date                           0\n",
       "Hour                           0\n",
       "dtype: int64"
      ]
     },
     "execution_count": 74,
     "metadata": {},
     "output_type": "execute_result"
    }
   ],
   "source": [
    "completed_combined_df.isnull().sum()"
   ]
  },
  {
   "cell_type": "markdown",
   "id": "855b9091-dfcc-4957-9ea4-00c9baf28b76",
   "metadata": {},
   "source": [
    "En el resto de campos que contienen nulos sí que se entiende que el nulo significa ausencia de datos por lo que no conviene cambiarles el valor.\n",
    "\n",
    "Por otro lado, se cree conveniente no eliminar ningún registro que pueda contener algún campo sin información ya que puede tener otros campos que sí vengan informados y sean útiles de cara al análisis."
   ]
  },
  {
   "cell_type": "markdown",
   "id": "1d7fe2f0-9f1c-4ff2-8838-0d404def7bef",
   "metadata": {},
   "source": [
    "### Valores duplicados"
   ]
  },
  {
   "cell_type": "code",
   "execution_count": 75,
   "id": "41104d7b-1760-42c5-91d4-6611e4f89c92",
   "metadata": {},
   "outputs": [
    {
     "data": {
      "text/plain": [
       "0"
      ]
     },
     "execution_count": 75,
     "metadata": {},
     "output_type": "execute_result"
    }
   ],
   "source": [
    "completed_combined_df.duplicated().sum()"
   ]
  },
  {
   "cell_type": "markdown",
   "id": "61d1547b-f9a6-4fb1-90c9-fc6cf18d4d32",
   "metadata": {},
   "source": [
    "### Valores redundantes"
   ]
  },
  {
   "cell_type": "markdown",
   "id": "75abc9ac-e95a-4e8b-9f84-8e8a744b88f5",
   "metadata": {},
   "source": [
    "#### Campos 'typename' y 'is_video'"
   ]
  },
  {
   "cell_type": "markdown",
   "id": "fb193230-ad6b-4a33-bf23-a6a7d1efc916",
   "metadata": {},
   "source": [
    "Este problema sucede cuando una misma información se proporciona en diferentes variables."
   ]
  },
  {
   "cell_type": "markdown",
   "id": "0bc68f09-552f-4c26-bddf-b13d4ddad5b9",
   "metadata": {},
   "source": [
    "La variable **'typename' indica si es una imagen, video o multipublicación**, por lo que la variable 'is_video' sería redundante, ya que ya nos lo estaría diciendo ya la variable anterior\n",
    "\n",
    "Primero vamos a ver los valores únicos de cada una para comprobar si realmente tienen los mismos valores. Para ello cuando la variable 'is_video' es 'True', la variable 'typename' debería ser 'GraphVideo'"
   ]
  },
  {
   "cell_type": "code",
   "execution_count": 76,
   "id": "e9791b04-2768-4f7b-83a0-f986d299c6a7",
   "metadata": {},
   "outputs": [
    {
     "data": {
      "text/plain": [
       "False    7213\n",
       "True     6071\n",
       "Name: is_video, dtype: int64"
      ]
     },
     "execution_count": 76,
     "metadata": {},
     "output_type": "execute_result"
    }
   ],
   "source": [
    "completed_combined_df['is_video'].value_counts()"
   ]
  },
  {
   "cell_type": "code",
   "execution_count": 77,
   "id": "afda45b7-31e8-4e5c-8ceb-42c0a7607d8d",
   "metadata": {},
   "outputs": [
    {
     "data": {
      "text/plain": [
       "GraphVideo      6071\n",
       "GraphSidecar    4066\n",
       "GraphImage      3147\n",
       "Name: typename, dtype: int64"
      ]
     },
     "execution_count": 77,
     "metadata": {},
     "output_type": "execute_result"
    }
   ],
   "source": [
    "completed_combined_df['typename'].value_counts()"
   ]
  },
  {
   "cell_type": "markdown",
   "id": "4dd3b9c9-194a-4bbe-a51d-f8cbb089b8fc",
   "metadata": {},
   "source": [
    "Como hemos podido comprobar hay 6071 que tienen valor 'True' en la variable 'is_video' y 6071 'typename' con valor 'GraphVideo'. Por lo tanto, podríamos prescindir de la variable 'is_video', que nos da mucha menos información que la otra."
   ]
  },
  {
   "cell_type": "code",
   "execution_count": 78,
   "id": "3d909503-70af-4d18-8988-e8bb5a49641a",
   "metadata": {},
   "outputs": [],
   "source": [
    "completed_combined_df = completed_combined_df.drop('is_video', axis=1)"
   ]
  },
  {
   "cell_type": "markdown",
   "id": "04942ecd-ca6b-47d5-b415-c415d5857b80",
   "metadata": {},
   "source": [
    "#### Campos 'location', 'geolocalizacion' y 'pais'"
   ]
  },
  {
   "cell_type": "markdown",
   "id": "17aa8ba3-328b-4a47-b8b1-a8f73163f5f6",
   "metadata": {},
   "source": [
    "Las variables 'location' y 'geolocalizacion' aportan información no atómica y redundante ya que el campo 'country' se ha creado a partir de éstas. Podemos, por tanto, prescindir de ellas."
   ]
  },
  {
   "cell_type": "code",
   "execution_count": 90,
   "id": "35dffcb3-a002-42c6-af95-87bbf0d55923",
   "metadata": {},
   "outputs": [
    {
     "data": {
      "text/plain": [
       "(Comunidad de Madrid, España)     605\n",
       "(08001, España)                   294\n",
       "(Comunitat Valenciana, España)    275\n",
       "(Canarias, España)                273\n",
       "(Andalucía, España)               192\n",
       "                                 ... \n",
       "(województwo śląskie, Polska)       1\n",
       "(19420, España)                     1\n",
       "(80363, Indonesia)                  1\n",
       "(35560, France)                     1\n",
       "(11500, España)                     1\n",
       "Name: geolocation, Length: 406, dtype: int64"
      ]
     },
     "execution_count": 90,
     "metadata": {},
     "output_type": "execute_result"
    }
   ],
   "source": [
    "completed_combined_df['geolocation'].value_counts()"
   ]
  },
  {
   "cell_type": "code",
   "execution_count": 91,
   "id": "a70a8a37-88c0-4ad6-a05f-aded5088bf57",
   "metadata": {},
   "outputs": [
    {
     "data": {
      "text/plain": [
       "Madrid, Spain                449\n",
       "Barcelona, Spain             268\n",
       "Valencia                     231\n",
       "Tenerife                     118\n",
       "Zaragoza, Spain              111\n",
       "                            ... \n",
       "Masca, Canarias, Spain         1\n",
       "Rio Guadalquivir, Sevilla      1\n",
       "Girona                         1\n",
       "IKEA                           1\n",
       "Novotel Madrid Center          1\n",
       "Name: location, Length: 890, dtype: int64"
      ]
     },
     "execution_count": 91,
     "metadata": {},
     "output_type": "execute_result"
    }
   ],
   "source": [
    "completed_combined_df['location'].value_counts()"
   ]
  },
  {
   "cell_type": "code",
   "execution_count": 92,
   "id": "6aedec84-dd3b-4c7e-831e-88555f0046e5",
   "metadata": {},
   "outputs": [
    {
     "data": {
      "text/plain": [
       "N/A                               10304\n",
       "España                             2306\n",
       "United States                       143\n",
       "الإمارات العربية المتحدة            104\n",
       "France                               83\n",
       "México                               51\n",
       "Italia                               40\n",
       "United Kingdom                       40\n",
       "日本                                   23\n",
       "ދިވެހިރާއްޖެ                         21\n",
       "Andorra                              17\n",
       "Deutschland                          15\n",
       "Portugal                             13\n",
       "Brasil                               12\n",
       "Maroc / ⵍⵎⵖⵔⵉⴱ / المغرب               8\n",
       "Lietuva                               6\n",
       "ประเทศไทย                             6\n",
       "Türkiye                               5\n",
       "Argentina                             5\n",
       "Ελλάς                                 4\n",
       "Ecuador                               4\n",
       "Nederland                             4\n",
       "India                                 4\n",
       "Россия                                4\n",
       "Indonesia                             4\n",
       "Colombia                              4\n",
       "Polska                                4\n",
       "South Africa                          3\n",
       "Magyarország                          3\n",
       "România                               3\n",
       "대한민국                                  3\n",
       "Schweiz/Suisse/Svizzera/Svizra        3\n",
       "България                              2\n",
       "Éire / Ireland                        2\n",
       "Chile                                 2\n",
       "Sverige                               2\n",
       "Australia                             2\n",
       "Moçambique                            2\n",
       "Eesti                                 2\n",
       "Canada                                2\n",
       "Danmark                               2\n",
       "Singapore                             2\n",
       "Србија                                2\n",
       "Cuba                                  1\n",
       "Malta                                 1\n",
       "Moldova                               1\n",
       "Հայաստան                              1\n",
       "Panamá                                1\n",
       "تونس                                  1\n",
       "The Bahamas                           1\n",
       "Perú                                  1\n",
       "Беларусь                              1\n",
       "Shqipëria                             1\n",
       "Venezuela                             1\n",
       "Philippines                           1\n",
       "中国                                    1\n",
       "Name: country, dtype: int64"
      ]
     },
     "execution_count": 92,
     "metadata": {},
     "output_type": "execute_result"
    }
   ],
   "source": [
    "completed_combined_df['country'].value_counts()"
   ]
  },
  {
   "cell_type": "code",
   "execution_count": 93,
   "id": "7f33fdfb-6a03-4e78-a8cf-408a6e40c84a",
   "metadata": {},
   "outputs": [],
   "source": [
    "completed_combined_df = completed_combined_df.drop('geolocation', axis=1)\n",
    "completed_combined_df = completed_combined_df.drop('location', axis=1)"
   ]
  },
  {
   "cell_type": "markdown",
   "id": "284f6ca5-5611-4c3b-8eeb-ee156e4c6fc1",
   "metadata": {},
   "source": [
    "#### Campos 'take_at_timestamp' y 'Date' y 'Hour'"
   ]
  },
  {
   "cell_type": "code",
   "execution_count": 94,
   "id": "7b533328-9b29-4775-a16f-71fe79485424",
   "metadata": {},
   "outputs": [
    {
     "data": {
      "text/plain": [
       "taken_at_timestamp\n",
       "2016-12-05 12:29:23    [2016-12-05]\n",
       "2016-12-14 17:37:15    [2016-12-14]\n",
       "2016-12-17 14:33:27    [2016-12-17]\n",
       "2017-01-14 13:52:41    [2017-01-14]\n",
       "2017-01-23 09:03:24    [2017-01-23]\n",
       "Name: Date, dtype: object"
      ]
     },
     "execution_count": 94,
     "metadata": {},
     "output_type": "execute_result"
    }
   ],
   "source": [
    "completed_combined_df.groupby(\"taken_at_timestamp\")[\"Date\"].unique().head(5)"
   ]
  },
  {
   "cell_type": "code",
   "execution_count": 95,
   "id": "3bcc0a75-3727-4d78-be17-92e91353f029",
   "metadata": {},
   "outputs": [
    {
     "data": {
      "text/plain": [
       "taken_at_timestamp\n",
       "2016-12-05 12:29:23    [12:29:23]\n",
       "2016-12-14 17:37:15    [17:37:15]\n",
       "2016-12-17 14:33:27    [14:33:27]\n",
       "2017-01-14 13:52:41    [13:52:41]\n",
       "2017-01-23 09:03:24    [09:03:24]\n",
       "Name: Hour, dtype: object"
      ]
     },
     "execution_count": 95,
     "metadata": {},
     "output_type": "execute_result"
    }
   ],
   "source": [
    "completed_combined_df.groupby(\"taken_at_timestamp\")[\"Hour\"].unique().head(5)"
   ]
  },
  {
   "cell_type": "markdown",
   "id": "6f578bc2-450f-482e-a394-9d77424f358b",
   "metadata": {},
   "source": [
    "Los campos 'Date' y 'Hour' fueron creados anteriormente a partir del campo 'taken_at_timestamp'. Como el campo 'taken_at_timestamp' proporciona ahora información redundante, se elimina del dataset."
   ]
  },
  {
   "cell_type": "markdown",
   "id": "6745017d-3f43-4176-a5ba-6f9ad0294026",
   "metadata": {},
   "source": [
    "### Renombrar variables"
   ]
  },
  {
   "cell_type": "markdown",
   "id": "a68cb3e5-9daf-40f0-973a-e9365440606e",
   "metadata": {},
   "source": [
    "Los nombres de las columnas actuales son los siguientes:"
   ]
  },
  {
   "cell_type": "code",
   "execution_count": 96,
   "id": "4b6509b7-135b-48a6-b657-473bde12209c",
   "metadata": {},
   "outputs": [
    {
     "data": {
      "text/plain": [
       "['_id',\n",
       " 'username',\n",
       " 'typename',\n",
       " 'followers',\n",
       " 'following',\n",
       " 'verified',\n",
       " 'count_comments',\n",
       " 'count_likes',\n",
       " 'caption_text',\n",
       " 'has_audio',\n",
       " 'comments_disabled',\n",
       " 'product_type',\n",
       " 'taken_at_timestamp',\n",
       " 'is_professional_account',\n",
       " 'category_name',\n",
       " 'biography',\n",
       " 'tagged_user_full_name',\n",
       " 'tagged_is_verified',\n",
       " 'sector',\n",
       " 'influencer_type',\n",
       " 'country',\n",
       " 'Date',\n",
       " 'Hour']"
      ]
     },
     "execution_count": 96,
     "metadata": {},
     "output_type": "execute_result"
    }
   ],
   "source": [
    "column_names = completed_combined_df.columns.tolist()\n",
    "column_names"
   ]
  },
  {
   "cell_type": "markdown",
   "id": "cecb1a1e-a202-4c38-adc0-362e45f88712",
   "metadata": {},
   "source": [
    "La mayoría de los nombres de las variables son intuitivos y descriptivos, pero se renombran las siguientes variables para facilitar la interpretabilidad:"
   ]
  },
  {
   "cell_type": "code",
   "execution_count": 98,
   "id": "73e24253-b161-4e13-9e30-30e8f1a55a5a",
   "metadata": {},
   "outputs": [],
   "source": [
    "completed_combined_df = completed_combined_df.rename(columns={'product_type': 'post_type'})\n",
    "completed_combined_df = completed_combined_df.rename(columns={'taken_at_timestamp': 'timestamp'})"
   ]
  },
  {
   "cell_type": "code",
   "execution_count": 99,
   "id": "7c9672da-e3b4-453b-84bf-12f62bfb8574",
   "metadata": {},
   "outputs": [
    {
     "data": {
      "text/plain": [
       "['_id',\n",
       " 'username',\n",
       " 'typename',\n",
       " 'followers',\n",
       " 'following',\n",
       " 'verified',\n",
       " 'count_comments',\n",
       " 'count_likes',\n",
       " 'caption_text',\n",
       " 'has_audio',\n",
       " 'comments_disabled',\n",
       " 'post_type',\n",
       " 'timestamp',\n",
       " 'is_professional_account',\n",
       " 'category_name',\n",
       " 'biography',\n",
       " 'tagged_user_full_name',\n",
       " 'tagged_is_verified',\n",
       " 'sector',\n",
       " 'influencer_type',\n",
       " 'country',\n",
       " 'Date',\n",
       " 'Hour']"
      ]
     },
     "execution_count": 99,
     "metadata": {},
     "output_type": "execute_result"
    }
   ],
   "source": [
    "new_column_names = completed_combined_df.columns.tolist()\n",
    "new_column_names"
   ]
  },
  {
   "cell_type": "markdown",
   "id": "6ddad169-a7c0-4532-99a5-75245f855154",
   "metadata": {},
   "source": [
    "### Variables nuevas"
   ]
  },
  {
   "cell_type": "markdown",
   "id": "332a237b-4ef0-4fa8-a055-d70889e713f7",
   "metadata": {},
   "source": [
    "#### Hastags"
   ]
  },
  {
   "cell_type": "code",
   "execution_count": 100,
   "id": "42c995f9-d902-4e42-a797-7c2e622d0e25",
   "metadata": {},
   "outputs": [],
   "source": [
    "# Definimos una función para extraer los hashtags de un texto\n",
    "def extract_hastags(text):\n",
    "    hashtags = re.findall(r'#(\\w+)', text)\n",
    "    return hashtags\n",
    "\n",
    "# Aplicamos la función a la columna 'caption_text' y creamos el nuevo campo 'hashtags'\n",
    "completed_combined_df['hashtags'] = completed_combined_df['caption_text'].apply(extract_hastags)\n",
    "\n",
    "# Convertimos las listas en filas separadas\n",
    "df_exploded = completed_combined_df.explode('hashtags')\n"
   ]
  },
  {
   "cell_type": "code",
   "execution_count": 101,
   "id": "456242dd-1aa5-4d6e-893a-7dd4253c538c",
   "metadata": {},
   "outputs": [
    {
     "data": {
      "text/html": [
       "<div>\n",
       "<style scoped>\n",
       "    .dataframe tbody tr th:only-of-type {\n",
       "        vertical-align: middle;\n",
       "    }\n",
       "\n",
       "    .dataframe tbody tr th {\n",
       "        vertical-align: top;\n",
       "    }\n",
       "\n",
       "    .dataframe thead th {\n",
       "        text-align: right;\n",
       "    }\n",
       "</style>\n",
       "<table border=\"1\" class=\"dataframe\">\n",
       "  <thead>\n",
       "    <tr style=\"text-align: right;\">\n",
       "      <th></th>\n",
       "      <th>_id</th>\n",
       "      <th>username</th>\n",
       "      <th>typename</th>\n",
       "      <th>followers</th>\n",
       "      <th>following</th>\n",
       "      <th>verified</th>\n",
       "      <th>count_comments</th>\n",
       "      <th>count_likes</th>\n",
       "      <th>caption_text</th>\n",
       "      <th>has_audio</th>\n",
       "      <th>...</th>\n",
       "      <th>category_name</th>\n",
       "      <th>biography</th>\n",
       "      <th>tagged_user_full_name</th>\n",
       "      <th>tagged_is_verified</th>\n",
       "      <th>sector</th>\n",
       "      <th>influencer_type</th>\n",
       "      <th>country</th>\n",
       "      <th>Date</th>\n",
       "      <th>Hour</th>\n",
       "      <th>hashtags</th>\n",
       "    </tr>\n",
       "  </thead>\n",
       "  <tbody>\n",
       "    <tr>\n",
       "      <th>0</th>\n",
       "      <td>1461031291230411282</td>\n",
       "      <td>bazardemarisse</td>\n",
       "      <td>GraphImage</td>\n",
       "      <td>1879</td>\n",
       "      <td>1696</td>\n",
       "      <td>False</td>\n",
       "      <td>1</td>\n",
       "      <td>43</td>\n",
       "      <td>Son pendrives aunque no lo parezcan y con ello...</td>\n",
       "      <td>False</td>\n",
       "      <td>...</td>\n",
       "      <td>Personal blog</td>\n",
       "      <td>💄 Beauty 👗 Fashion and 👯‍♀️ Lifestyle blogger\\...</td>\n",
       "      <td>Just Cavalli</td>\n",
       "      <td>True</td>\n",
       "      <td>BEAUTY</td>\n",
       "      <td>NANO</td>\n",
       "      <td>N/A</td>\n",
       "      <td>2017-03-01</td>\n",
       "      <td>17:15:23</td>\n",
       "      <td>[guerradependrives, pendrives, beautyblog, fas...</td>\n",
       "    </tr>\n",
       "    <tr>\n",
       "      <th>1</th>\n",
       "      <td>1461057228236014541</td>\n",
       "      <td>bazardemarisse</td>\n",
       "      <td>GraphImage</td>\n",
       "      <td>1879</td>\n",
       "      <td>1696</td>\n",
       "      <td>False</td>\n",
       "      <td>2</td>\n",
       "      <td>49</td>\n",
       "      <td>Hoy hemos conocido un estudio muy interesante ...</td>\n",
       "      <td>False</td>\n",
       "      <td>...</td>\n",
       "      <td>Personal blog</td>\n",
       "      <td>💄 Beauty 👗 Fashion and 👯‍♀️ Lifestyle blogger\\...</td>\n",
       "      <td>Cayetana Guillén-Cuervo</td>\n",
       "      <td>True</td>\n",
       "      <td>BEAUTY</td>\n",
       "      <td>NANO</td>\n",
       "      <td>N/A</td>\n",
       "      <td>2017-03-01</td>\n",
       "      <td>18:06:55</td>\n",
       "      <td>[blogdebelleza, beautyblog, meatrevoaseryo, ni...</td>\n",
       "    </tr>\n",
       "    <tr>\n",
       "      <th>2</th>\n",
       "      <td>1461626070960120583</td>\n",
       "      <td>bazardemarisse</td>\n",
       "      <td>GraphImage</td>\n",
       "      <td>1879</td>\n",
       "      <td>1696</td>\n",
       "      <td>False</td>\n",
       "      <td>1</td>\n",
       "      <td>61</td>\n",
       "      <td>Celebrando los 25 años de @uriagespain en siti...</td>\n",
       "      <td>False</td>\n",
       "      <td>...</td>\n",
       "      <td>Personal blog</td>\n",
       "      <td>💄 Beauty 👗 Fashion and 👯‍♀️ Lifestyle blogger\\...</td>\n",
       "      <td>Salon des Fleurs</td>\n",
       "      <td>False</td>\n",
       "      <td>BEAUTY</td>\n",
       "      <td>NANO</td>\n",
       "      <td>Ελλάς</td>\n",
       "      <td>2017-03-02</td>\n",
       "      <td>12:57:07</td>\n",
       "      <td>[beautyblog, blogdebelleza, uriage, felizcumpl...</td>\n",
       "    </tr>\n",
       "    <tr>\n",
       "      <th>3</th>\n",
       "      <td>1462547320532230958</td>\n",
       "      <td>bazardemarisse</td>\n",
       "      <td>GraphImage</td>\n",
       "      <td>1879</td>\n",
       "      <td>1696</td>\n",
       "      <td>False</td>\n",
       "      <td>6</td>\n",
       "      <td>68</td>\n",
       "      <td>Una gama muy amplia y un colorido impresionant...</td>\n",
       "      <td>False</td>\n",
       "      <td>...</td>\n",
       "      <td>Personal blog</td>\n",
       "      <td>💄 Beauty 👗 Fashion and 👯‍♀️ Lifestyle blogger\\...</td>\n",
       "      <td>Perfumerías Primor</td>\n",
       "      <td>True</td>\n",
       "      <td>BEAUTY</td>\n",
       "      <td>NANO</td>\n",
       "      <td>N/A</td>\n",
       "      <td>2017-03-03</td>\n",
       "      <td>19:27:28</td>\n",
       "      <td>[beautyblog, blogdebelleza, bronxcolors, makeu...</td>\n",
       "    </tr>\n",
       "    <tr>\n",
       "      <th>4</th>\n",
       "      <td>1463898105857794613</td>\n",
       "      <td>bazardemarisse</td>\n",
       "      <td>GraphImage</td>\n",
       "      <td>1879</td>\n",
       "      <td>1696</td>\n",
       "      <td>False</td>\n",
       "      <td>10</td>\n",
       "      <td>76</td>\n",
       "      <td>Las mejores pizzas de Madrid están al lado del...</td>\n",
       "      <td>False</td>\n",
       "      <td>...</td>\n",
       "      <td>Personal blog</td>\n",
       "      <td>💄 Beauty 👗 Fashion and 👯‍♀️ Lifestyle blogger\\...</td>\n",
       "      <td>essie</td>\n",
       "      <td>True</td>\n",
       "      <td>BEAUTY</td>\n",
       "      <td>NANO</td>\n",
       "      <td>España</td>\n",
       "      <td>2017-03-05</td>\n",
       "      <td>16:11:14</td>\n",
       "      <td>[lifestyleblog, lifestyle, restaurantemadrid, ...</td>\n",
       "    </tr>\n",
       "  </tbody>\n",
       "</table>\n",
       "<p>5 rows × 24 columns</p>\n",
       "</div>"
      ],
      "text/plain": [
       "                   _id        username    typename  followers  following  \\\n",
       "0  1461031291230411282  bazardemarisse  GraphImage       1879       1696   \n",
       "1  1461057228236014541  bazardemarisse  GraphImage       1879       1696   \n",
       "2  1461626070960120583  bazardemarisse  GraphImage       1879       1696   \n",
       "3  1462547320532230958  bazardemarisse  GraphImage       1879       1696   \n",
       "4  1463898105857794613  bazardemarisse  GraphImage       1879       1696   \n",
       "\n",
       "   verified  count_comments  count_likes  \\\n",
       "0     False               1           43   \n",
       "1     False               2           49   \n",
       "2     False               1           61   \n",
       "3     False               6           68   \n",
       "4     False              10           76   \n",
       "\n",
       "                                        caption_text  has_audio  ...  \\\n",
       "0  Son pendrives aunque no lo parezcan y con ello...      False  ...   \n",
       "1  Hoy hemos conocido un estudio muy interesante ...      False  ...   \n",
       "2  Celebrando los 25 años de @uriagespain en siti...      False  ...   \n",
       "3  Una gama muy amplia y un colorido impresionant...      False  ...   \n",
       "4  Las mejores pizzas de Madrid están al lado del...      False  ...   \n",
       "\n",
       "   category_name                                          biography  \\\n",
       "0  Personal blog  💄 Beauty 👗 Fashion and 👯‍♀️ Lifestyle blogger\\...   \n",
       "1  Personal blog  💄 Beauty 👗 Fashion and 👯‍♀️ Lifestyle blogger\\...   \n",
       "2  Personal blog  💄 Beauty 👗 Fashion and 👯‍♀️ Lifestyle blogger\\...   \n",
       "3  Personal blog  💄 Beauty 👗 Fashion and 👯‍♀️ Lifestyle blogger\\...   \n",
       "4  Personal blog  💄 Beauty 👗 Fashion and 👯‍♀️ Lifestyle blogger\\...   \n",
       "\n",
       "      tagged_user_full_name  tagged_is_verified  sector influencer_type  \\\n",
       "0              Just Cavalli                True  BEAUTY            NANO   \n",
       "1  Cayetana Guillén-Cuervo                True  BEAUTY            NANO   \n",
       "2          Salon des Fleurs               False  BEAUTY            NANO   \n",
       "3       Perfumerías Primor                True  BEAUTY            NANO   \n",
       "4                     essie                True  BEAUTY            NANO   \n",
       "\n",
       "  country        Date      Hour  \\\n",
       "0     N/A  2017-03-01  17:15:23   \n",
       "1     N/A  2017-03-01  18:06:55   \n",
       "2   Ελλάς  2017-03-02  12:57:07   \n",
       "3     N/A  2017-03-03  19:27:28   \n",
       "4  España  2017-03-05  16:11:14   \n",
       "\n",
       "                                            hashtags  \n",
       "0  [guerradependrives, pendrives, beautyblog, fas...  \n",
       "1  [blogdebelleza, beautyblog, meatrevoaseryo, ni...  \n",
       "2  [beautyblog, blogdebelleza, uriage, felizcumpl...  \n",
       "3  [beautyblog, blogdebelleza, bronxcolors, makeu...  \n",
       "4  [lifestyleblog, lifestyle, restaurantemadrid, ...  \n",
       "\n",
       "[5 rows x 24 columns]"
      ]
     },
     "execution_count": 101,
     "metadata": {},
     "output_type": "execute_result"
    }
   ],
   "source": [
    "# Obtener los valores únicos de 'hashtags' agrupados por 'caption_text'\n",
    "completed_combined_df.head(5)"
   ]
  },
  {
   "cell_type": "markdown",
   "id": "01f82c5d-184b-498c-955f-2094c156fea9",
   "metadata": {},
   "source": [
    "#### Hashtags Beauty"
   ]
  },
  {
   "cell_type": "code",
   "execution_count": 137,
   "id": "38e3a73b-b23d-4d49-b505-27b134e83ce3",
   "metadata": {},
   "outputs": [],
   "source": [
    "# Definimos la lista de palabras clave del sector belleza\n",
    "\n",
    "keywords = [\"makeup\", \"maquilla\", \"contour\", \"contorn\", \"bronzer\", \"glitter\", \"lip\", \"eyeliner\", \"cejas\", \"browlift\", \"beauty\", \"cosmetic\",\n",
    "                  \"dermatolog\", \"pestañas\", \"lashes\", \"belleza\", \"skin\", \"rutin\", \"piel\", \"pelo\", \"uñas\", \"nail\", \"antiedad\", \"antiag\", \"face\",\n",
    "                  \"protectorsolar\", \"sunscreen\", \"cuidado\", \"cabello\", \"haircare\", \"ojeras\", \"darkcircles\", \"gloss\", \"glow\", \"ceramidecapsules\",\n",
    "                  \"ad\", \"publi\", \"colaboracion\", \"EsteePartner\", \"proteccionsolar\", \"natural\", \"motd\", \"clean\", \"care\", \"crueltyfree\", \"glam\",\n",
    "                  \"essential\", \"holistic\", \"byme\", \"ritual\", \"pampering\", \"kbeauty\", \"bblogger\", \"auronic\", \"serum\", \"aloevera\", \"crem\", \"estria\"\n",
    "                  \"gel\",\"bronceador\", \"brill\", \"labios\", \"delineador\", \"levantadocejas\", \"luz\", \"limpi\", \"manicur\", \"pedicur\", \"rostro\", \"facial\",\n",
    "                  \"estetic\", \"hidrata\", \"hydrat\", \"tonific\", \"exfoli\", \"mask\", \"mascarilla\", \"tonic\", \"arrugas\", \"manchas\", \"acne\", \"gran\", \"rosac\",\n",
    "                  \"puntosnegro\", \"poros\", \"rosacea\", \"sensibilidad\", \"flacidez\", \"celuli\", \"tone\", \"wrinkles\",\"spots\", \"pimple\",\"blackhead\", \"pores\",\n",
    "                  \"sensitivity\", \"sagging\",  \"cellulit\", \"stretchmarks\"]\n",
    "\n",
    "\n",
    "def verify_hastags(row):\n",
    "    if row['sector'] == 'BEAUTY':\n",
    "        for keyword in keywords:\n",
    "            if any(re.search(rf\"{keyword}\", hashtag, re.IGNORECASE) for hashtag in row['hashtags']):\n",
    "                return 'Y'\n",
    "        else:\n",
    "            return 'N'\n",
    "    else:\n",
    "        return 'N'  # Devuelve un valor nulo si el sector no es 'BEAUTY'\n",
    "\n",
    "completed_combined_df['hashtag_beauty'] = completed_combined_df.apply(verify_hastags, axis=1)"
   ]
  },
  {
   "cell_type": "code",
   "execution_count": 138,
   "id": "fbcd24f4-1ebc-43ca-b7a5-70536cddabfa",
   "metadata": {},
   "outputs": [
    {
     "data": {
      "text/plain": [
       "N    9761\n",
       "Y    3523\n",
       "Name: hashtag_beauty, dtype: int64"
      ]
     },
     "execution_count": 138,
     "metadata": {},
     "output_type": "execute_result"
    }
   ],
   "source": [
    "completed_combined_df['hashtag_beauty'].value_counts(dropna=False)"
   ]
  },
  {
   "cell_type": "code",
   "execution_count": 139,
   "id": "5f15b659-c831-46d3-bdc0-f64b11890246",
   "metadata": {},
   "outputs": [
    {
     "data": {
      "text/plain": [
       "N    0.734794\n",
       "Y    0.265206\n",
       "Name: hashtag_beauty, dtype: float64"
      ]
     },
     "execution_count": 139,
     "metadata": {},
     "output_type": "execute_result"
    }
   ],
   "source": [
    "completed_combined_df['hashtag_beauty'].value_counts(normalize=True)"
   ]
  },
  {
   "cell_type": "markdown",
   "id": "5c6cfa5a-8ce5-4dcb-89a9-4ef5ab165ca7",
   "metadata": {},
   "source": [
    "#### Hashtags Fitness"
   ]
  },
  {
   "cell_type": "code",
   "execution_count": null,
   "id": "f3ab2353-aeb0-4eb2-acae-e0962eb036f7",
   "metadata": {},
   "outputs": [],
   "source": [
    "# Definimos la lista de palabras clave del sector fitness\n",
    "\n",
    "keywords = [\"fit\", \"workout\", \"entrena\", \"gym\", \"gim\", \"exercise\", \"ejercicio\", \"health\", \"salud\", \"wellness\", \"bienestar\", \"training\",\n",
    "                  \"strength\", \"fuerza\",\"cardio\", \"nutricion\", \"nutrition\", \"diet\", \"body\", \"cuerp\", \"weight\", \"peso\", \"yoga\", \"pilates\", \"run\",\n",
    "                  \"cross\", \"corr\",\"sudor\", \"metas\", \"músculo\", \"active\", \"sweat\", \"goals\", \"progres\", \"muscle\", \"endurance\", \"flexiones\", \"ectomorfo\"\n",
    "                  \"aerobic\", \"bootcamp\", \"calist\", \"conditioning\", \"core\", \"deadlift\", \"levantar\", \"repeticiones\", \"hydrat\", \"routin\", \"mesomorfo\",\n",
    "                  \"flexib\", \"hiit\", \"interval\", \"kettlebell\", \"lift\", \"mobili\", \"plank\", \"plyometrics\", \"sinazúcar\", \"suplement\", \"pullups\",\n",
    "                  \"reps\", \"resist\", \"spin\", \"sports\", \"deportes\", \"sentadillas\", \"squats\", \"stability\", \"stamina\", \"stretch\", \"tone\", \"endomorfo\",\n",
    "                  \"trx\", \"zumba\", \"abs\", \"glute\", \"vegan\", \"keto\", \"paleo\", \"lowcarb\", \"glutenfree\", \"estabilidad\", \"pesas\", \"rutin\", \"grasa\",\n",
    "                  \"organic\", \"protein\", \"detox\", \"cleaneating\", \"eatclean\", \"mealprep\", \"water\", \"estira\", \"bajocarb\", \"singluten\", \"muscul\",\n",
    "                  \"fiber\", \"vitamin\", \"antioxidants\", \"omega3\", \"probiotics\", \"food\", \"comida\", \"come\", \"sana\", \"preparación\", \"receta\", \"tonific\",\n",
    "                  \"plantbased\", \"dairyfree\", \"sugarfree\", \"raw\", \"vegetarian\", \"hidrat\", \"pushups\", \"espalda\", \"pierna\", \"bícep\", \"trícep\", \"pectora\"]\n",
    "\n",
    "def verify_hastags(row):\n",
    "    if row['sector'] == 'FITNESS':\n",
    "        for keyword in keywords:\n",
    "            if any(re.search(rf\"{keyword}\", hashtag, re.IGNORECASE) for hashtag in row['hashtags']):\n",
    "                return 'Y'\n",
    "        else:\n",
    "            return 'N'\n",
    "    else:\n",
    "        return 'N'  # Devuelve un valor nulo si el sector no es 'FITNESS'\n",
    "    \n",
    "completed_combined_df['hashtag_fitness'] = completed_combined_df.apply(verify_hastags, axis=1)\n"
   ]
  },
  {
   "cell_type": "code",
   "execution_count": 141,
   "id": "19935309-2fea-473f-a3ec-7d9607a4fd4d",
   "metadata": {},
   "outputs": [
    {
     "data": {
      "text/plain": [
       "N    0.662301\n",
       "Y    0.337699\n",
       "Name: hashtag_fitness, dtype: float64"
      ]
     },
     "execution_count": 141,
     "metadata": {},
     "output_type": "execute_result"
    }
   ],
   "source": [
    "completed_combined_df['hashtag_fitness'].value_counts(normalize=True)"
   ]
  },
  {
   "cell_type": "markdown",
   "id": "d5ace160-7b73-47bc-b259-7869a488d75e",
   "metadata": {},
   "source": [
    "#### Perimetro"
   ]
  },
  {
   "cell_type": "code",
   "execution_count": 152,
   "id": "f9311dc7-afa2-43fb-bfcf-497b8d3580bf",
   "metadata": {},
   "outputs": [],
   "source": [
    "#Creamos ahora la variable 'perimetro' para identificar todos los registros que se consideran que son publicaciones de contenido \n",
    "#perteneciente a los sectores objeto de estudio.\n",
    "\n",
    "completed_combined_df['perimetro'] = 'N'\n",
    "completed_combined_df.loc[(completed_combined_df['sector'] == 'BEAUTY') & (completed_combined_df['hashtag_beauty'] == 'Y'), 'perimetro'] = 'Y'\n",
    "completed_combined_df.loc[(completed_combined_df['sector'] == 'FITNESS') & (completed_combined_df['hashtag_fitness'] == 'Y'), 'perimetro'] = 'Y'\n"
   ]
  },
  {
   "cell_type": "code",
   "execution_count": 155,
   "id": "aedeef36-a4c2-45ac-b8cc-7c24bd0f5bad",
   "metadata": {},
   "outputs": [
    {
     "data": {
      "text/plain": [
       "Y    0.602906\n",
       "N    0.397094\n",
       "Name: perimetro, dtype: float64"
      ]
     },
     "execution_count": 155,
     "metadata": {},
     "output_type": "execute_result"
    }
   ],
   "source": [
    "completed_combined_df['perimetro'].value_counts(normalize=True)"
   ]
  },
  {
   "cell_type": "markdown",
   "id": "cea33025-b2d9-4a12-88f4-88067aae4c0a",
   "metadata": {},
   "source": [
    "#### Hashtags Publicidad"
   ]
  },
  {
   "cell_type": "code",
   "execution_count": 156,
   "id": "483fe427-75ee-4965-96ff-433b9f0340f6",
   "metadata": {},
   "outputs": [],
   "source": [
    "# Definimos la lista de palabras clave\n",
    "keywords = ['ad', 'publi', 'advertisement', 'colaboracion', 'colab', 'publicidad']\n",
    "\n",
    "# Definimos una función para verificar si alguna palabra clave está presente en el texto\n",
    "def verify_hastags(hashtags):\n",
    "    for keyword in keywords:\n",
    "        if any(re.search(rf\"\\b{keyword}\\b\", hashtag, re.IGNORECASE) for hashtag in hashtags):\n",
    "            return 'Y'\n",
    "    return 'N'\n",
    "\n",
    "# Aplicamos la función a la columna 'hashtags' y creamos el campo 'hashtag_publi'\n",
    "completed_combined_df['hashtag_publi'] = completed_combined_df['caption_text'].apply(lambda x: verify_hastags([hashtag.lower() for hashtag in x.split()]))\n"
   ]
  },
  {
   "cell_type": "code",
   "execution_count": 157,
   "id": "887bffa2-1f80-4165-bb26-5a220624ad2e",
   "metadata": {},
   "outputs": [
    {
     "name": "stdout",
     "output_type": "stream",
     "text": [
      "<class 'pandas.core.frame.DataFrame'>\n",
      "RangeIndex: 13284 entries, 0 to 13283\n",
      "Data columns (total 31 columns):\n",
      " #   Column                   Non-Null Count  Dtype   \n",
      "---  ------                   --------------  -----   \n",
      " 0   _id                      13284 non-null  object  \n",
      " 1   username                 13284 non-null  object  \n",
      " 2   typename                 13284 non-null  category\n",
      " 3   followers                13284 non-null  int64   \n",
      " 4   following                13284 non-null  int64   \n",
      " 5   verified                 13284 non-null  bool    \n",
      " 6   count_comments           13284 non-null  int64   \n",
      " 7   count_likes              13284 non-null  int64   \n",
      " 8   caption_text             13284 non-null  object  \n",
      " 9   has_audio                13284 non-null  bool    \n",
      " 10  comments_disabled        13284 non-null  bool    \n",
      " 11  post_type                6071 non-null   category\n",
      " 12  timestamp                13284 non-null  object  \n",
      " 13  is_professional_account  13284 non-null  bool    \n",
      " 14  category_name            12775 non-null  category\n",
      " 15  biography                13284 non-null  object  \n",
      " 16  tagged_user_full_name    13284 non-null  object  \n",
      " 17  tagged_is_verified       13284 non-null  bool    \n",
      " 18  sector                   13284 non-null  category\n",
      " 19  influencer_type          13284 non-null  category\n",
      " 20  country                  13284 non-null  object  \n",
      " 21  Date                     13284 non-null  object  \n",
      " 22  Hour                     13284 non-null  object  \n",
      " 23  hashtags                 13284 non-null  object  \n",
      " 24  hashtag_beauty           13284 non-null  object  \n",
      " 25  hashtag_fitness          13284 non-null  object  \n",
      " 26  hashtag_publi            13284 non-null  object  \n",
      " 27  engagement_rate_1        13284 non-null  float64 \n",
      " 28  engagement_rate_2        13284 non-null  float64 \n",
      " 29  len_text                 13284 non-null  int64   \n",
      " 30  perimetro                13284 non-null  object  \n",
      "dtypes: bool(5), category(5), float64(2), int64(5), object(14)\n",
      "memory usage: 2.3+ MB\n"
     ]
    }
   ],
   "source": [
    "completed_combined_df.info()"
   ]
  },
  {
   "cell_type": "markdown",
   "id": "ff28dfce-6d49-4e64-999f-65dec0885f45",
   "metadata": {},
   "source": [
    "#### Engagement rate"
   ]
  },
  {
   "cell_type": "markdown",
   "id": "867324a6-45f6-4471-88a9-971313af5601",
   "metadata": {},
   "source": [
    "El engagement rate, o tasa de participación, es una métrica de análisis de redes sociales para medir el nivel de interacción y participación de los seguidores con el contenido publicado por una cuenta o perfil.\n",
    "\n",
    "Se puede calcular como un porcentaje que representa la cantidad de interacciones (como me gusta, comentarios) dividida por el número total de seguidores y multiplicado por 100."
   ]
  },
  {
   "cell_type": "code",
   "execution_count": 158,
   "id": "c061768a-18a8-4ee0-a379-d16ec850cd74",
   "metadata": {},
   "outputs": [],
   "source": [
    "completed_combined_df['engagement_rate_1'] = ((completed_combined_df['count_likes'] + completed_combined_df['count_comments']) / completed_combined_df['followers']) * 100\n",
    "completed_combined_df['engagement_rate_2'] = ((completed_combined_df['count_likes']) / completed_combined_df['followers']) * 100"
   ]
  },
  {
   "cell_type": "code",
   "execution_count": 159,
   "id": "78e2d16d-e642-4a2c-a289-974fc99cc55f",
   "metadata": {},
   "outputs": [
    {
     "data": {
      "text/html": [
       "<div>\n",
       "<style scoped>\n",
       "    .dataframe tbody tr th:only-of-type {\n",
       "        vertical-align: middle;\n",
       "    }\n",
       "\n",
       "    .dataframe tbody tr th {\n",
       "        vertical-align: top;\n",
       "    }\n",
       "\n",
       "    .dataframe thead th {\n",
       "        text-align: right;\n",
       "    }\n",
       "</style>\n",
       "<table border=\"1\" class=\"dataframe\">\n",
       "  <thead>\n",
       "    <tr style=\"text-align: right;\">\n",
       "      <th></th>\n",
       "      <th>_id</th>\n",
       "      <th>username</th>\n",
       "      <th>typename</th>\n",
       "      <th>followers</th>\n",
       "      <th>following</th>\n",
       "      <th>verified</th>\n",
       "      <th>count_comments</th>\n",
       "      <th>count_likes</th>\n",
       "      <th>caption_text</th>\n",
       "      <th>has_audio</th>\n",
       "      <th>...</th>\n",
       "      <th>Date</th>\n",
       "      <th>Hour</th>\n",
       "      <th>hashtags</th>\n",
       "      <th>hashtag_beauty</th>\n",
       "      <th>hashtag_fitness</th>\n",
       "      <th>hashtag_publi</th>\n",
       "      <th>engagement_rate_1</th>\n",
       "      <th>engagement_rate_2</th>\n",
       "      <th>len_text</th>\n",
       "      <th>perimetro</th>\n",
       "    </tr>\n",
       "  </thead>\n",
       "  <tbody>\n",
       "    <tr>\n",
       "      <th>0</th>\n",
       "      <td>1461031291230411282</td>\n",
       "      <td>bazardemarisse</td>\n",
       "      <td>GraphImage</td>\n",
       "      <td>1879</td>\n",
       "      <td>1696</td>\n",
       "      <td>False</td>\n",
       "      <td>1</td>\n",
       "      <td>43</td>\n",
       "      <td>Son pendrives aunque no lo parezcan y con ellos empiezo la #guerradependrives con @anitacamaram. Te apuntas? Sólo tienes que subir los pendrives más originales, estrafalarios, atrevidos, subversivos o que más te gustes que tengas. Y la ganadora se lleva un premio! Empieza la guerraaaaa 💪🏼💪🏼 👓🚬👄🍬#pendrives #beautyblog #fashionblog #blogdebelleza #blogdemoda #lifestyleblog #blogger #momultiopticas #oralb #bellemakeup #justcavalli #it</td>\n",
       "      <td>False</td>\n",
       "      <td>...</td>\n",
       "      <td>2017-03-01</td>\n",
       "      <td>17:15:23</td>\n",
       "      <td>[guerradependrives, pendrives, beautyblog, fashionblog, blogdebelleza, blogdemoda, lifestyleblog, blogger, momultiopticas, oralb, bellemakeup, justcavalli, it]</td>\n",
       "      <td>Y</td>\n",
       "      <td>N</td>\n",
       "      <td>N</td>\n",
       "      <td>2.341671</td>\n",
       "      <td>2.288451</td>\n",
       "      <td>435</td>\n",
       "      <td>Y</td>\n",
       "    </tr>\n",
       "    <tr>\n",
       "      <th>1</th>\n",
       "      <td>1461057228236014541</td>\n",
       "      <td>bazardemarisse</td>\n",
       "      <td>GraphImage</td>\n",
       "      <td>1879</td>\n",
       "      <td>1696</td>\n",
       "      <td>False</td>\n",
       "      <td>2</td>\n",
       "      <td>49</td>\n",
       "      <td>Hoy hemos conocido un estudio muy interesante de @nivea_es sobre la percepción personal y del entorno de las mujeres españolas en torno a la cincuentena. Y todo junto a tres embajadoras de lujo: María Escario, @josetoledoficial y @cayetanagc 💗 #blogdebelleza #beautyblog #meatrevoaseryo #nivea #womencare #skincare #pressday</td>\n",
       "      <td>False</td>\n",
       "      <td>...</td>\n",
       "      <td>2017-03-01</td>\n",
       "      <td>18:06:55</td>\n",
       "      <td>[blogdebelleza, beautyblog, meatrevoaseryo, nivea, womencare, skincare, pressday]</td>\n",
       "      <td>Y</td>\n",
       "      <td>N</td>\n",
       "      <td>N</td>\n",
       "      <td>2.714210</td>\n",
       "      <td>2.607770</td>\n",
       "      <td>324</td>\n",
       "      <td>Y</td>\n",
       "    </tr>\n",
       "    <tr>\n",
       "      <th>2</th>\n",
       "      <td>1461626070960120583</td>\n",
       "      <td>bazardemarisse</td>\n",
       "      <td>GraphImage</td>\n",
       "      <td>1879</td>\n",
       "      <td>1696</td>\n",
       "      <td>False</td>\n",
       "      <td>1</td>\n",
       "      <td>61</td>\n",
       "      <td>Celebrando los 25 años de @uriagespain en sitios bonitos. Felicidades! Y a por otros 25 años más! 👯 🎉🎂 #beautyblog #blogdebelleza #uriage #felizcumpleaños #beauty #beautycare #flowershop #sitiosconencanto #madridlifestyle #madridshopping #happybirthday</td>\n",
       "      <td>False</td>\n",
       "      <td>...</td>\n",
       "      <td>2017-03-02</td>\n",
       "      <td>12:57:07</td>\n",
       "      <td>[beautyblog, blogdebelleza, uriage, felizcumpleaños, beauty, beautycare, flowershop, sitiosconencanto, madridlifestyle, madridshopping, happybirthday]</td>\n",
       "      <td>Y</td>\n",
       "      <td>N</td>\n",
       "      <td>N</td>\n",
       "      <td>3.299627</td>\n",
       "      <td>3.246408</td>\n",
       "      <td>252</td>\n",
       "      <td>Y</td>\n",
       "    </tr>\n",
       "    <tr>\n",
       "      <th>3</th>\n",
       "      <td>1462547320532230958</td>\n",
       "      <td>bazardemarisse</td>\n",
       "      <td>GraphImage</td>\n",
       "      <td>1879</td>\n",
       "      <td>1696</td>\n",
       "      <td>False</td>\n",
       "      <td>6</td>\n",
       "      <td>68</td>\n",
       "      <td>Una gama muy amplia y un colorido impresionante. Así es la nueva firma de maquillaje que llega a España: @bronx_colors. Por ahora sólo está disponible en @pprimor seleccionadas. Cuando pruebes sus productos os lo contaré con todo detalle 🤙🏻💄💅🏼 #beautyblog #blogdebelleza #bronxcolors #makeup #new #igersbeauty #maquillaje #nails #naillacquer #lipstick</td>\n",
       "      <td>False</td>\n",
       "      <td>...</td>\n",
       "      <td>2017-03-03</td>\n",
       "      <td>19:27:28</td>\n",
       "      <td>[beautyblog, blogdebelleza, bronxcolors, makeup, new, igersbeauty, maquillaje, nails, naillacquer, lipstick]</td>\n",
       "      <td>Y</td>\n",
       "      <td>N</td>\n",
       "      <td>N</td>\n",
       "      <td>3.938265</td>\n",
       "      <td>3.618946</td>\n",
       "      <td>351</td>\n",
       "      <td>Y</td>\n",
       "    </tr>\n",
       "    <tr>\n",
       "      <th>4</th>\n",
       "      <td>1463898105857794613</td>\n",
       "      <td>bazardemarisse</td>\n",
       "      <td>GraphImage</td>\n",
       "      <td>1879</td>\n",
       "      <td>1696</td>\n",
       "      <td>False</td>\n",
       "      <td>10</td>\n",
       "      <td>76</td>\n",
       "      <td>Las mejores pizzas de Madrid están al lado del Bernabeu y son de @kilometrosdepizza. Hoy hemos probado la Rolling y La venta. Espectaculares! 😋😋🍕🍕 #lifestyleblog #lifestyle #restaurantemadrid #pizzamadrid #pizza #kilometrosdepizza #italianfood #igersfood #foodiegram #foodies #igersfoodie</td>\n",
       "      <td>False</td>\n",
       "      <td>...</td>\n",
       "      <td>2017-03-05</td>\n",
       "      <td>16:11:14</td>\n",
       "      <td>[lifestyleblog, lifestyle, restaurantemadrid, pizzamadrid, pizza, kilometrosdepizza, italianfood, igersfood, foodiegram, foodies, igersfoodie]</td>\n",
       "      <td>Y</td>\n",
       "      <td>N</td>\n",
       "      <td>N</td>\n",
       "      <td>4.576903</td>\n",
       "      <td>4.044705</td>\n",
       "      <td>288</td>\n",
       "      <td>Y</td>\n",
       "    </tr>\n",
       "  </tbody>\n",
       "</table>\n",
       "<p>5 rows × 31 columns</p>\n",
       "</div>"
      ],
      "text/plain": [
       "                   _id        username    typename  followers  following  \\\n",
       "0  1461031291230411282  bazardemarisse  GraphImage       1879       1696   \n",
       "1  1461057228236014541  bazardemarisse  GraphImage       1879       1696   \n",
       "2  1461626070960120583  bazardemarisse  GraphImage       1879       1696   \n",
       "3  1462547320532230958  bazardemarisse  GraphImage       1879       1696   \n",
       "4  1463898105857794613  bazardemarisse  GraphImage       1879       1696   \n",
       "\n",
       "   verified  count_comments  count_likes  \\\n",
       "0     False               1           43   \n",
       "1     False               2           49   \n",
       "2     False               1           61   \n",
       "3     False               6           68   \n",
       "4     False              10           76   \n",
       "\n",
       "                                                                                                                                                                                                                                                                                                                                                                                                                                          caption_text  \\\n",
       "0  Son pendrives aunque no lo parezcan y con ellos empiezo la #guerradependrives con @anitacamaram. Te apuntas? Sólo tienes que subir los pendrives más originales, estrafalarios, atrevidos, subversivos o que más te gustes que tengas. Y la ganadora se lleva un premio! Empieza la guerraaaaa 💪🏼💪🏼 👓🚬👄🍬#pendrives #beautyblog #fashionblog #blogdebelleza #blogdemoda #lifestyleblog #blogger #momultiopticas #oralb #bellemakeup #justcavalli #it   \n",
       "1                                                                                                                 Hoy hemos conocido un estudio muy interesante de @nivea_es sobre la percepción personal y del entorno de las mujeres españolas en torno a la cincuentena. Y todo junto a tres embajadoras de lujo: María Escario, @josetoledoficial y @cayetanagc 💗 #blogdebelleza #beautyblog #meatrevoaseryo #nivea #womencare #skincare #pressday   \n",
       "2                                                                                                                                                                                         Celebrando los 25 años de @uriagespain en sitios bonitos. Felicidades! Y a por otros 25 años más! 👯 🎉🎂 #beautyblog #blogdebelleza #uriage #felizcumpleaños #beauty #beautycare #flowershop #sitiosconencanto #madridlifestyle #madridshopping #happybirthday   \n",
       "3                                                                                      Una gama muy amplia y un colorido impresionante. Así es la nueva firma de maquillaje que llega a España: @bronx_colors. Por ahora sólo está disponible en @pprimor seleccionadas. Cuando pruebes sus productos os lo contaré con todo detalle 🤙🏻💄💅🏼 #beautyblog #blogdebelleza #bronxcolors #makeup #new #igersbeauty #maquillaje #nails #naillacquer #lipstick   \n",
       "4                                                                                                                                                     Las mejores pizzas de Madrid están al lado del Bernabeu y son de @kilometrosdepizza. Hoy hemos probado la Rolling y La venta. Espectaculares! 😋😋🍕🍕 #lifestyleblog #lifestyle #restaurantemadrid #pizzamadrid #pizza #kilometrosdepizza #italianfood #igersfood #foodiegram #foodies #igersfoodie   \n",
       "\n",
       "   has_audio  ...        Date      Hour  \\\n",
       "0      False  ...  2017-03-01  17:15:23   \n",
       "1      False  ...  2017-03-01  18:06:55   \n",
       "2      False  ...  2017-03-02  12:57:07   \n",
       "3      False  ...  2017-03-03  19:27:28   \n",
       "4      False  ...  2017-03-05  16:11:14   \n",
       "\n",
       "                                                                                                                                                          hashtags  \\\n",
       "0  [guerradependrives, pendrives, beautyblog, fashionblog, blogdebelleza, blogdemoda, lifestyleblog, blogger, momultiopticas, oralb, bellemakeup, justcavalli, it]   \n",
       "1                                                                                [blogdebelleza, beautyblog, meatrevoaseryo, nivea, womencare, skincare, pressday]   \n",
       "2           [beautyblog, blogdebelleza, uriage, felizcumpleaños, beauty, beautycare, flowershop, sitiosconencanto, madridlifestyle, madridshopping, happybirthday]   \n",
       "3                                                     [beautyblog, blogdebelleza, bronxcolors, makeup, new, igersbeauty, maquillaje, nails, naillacquer, lipstick]   \n",
       "4                   [lifestyleblog, lifestyle, restaurantemadrid, pizzamadrid, pizza, kilometrosdepizza, italianfood, igersfood, foodiegram, foodies, igersfoodie]   \n",
       "\n",
       "   hashtag_beauty hashtag_fitness hashtag_publi engagement_rate_1  \\\n",
       "0               Y               N             N          2.341671   \n",
       "1               Y               N             N          2.714210   \n",
       "2               Y               N             N          3.299627   \n",
       "3               Y               N             N          3.938265   \n",
       "4               Y               N             N          4.576903   \n",
       "\n",
       "   engagement_rate_2 len_text perimetro  \n",
       "0           2.288451      435         Y  \n",
       "1           2.607770      324         Y  \n",
       "2           3.246408      252         Y  \n",
       "3           3.618946      351         Y  \n",
       "4           4.044705      288         Y  \n",
       "\n",
       "[5 rows x 31 columns]"
      ]
     },
     "execution_count": 159,
     "metadata": {},
     "output_type": "execute_result"
    }
   ],
   "source": [
    "completed_combined_df.head()"
   ]
  },
  {
   "cell_type": "markdown",
   "id": "9946510f-9a7c-4792-a422-0f033b13d8c6",
   "metadata": {},
   "source": [
    "#### Longitud del texto"
   ]
  },
  {
   "cell_type": "code",
   "execution_count": 160,
   "id": "3a70344d-8419-4802-8539-b518e450799e",
   "metadata": {},
   "outputs": [],
   "source": [
    "completed_combined_df['len_text'] = completed_combined_df['caption_text'].apply(lambda x: len(str(x)))"
   ]
  },
  {
   "cell_type": "code",
   "execution_count": 161,
   "id": "38dd37db-0759-450c-ba86-cbb83e33e277",
   "metadata": {},
   "outputs": [
    {
     "data": {
      "text/html": [
       "<div>\n",
       "<style scoped>\n",
       "    .dataframe tbody tr th:only-of-type {\n",
       "        vertical-align: middle;\n",
       "    }\n",
       "\n",
       "    .dataframe tbody tr th {\n",
       "        vertical-align: top;\n",
       "    }\n",
       "\n",
       "    .dataframe thead th {\n",
       "        text-align: right;\n",
       "    }\n",
       "</style>\n",
       "<table border=\"1\" class=\"dataframe\">\n",
       "  <thead>\n",
       "    <tr style=\"text-align: right;\">\n",
       "      <th></th>\n",
       "      <th>_id</th>\n",
       "      <th>username</th>\n",
       "      <th>typename</th>\n",
       "      <th>followers</th>\n",
       "      <th>following</th>\n",
       "      <th>verified</th>\n",
       "      <th>count_comments</th>\n",
       "      <th>count_likes</th>\n",
       "      <th>caption_text</th>\n",
       "      <th>has_audio</th>\n",
       "      <th>...</th>\n",
       "      <th>Date</th>\n",
       "      <th>Hour</th>\n",
       "      <th>hashtags</th>\n",
       "      <th>hashtag_beauty</th>\n",
       "      <th>hashtag_fitness</th>\n",
       "      <th>hashtag_publi</th>\n",
       "      <th>engagement_rate_1</th>\n",
       "      <th>engagement_rate_2</th>\n",
       "      <th>len_text</th>\n",
       "      <th>perimetro</th>\n",
       "    </tr>\n",
       "  </thead>\n",
       "  <tbody>\n",
       "    <tr>\n",
       "      <th>0</th>\n",
       "      <td>1461031291230411282</td>\n",
       "      <td>bazardemarisse</td>\n",
       "      <td>GraphImage</td>\n",
       "      <td>1879</td>\n",
       "      <td>1696</td>\n",
       "      <td>False</td>\n",
       "      <td>1</td>\n",
       "      <td>43</td>\n",
       "      <td>Son pendrives aunque no lo parezcan y con ellos empiezo la #guerradependrives con @anitacamaram. Te apuntas? Sólo tienes que subir los pendrives más originales, estrafalarios, atrevidos, subversivos o que más te gustes que tengas. Y la ganadora se lleva un premio! Empieza la guerraaaaa 💪🏼💪🏼 👓🚬👄🍬#pendrives #beautyblog #fashionblog #blogdebelleza #blogdemoda #lifestyleblog #blogger #momultiopticas #oralb #bellemakeup #justcavalli #it</td>\n",
       "      <td>False</td>\n",
       "      <td>...</td>\n",
       "      <td>2017-03-01</td>\n",
       "      <td>17:15:23</td>\n",
       "      <td>[guerradependrives, pendrives, beautyblog, fashionblog, blogdebelleza, blogdemoda, lifestyleblog, blogger, momultiopticas, oralb, bellemakeup, justcavalli, it]</td>\n",
       "      <td>Y</td>\n",
       "      <td>N</td>\n",
       "      <td>N</td>\n",
       "      <td>2.341671</td>\n",
       "      <td>2.288451</td>\n",
       "      <td>435</td>\n",
       "      <td>Y</td>\n",
       "    </tr>\n",
       "    <tr>\n",
       "      <th>1</th>\n",
       "      <td>1461057228236014541</td>\n",
       "      <td>bazardemarisse</td>\n",
       "      <td>GraphImage</td>\n",
       "      <td>1879</td>\n",
       "      <td>1696</td>\n",
       "      <td>False</td>\n",
       "      <td>2</td>\n",
       "      <td>49</td>\n",
       "      <td>Hoy hemos conocido un estudio muy interesante de @nivea_es sobre la percepción personal y del entorno de las mujeres españolas en torno a la cincuentena. Y todo junto a tres embajadoras de lujo: María Escario, @josetoledoficial y @cayetanagc 💗 #blogdebelleza #beautyblog #meatrevoaseryo #nivea #womencare #skincare #pressday</td>\n",
       "      <td>False</td>\n",
       "      <td>...</td>\n",
       "      <td>2017-03-01</td>\n",
       "      <td>18:06:55</td>\n",
       "      <td>[blogdebelleza, beautyblog, meatrevoaseryo, nivea, womencare, skincare, pressday]</td>\n",
       "      <td>Y</td>\n",
       "      <td>N</td>\n",
       "      <td>N</td>\n",
       "      <td>2.714210</td>\n",
       "      <td>2.607770</td>\n",
       "      <td>324</td>\n",
       "      <td>Y</td>\n",
       "    </tr>\n",
       "    <tr>\n",
       "      <th>2</th>\n",
       "      <td>1461626070960120583</td>\n",
       "      <td>bazardemarisse</td>\n",
       "      <td>GraphImage</td>\n",
       "      <td>1879</td>\n",
       "      <td>1696</td>\n",
       "      <td>False</td>\n",
       "      <td>1</td>\n",
       "      <td>61</td>\n",
       "      <td>Celebrando los 25 años de @uriagespain en sitios bonitos. Felicidades! Y a por otros 25 años más! 👯 🎉🎂 #beautyblog #blogdebelleza #uriage #felizcumpleaños #beauty #beautycare #flowershop #sitiosconencanto #madridlifestyle #madridshopping #happybirthday</td>\n",
       "      <td>False</td>\n",
       "      <td>...</td>\n",
       "      <td>2017-03-02</td>\n",
       "      <td>12:57:07</td>\n",
       "      <td>[beautyblog, blogdebelleza, uriage, felizcumpleaños, beauty, beautycare, flowershop, sitiosconencanto, madridlifestyle, madridshopping, happybirthday]</td>\n",
       "      <td>Y</td>\n",
       "      <td>N</td>\n",
       "      <td>N</td>\n",
       "      <td>3.299627</td>\n",
       "      <td>3.246408</td>\n",
       "      <td>252</td>\n",
       "      <td>Y</td>\n",
       "    </tr>\n",
       "    <tr>\n",
       "      <th>3</th>\n",
       "      <td>1462547320532230958</td>\n",
       "      <td>bazardemarisse</td>\n",
       "      <td>GraphImage</td>\n",
       "      <td>1879</td>\n",
       "      <td>1696</td>\n",
       "      <td>False</td>\n",
       "      <td>6</td>\n",
       "      <td>68</td>\n",
       "      <td>Una gama muy amplia y un colorido impresionante. Así es la nueva firma de maquillaje que llega a España: @bronx_colors. Por ahora sólo está disponible en @pprimor seleccionadas. Cuando pruebes sus productos os lo contaré con todo detalle 🤙🏻💄💅🏼 #beautyblog #blogdebelleza #bronxcolors #makeup #new #igersbeauty #maquillaje #nails #naillacquer #lipstick</td>\n",
       "      <td>False</td>\n",
       "      <td>...</td>\n",
       "      <td>2017-03-03</td>\n",
       "      <td>19:27:28</td>\n",
       "      <td>[beautyblog, blogdebelleza, bronxcolors, makeup, new, igersbeauty, maquillaje, nails, naillacquer, lipstick]</td>\n",
       "      <td>Y</td>\n",
       "      <td>N</td>\n",
       "      <td>N</td>\n",
       "      <td>3.938265</td>\n",
       "      <td>3.618946</td>\n",
       "      <td>351</td>\n",
       "      <td>Y</td>\n",
       "    </tr>\n",
       "    <tr>\n",
       "      <th>4</th>\n",
       "      <td>1463898105857794613</td>\n",
       "      <td>bazardemarisse</td>\n",
       "      <td>GraphImage</td>\n",
       "      <td>1879</td>\n",
       "      <td>1696</td>\n",
       "      <td>False</td>\n",
       "      <td>10</td>\n",
       "      <td>76</td>\n",
       "      <td>Las mejores pizzas de Madrid están al lado del Bernabeu y son de @kilometrosdepizza. Hoy hemos probado la Rolling y La venta. Espectaculares! 😋😋🍕🍕 #lifestyleblog #lifestyle #restaurantemadrid #pizzamadrid #pizza #kilometrosdepizza #italianfood #igersfood #foodiegram #foodies #igersfoodie</td>\n",
       "      <td>False</td>\n",
       "      <td>...</td>\n",
       "      <td>2017-03-05</td>\n",
       "      <td>16:11:14</td>\n",
       "      <td>[lifestyleblog, lifestyle, restaurantemadrid, pizzamadrid, pizza, kilometrosdepizza, italianfood, igersfood, foodiegram, foodies, igersfoodie]</td>\n",
       "      <td>Y</td>\n",
       "      <td>N</td>\n",
       "      <td>N</td>\n",
       "      <td>4.576903</td>\n",
       "      <td>4.044705</td>\n",
       "      <td>288</td>\n",
       "      <td>Y</td>\n",
       "    </tr>\n",
       "    <tr>\n",
       "      <th>...</th>\n",
       "      <td>...</td>\n",
       "      <td>...</td>\n",
       "      <td>...</td>\n",
       "      <td>...</td>\n",
       "      <td>...</td>\n",
       "      <td>...</td>\n",
       "      <td>...</td>\n",
       "      <td>...</td>\n",
       "      <td>...</td>\n",
       "      <td>...</td>\n",
       "      <td>...</td>\n",
       "      <td>...</td>\n",
       "      <td>...</td>\n",
       "      <td>...</td>\n",
       "      <td>...</td>\n",
       "      <td>...</td>\n",
       "      <td>...</td>\n",
       "      <td>...</td>\n",
       "      <td>...</td>\n",
       "      <td>...</td>\n",
       "      <td>...</td>\n",
       "    </tr>\n",
       "    <tr>\n",
       "      <th>13279</th>\n",
       "      <td>3111938987433797684</td>\n",
       "      <td>vikikacosta</td>\n",
       "      <td>GraphVideo</td>\n",
       "      <td>1062361</td>\n",
       "      <td>983</td>\n",
       "      <td>True</td>\n",
       "      <td>59</td>\n",
       "      <td>14286</td>\n",
       "      <td>🦀✅VACACIONES???🙌🏼🎉 Haz este entrenamiento SIN MATERIAL 🙌🏼❤️ recuerda guardarlo 😄 👌🏼Recomendación: hacer 2-3 rondas de los ejercicios 🚀</td>\n",
       "      <td>True</td>\n",
       "      <td>...</td>\n",
       "      <td>2023-05-27</td>\n",
       "      <td>12:57:31</td>\n",
       "      <td>[]</td>\n",
       "      <td>N</td>\n",
       "      <td>N</td>\n",
       "      <td>N</td>\n",
       "      <td>1.350294</td>\n",
       "      <td>1.344741</td>\n",
       "      <td>134</td>\n",
       "      <td>N</td>\n",
       "    </tr>\n",
       "    <tr>\n",
       "      <th>13280</th>\n",
       "      <td>3112105038420076511</td>\n",
       "      <td>vikikacosta</td>\n",
       "      <td>GraphVideo</td>\n",
       "      <td>1062361</td>\n",
       "      <td>983</td>\n",
       "      <td>True</td>\n",
       "      <td>131</td>\n",
       "      <td>10653</td>\n",
       "      <td>Irene &amp; Manu 27/05/23 📍Mallorca El vestido de mis sueños @oficial_pero</td>\n",
       "      <td>True</td>\n",
       "      <td>...</td>\n",
       "      <td>2023-05-27</td>\n",
       "      <td>18:29:01</td>\n",
       "      <td>[]</td>\n",
       "      <td>N</td>\n",
       "      <td>N</td>\n",
       "      <td>N</td>\n",
       "      <td>1.015098</td>\n",
       "      <td>1.002766</td>\n",
       "      <td>70</td>\n",
       "      <td>N</td>\n",
       "    </tr>\n",
       "    <tr>\n",
       "      <th>13281</th>\n",
       "      <td>3112645464515939340</td>\n",
       "      <td>vikikacosta</td>\n",
       "      <td>GraphSidecar</td>\n",
       "      <td>1062361</td>\n",
       "      <td>983</td>\n",
       "      <td>True</td>\n",
       "      <td>58</td>\n",
       "      <td>11523</td>\n",
       "      <td>Ayer fue mágico, no lo digo por decir. Irene y Manu son personas vitamina, que se esfuerzan por perseguir sus sueños, por difíciles que resulten. Son de esas personas que solo de verlos inspiran, y la boda era un reflejo de ellos. Fue Preciosa. Os deseo toda la felicidad del mindo @nerii_xx @manu_lopezvelez</td>\n",
       "      <td>False</td>\n",
       "      <td>...</td>\n",
       "      <td>2023-05-28</td>\n",
       "      <td>12:17:56</td>\n",
       "      <td>[]</td>\n",
       "      <td>N</td>\n",
       "      <td>N</td>\n",
       "      <td>N</td>\n",
       "      <td>1.090119</td>\n",
       "      <td>1.084660</td>\n",
       "      <td>308</td>\n",
       "      <td>N</td>\n",
       "    </tr>\n",
       "    <tr>\n",
       "      <th>13282</th>\n",
       "      <td>3113674384220704610</td>\n",
       "      <td>vikikacosta</td>\n",
       "      <td>GraphVideo</td>\n",
       "      <td>1062361</td>\n",
       "      <td>983</td>\n",
       "      <td>True</td>\n",
       "      <td>46</td>\n",
       "      <td>9608</td>\n",
       "      <td>7️⃣👌🏼</td>\n",
       "      <td>True</td>\n",
       "      <td>...</td>\n",
       "      <td>2023-05-29</td>\n",
       "      <td>22:24:33</td>\n",
       "      <td>[]</td>\n",
       "      <td>N</td>\n",
       "      <td>N</td>\n",
       "      <td>N</td>\n",
       "      <td>0.908731</td>\n",
       "      <td>0.904401</td>\n",
       "      <td>5</td>\n",
       "      <td>N</td>\n",
       "    </tr>\n",
       "    <tr>\n",
       "      <th>13283</th>\n",
       "      <td>3114211179140095816</td>\n",
       "      <td>vikikacosta</td>\n",
       "      <td>GraphVideo</td>\n",
       "      <td>1062361</td>\n",
       "      <td>983</td>\n",
       "      <td>True</td>\n",
       "      <td>32</td>\n",
       "      <td>5838</td>\n",
       "      <td>🚀GLÚTEOS ON FIRE SIN MATERIAL🔥 A TRABAJAR LA FUERZA 💪🏼</td>\n",
       "      <td>True</td>\n",
       "      <td>...</td>\n",
       "      <td>2023-05-30</td>\n",
       "      <td>16:13:51</td>\n",
       "      <td>[]</td>\n",
       "      <td>N</td>\n",
       "      <td>N</td>\n",
       "      <td>N</td>\n",
       "      <td>0.552543</td>\n",
       "      <td>0.549531</td>\n",
       "      <td>54</td>\n",
       "      <td>N</td>\n",
       "    </tr>\n",
       "  </tbody>\n",
       "</table>\n",
       "<p>13284 rows × 31 columns</p>\n",
       "</div>"
      ],
      "text/plain": [
       "                       _id        username      typename  followers  \\\n",
       "0      1461031291230411282  bazardemarisse    GraphImage       1879   \n",
       "1      1461057228236014541  bazardemarisse    GraphImage       1879   \n",
       "2      1461626070960120583  bazardemarisse    GraphImage       1879   \n",
       "3      1462547320532230958  bazardemarisse    GraphImage       1879   \n",
       "4      1463898105857794613  bazardemarisse    GraphImage       1879   \n",
       "...                    ...             ...           ...        ...   \n",
       "13279  3111938987433797684     vikikacosta    GraphVideo    1062361   \n",
       "13280  3112105038420076511     vikikacosta    GraphVideo    1062361   \n",
       "13281  3112645464515939340     vikikacosta  GraphSidecar    1062361   \n",
       "13282  3113674384220704610     vikikacosta    GraphVideo    1062361   \n",
       "13283  3114211179140095816     vikikacosta    GraphVideo    1062361   \n",
       "\n",
       "       following  verified  count_comments  count_likes  \\\n",
       "0           1696     False               1           43   \n",
       "1           1696     False               2           49   \n",
       "2           1696     False               1           61   \n",
       "3           1696     False               6           68   \n",
       "4           1696     False              10           76   \n",
       "...          ...       ...             ...          ...   \n",
       "13279        983      True              59        14286   \n",
       "13280        983      True             131        10653   \n",
       "13281        983      True              58        11523   \n",
       "13282        983      True              46         9608   \n",
       "13283        983      True              32         5838   \n",
       "\n",
       "                                                                                                                                                                                                                                                                                                                                                                                                                                              caption_text  \\\n",
       "0      Son pendrives aunque no lo parezcan y con ellos empiezo la #guerradependrives con @anitacamaram. Te apuntas? Sólo tienes que subir los pendrives más originales, estrafalarios, atrevidos, subversivos o que más te gustes que tengas. Y la ganadora se lleva un premio! Empieza la guerraaaaa 💪🏼💪🏼 👓🚬👄🍬#pendrives #beautyblog #fashionblog #blogdebelleza #blogdemoda #lifestyleblog #blogger #momultiopticas #oralb #bellemakeup #justcavalli #it   \n",
       "1                                                                                                                     Hoy hemos conocido un estudio muy interesante de @nivea_es sobre la percepción personal y del entorno de las mujeres españolas en torno a la cincuentena. Y todo junto a tres embajadoras de lujo: María Escario, @josetoledoficial y @cayetanagc 💗 #blogdebelleza #beautyblog #meatrevoaseryo #nivea #womencare #skincare #pressday   \n",
       "2                                                                                                                                                                                             Celebrando los 25 años de @uriagespain en sitios bonitos. Felicidades! Y a por otros 25 años más! 👯 🎉🎂 #beautyblog #blogdebelleza #uriage #felizcumpleaños #beauty #beautycare #flowershop #sitiosconencanto #madridlifestyle #madridshopping #happybirthday   \n",
       "3                                                                                          Una gama muy amplia y un colorido impresionante. Así es la nueva firma de maquillaje que llega a España: @bronx_colors. Por ahora sólo está disponible en @pprimor seleccionadas. Cuando pruebes sus productos os lo contaré con todo detalle 🤙🏻💄💅🏼 #beautyblog #blogdebelleza #bronxcolors #makeup #new #igersbeauty #maquillaje #nails #naillacquer #lipstick   \n",
       "4                                                                                                                                                         Las mejores pizzas de Madrid están al lado del Bernabeu y son de @kilometrosdepizza. Hoy hemos probado la Rolling y La venta. Espectaculares! 😋😋🍕🍕 #lifestyleblog #lifestyle #restaurantemadrid #pizzamadrid #pizza #kilometrosdepizza #italianfood #igersfood #foodiegram #foodies #igersfoodie   \n",
       "...                                                                                                                                                                                                                                                                                                                                                                                                                                                    ...   \n",
       "13279                                                                                                                                                                                                                                                                                                               🦀✅VACACIONES???🙌🏼🎉 Haz este entrenamiento SIN MATERIAL 🙌🏼❤️ recuerda guardarlo 😄 👌🏼Recomendación: hacer 2-3 rondas de los ejercicios 🚀   \n",
       "13280                                                                                                                                                                                                                                                                                                                                                                               Irene & Manu 27/05/23 📍Mallorca El vestido de mis sueños @oficial_pero   \n",
       "13281                                                                                                                                 Ayer fue mágico, no lo digo por decir. Irene y Manu son personas vitamina, que se esfuerzan por perseguir sus sueños, por difíciles que resulten. Son de esas personas que solo de verlos inspiran, y la boda era un reflejo de ellos. Fue Preciosa. Os deseo toda la felicidad del mindo @nerii_xx @manu_lopezvelez   \n",
       "13282                                                                                                                                                                                                                                                                                                                                                                                                                                                7️⃣👌🏼   \n",
       "13283                                                                                                                                                                                                                                                                                                                                                                                               🚀GLÚTEOS ON FIRE SIN MATERIAL🔥 A TRABAJAR LA FUERZA 💪🏼   \n",
       "\n",
       "       has_audio  ...        Date      Hour  \\\n",
       "0          False  ...  2017-03-01  17:15:23   \n",
       "1          False  ...  2017-03-01  18:06:55   \n",
       "2          False  ...  2017-03-02  12:57:07   \n",
       "3          False  ...  2017-03-03  19:27:28   \n",
       "4          False  ...  2017-03-05  16:11:14   \n",
       "...          ...  ...         ...       ...   \n",
       "13279       True  ...  2023-05-27  12:57:31   \n",
       "13280       True  ...  2023-05-27  18:29:01   \n",
       "13281      False  ...  2023-05-28  12:17:56   \n",
       "13282       True  ...  2023-05-29  22:24:33   \n",
       "13283       True  ...  2023-05-30  16:13:51   \n",
       "\n",
       "                                                                                                                                                              hashtags  \\\n",
       "0      [guerradependrives, pendrives, beautyblog, fashionblog, blogdebelleza, blogdemoda, lifestyleblog, blogger, momultiopticas, oralb, bellemakeup, justcavalli, it]   \n",
       "1                                                                                    [blogdebelleza, beautyblog, meatrevoaseryo, nivea, womencare, skincare, pressday]   \n",
       "2               [beautyblog, blogdebelleza, uriage, felizcumpleaños, beauty, beautycare, flowershop, sitiosconencanto, madridlifestyle, madridshopping, happybirthday]   \n",
       "3                                                         [beautyblog, blogdebelleza, bronxcolors, makeup, new, igersbeauty, maquillaje, nails, naillacquer, lipstick]   \n",
       "4                       [lifestyleblog, lifestyle, restaurantemadrid, pizzamadrid, pizza, kilometrosdepizza, italianfood, igersfood, foodiegram, foodies, igersfoodie]   \n",
       "...                                                                                                                                                                ...   \n",
       "13279                                                                                                                                                               []   \n",
       "13280                                                                                                                                                               []   \n",
       "13281                                                                                                                                                               []   \n",
       "13282                                                                                                                                                               []   \n",
       "13283                                                                                                                                                               []   \n",
       "\n",
       "       hashtag_beauty hashtag_fitness hashtag_publi engagement_rate_1  \\\n",
       "0                   Y               N             N          2.341671   \n",
       "1                   Y               N             N          2.714210   \n",
       "2                   Y               N             N          3.299627   \n",
       "3                   Y               N             N          3.938265   \n",
       "4                   Y               N             N          4.576903   \n",
       "...               ...             ...           ...               ...   \n",
       "13279               N               N             N          1.350294   \n",
       "13280               N               N             N          1.015098   \n",
       "13281               N               N             N          1.090119   \n",
       "13282               N               N             N          0.908731   \n",
       "13283               N               N             N          0.552543   \n",
       "\n",
       "       engagement_rate_2 len_text perimetro  \n",
       "0               2.288451      435         Y  \n",
       "1               2.607770      324         Y  \n",
       "2               3.246408      252         Y  \n",
       "3               3.618946      351         Y  \n",
       "4               4.044705      288         Y  \n",
       "...                  ...      ...       ...  \n",
       "13279           1.344741      134         N  \n",
       "13280           1.002766       70         N  \n",
       "13281           1.084660      308         N  \n",
       "13282           0.904401        5         N  \n",
       "13283           0.549531       54         N  \n",
       "\n",
       "[13284 rows x 31 columns]"
      ]
     },
     "execution_count": 161,
     "metadata": {},
     "output_type": "execute_result"
    }
   ],
   "source": [
    "completed_combined_df"
   ]
  },
  {
   "cell_type": "markdown",
   "id": "aad5fe71-69a2-4d1d-83f0-4b23f959bcc4",
   "metadata": {},
   "source": [
    "## Almacenamiento en formato CSV"
   ]
  },
  {
   "cell_type": "markdown",
   "id": "44c744b4-3231-405a-9200-4c1d7e3f8098",
   "metadata": {},
   "source": [
    "En la sección anterior ya se dispone de todo lo necesario para obtener un dataframe final que posea todos los datos que se desean extraer del Datalake, así que a continuación se presenta como salvar estos datos a un formato CSV."
   ]
  },
  {
   "cell_type": "markdown",
   "id": "064313c8-3f25-4217-a8fc-0b9e1c73c06e",
   "metadata": {},
   "source": [
    "La elección de este tipo de fichero se debe **a que en el futuro serán visualizados los datos en PowerBI** y para evitar cualquier problema en la carga de la información se ha optado por una extesión con la que se acostumbre a trabajar en esta herramienta"
   ]
  },
  {
   "cell_type": "code",
   "execution_count": 162,
   "id": "0f3a5f16-8eb6-41ad-bdc0-7a935859a585",
   "metadata": {},
   "outputs": [],
   "source": [
    "# Especificamos la ruta de destino en GCS\n",
    "BUCKET_NAME = 'unir_bucket_tfm'\n",
    "PROJECT_ID = 'tfminfluencers'\n",
    "DESTINATION_FOLDER = 'TABLA_FINAL'\n",
    "DESTINATION_FILE = 'completed_combined_df.csv'\n",
    "DESTINATION_PATH = f'{BUCKET_NAME}/{DESTINATION_FOLDER}/{DESTINATION_FILE}'"
   ]
  },
  {
   "cell_type": "code",
   "execution_count": 163,
   "id": "5156a546-064f-45c8-9ecc-67039e9a91ab",
   "metadata": {},
   "outputs": [
    {
     "name": "stdout",
     "output_type": "stream",
     "text": [
      "Archivo CSV guardado correctamente en GCS.\n"
     ]
    }
   ],
   "source": [
    "# Configuramos las opciones de visualización para mostrar el contenido completo\n",
    "pd.set_option('display.max_colwidth', None)\n",
    "\n",
    "# Reemplazamos los saltos de línea y caracteres especiales en el texto\n",
    "completed_combined_df['caption_text'] = completed_combined_df['caption_text'].str.replace('\\n', ' ')\n",
    "completed_combined_df['caption_text'] = completed_combined_df['caption_text'].str.replace('\\r', ' ')\n",
    "completed_combined_df['caption_text'] = completed_combined_df['caption_text'].str.replace(';', ',')\n",
    "\n",
    "# Reemplazamos los saltos de línea en el campo \"biography\"\n",
    "completed_combined_df['biography'] = completed_combined_df['biography'].str.replace('\\n', ' ')\n",
    "\n",
    "\n",
    "# Guardamos el DataFrame en un archivo CSV localmente\n",
    "completed_combined_df.to_csv(DESTINATION_FILE, index=False, quoting=csv.QUOTE_ALL, encoding='utf-8-sig', escapechar='\\\\')\n",
    "\n",
    "# Crear una instancia del sistema de archivos de GCS\n",
    "fs = gcsfs.GCSFileSystem(project=PROJECT_ID)\n",
    "\n",
    "# Mover el archivo CSV al bucket y carpeta deseada\n",
    "with fs.open(DESTINATION_PATH, 'wb') as f:\n",
    "    with open(DESTINATION_FILE, 'rb') as local_file:\n",
    "        f.write(local_file.read())\n",
    "\n",
    "# Eliminar el archivo local después de moverlo a GCS\n",
    "os.remove(DESTINATION_FILE)\n",
    "\n",
    "print(\"Archivo CSV guardado correctamente en GCS.\")"
   ]
  },
  {
   "cell_type": "markdown",
   "id": "371f5181-7e4e-4c7d-ad2a-27e06ddf41f0",
   "metadata": {},
   "source": [
    "## Crear tabla en Big Query a partir de CSV"
   ]
  },
  {
   "cell_type": "code",
   "execution_count": 150,
   "id": "db5d9f7d-19a6-4038-bc4c-bc32600c10b9",
   "metadata": {},
   "outputs": [],
   "source": [
    "# !pip install bigquery"
   ]
  },
  {
   "cell_type": "code",
   "execution_count": 164,
   "id": "2c310adf-c5ca-404e-be24-b74f687ded6b",
   "metadata": {},
   "outputs": [
    {
     "name": "stdout",
     "output_type": "stream",
     "text": [
      "Se ha creado el dataset 'influencer_post_table' en BigQuery.\n",
      "Se ha cargado el archivo CSV en la tabla 'completed_combined_df' en BigQuery.\n"
     ]
    }
   ],
   "source": [
    "from google.cloud import bigquery\n",
    "\n",
    "# Especificamos los valores\n",
    "DATASET_ID = 'influencer_post_table'\n",
    "FILE_NAME = f'{DESTINATION_FOLDER}/{DESTINATION_FILE}'\n",
    "TABLE_ID = 'completed_combined_df'\n",
    "\n",
    "# Creamos el dataset en BigQuery\n",
    "client = bigquery.Client(project=PROJECT_ID)\n",
    "dataset_ref = client.dataset(DATASET_ID)\n",
    "dataset = bigquery.Dataset(dataset_ref)\n",
    "dataset.location = 'US'  # Especifica la ubicación del dataset\n",
    "\n",
    "dataset = client.create_dataset(dataset, exists_ok=True)\n",
    "print(f\"Se ha creado el dataset '{DATASET_ID}' en BigQuery.\")\n",
    "\n",
    "# Cargamos el archivo CSV en una nueva tabla\n",
    "table_ref = dataset_ref.table(TABLE_ID)\n",
    "job_config = bigquery.LoadJobConfig(\n",
    "    source_format=bigquery.SourceFormat.CSV,\n",
    "    skip_leading_rows=1,\n",
    "    autodetect=True,\n",
    ")\n",
    "\n",
    "uri = f\"gs://{BUCKET_NAME}/{FILE_NAME}\"\n",
    "load_job = client.load_table_from_uri(uri, table_ref, job_config=job_config)\n",
    "\n",
    "load_job.result()  # Esperamos a que se complete la carga\n",
    "\n",
    "print(f\"Se ha cargado el archivo CSV en la tabla '{TABLE_ID}' en BigQuery.\")"
   ]
  },
  {
   "cell_type": "code",
   "execution_count": 133,
   "id": "0a3041a3-10eb-4bd4-a816-121ea456e2d9",
   "metadata": {},
   "outputs": [
    {
     "name": "stdout",
     "output_type": "stream",
     "text": [
      "<class 'pandas.core.frame.DataFrame'>\n",
      "RangeIndex: 13284 entries, 0 to 13283\n",
      "Data columns (total 30 columns):\n",
      " #   Column                   Non-Null Count  Dtype   \n",
      "---  ------                   --------------  -----   \n",
      " 0   _id                      13284 non-null  object  \n",
      " 1   username                 13284 non-null  object  \n",
      " 2   typename                 13284 non-null  category\n",
      " 3   followers                13284 non-null  int64   \n",
      " 4   following                13284 non-null  int64   \n",
      " 5   verified                 13284 non-null  bool    \n",
      " 6   count_comments           13284 non-null  int64   \n",
      " 7   count_likes              13284 non-null  int64   \n",
      " 8   caption_text             13284 non-null  object  \n",
      " 9   has_audio                13284 non-null  bool    \n",
      " 10  comments_disabled        13284 non-null  bool    \n",
      " 11  post_type                6071 non-null   category\n",
      " 12  timestamp                13284 non-null  object  \n",
      " 13  is_professional_account  13284 non-null  bool    \n",
      " 14  category_name            12775 non-null  category\n",
      " 15  biography                13284 non-null  object  \n",
      " 16  tagged_user_full_name    13284 non-null  object  \n",
      " 17  tagged_is_verified       13284 non-null  bool    \n",
      " 18  sector                   13284 non-null  category\n",
      " 19  influencer_type          13284 non-null  category\n",
      " 20  country                  13284 non-null  object  \n",
      " 21  Date                     13284 non-null  object  \n",
      " 22  Hour                     13284 non-null  object  \n",
      " 23  hashtags                 13284 non-null  object  \n",
      " 24  hashtag_beauty           10208 non-null  object  \n",
      " 25  hashtag_fitness          13284 non-null  object  \n",
      " 26  hashtag_publi            13284 non-null  object  \n",
      " 27  engagement_rate_1        13284 non-null  float64 \n",
      " 28  engagement_rate_2        13284 non-null  float64 \n",
      " 29  len_text                 13284 non-null  int64   \n",
      "dtypes: bool(5), category(5), float64(2), int64(5), object(13)\n",
      "memory usage: 2.2+ MB\n"
     ]
    }
   ],
   "source": [
    "completed_combined_df.info()"
   ]
  },
  {
   "cell_type": "code",
   "execution_count": null,
   "id": "4cdca432-e6d7-4e62-80a7-4e143371de76",
   "metadata": {},
   "outputs": [],
   "source": []
  }
 ],
 "metadata": {
  "kernelspec": {
   "display_name": "Python 3",
   "language": "python",
   "name": "python3"
  },
  "language_info": {
   "codemirror_mode": {
    "name": "ipython",
    "version": 3
   },
   "file_extension": ".py",
   "mimetype": "text/x-python",
   "name": "python",
   "nbconvert_exporter": "python",
   "pygments_lexer": "ipython3",
   "version": "3.8.15"
  }
 },
 "nbformat": 4,
 "nbformat_minor": 5
}